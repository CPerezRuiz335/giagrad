{
 "cells": [
  {
   "cell_type": "code",
   "execution_count": 1,
   "id": "d08f0289",
   "metadata": {},
   "outputs": [],
   "source": [
    "import urllib.request\n",
    "import gzip\n",
    "import numpy as np\n",
    "from tqdm import trange\n",
    "\n",
    "from giagrad import Tensor\n",
    "import giagrad.nn as nn\n",
    "import giagrad.optim as optim \n",
    "from giagrad.display import draw_dot\n",
    "\n",
    "from collections import OrderedDict\n",
    "\n",
    "from typing import List"
   ]
  },
  {
   "cell_type": "markdown",
   "id": "f3469127",
   "metadata": {},
   "source": [
    "## Load data"
   ]
  },
  {
   "cell_type": "code",
   "execution_count": 2,
   "id": "9056e1fc",
   "metadata": {},
   "outputs": [
    {
     "name": "stdout",
     "output_type": "stream",
     "text": [
      "(60000, 28, 28)\n",
      "(10000, 28, 28)\n"
     ]
    }
   ],
   "source": [
    "def fetch(url, type_data = None):\n",
    "    # Extract the dataset from the compressed file\n",
    "    with gzip.open(urllib.request.urlopen(url)) as f:\n",
    "        if type_data == 'label':\n",
    "            data = np.frombuffer(f.read(), np.uint8, offset=8)\n",
    "        else:\n",
    "            data = np.frombuffer(f.read(), np.uint8, offset=16).reshape(-1, 28, 28)\n",
    "    return data\n",
    "\n",
    "X_train_all = fetch(\"http://yann.lecun.com/exdb/mnist/train-images-idx3-ubyte.gz\")\n",
    "Y_train_all = fetch(\"http://yann.lecun.com/exdb/mnist/train-labels-idx1-ubyte.gz\", 'label')\n",
    "X_test_all = fetch(\"http://yann.lecun.com/exdb/mnist/t10k-images-idx3-ubyte.gz\")\n",
    "Y_test_all = fetch(\"http://yann.lecun.com/exdb/mnist/t10k-labels-idx1-ubyte.gz\", 'label')\n",
    "\n",
    "print(X_train_all.shape)\n",
    "print(X_test_all.shape)"
   ]
  },
  {
   "cell_type": "markdown",
   "id": "a9a6bc6b",
   "metadata": {},
   "source": [
    "### Resize and reshape"
   ]
  },
  {
   "cell_type": "code",
   "execution_count": 3,
   "id": "11bba953",
   "metadata": {},
   "outputs": [],
   "source": [
    "n_train = 5000\n",
    "n_test = 250\n",
    "\n",
    "# Every row is a flattened image\n",
    "X_train = Tensor(X_train_all[:n_train].astype(np.float32)).unsqueeze(axis=1)\n",
    "Y_train = Tensor(Y_train_all[:n_train])\n",
    "\n",
    "X_test = Tensor(X_test_all[:n_test].astype(np.float32)).unsqueeze(axis=1)\n",
    "Y_test = Tensor(Y_test_all[:n_test])"
   ]
  },
  {
   "cell_type": "markdown",
   "id": "f55af135",
   "metadata": {},
   "source": [
    "## CNN"
   ]
  },
  {
   "cell_type": "markdown",
   "id": "1dfdd846",
   "metadata": {},
   "source": [
    "### Model Creation"
   ]
  },
  {
   "cell_type": "code",
   "execution_count": 5,
   "id": "f8d5c415",
   "metadata": {},
   "outputs": [],
   "source": [
    "class Model(nn.Module):\n",
    "    def __init__(self):\n",
    "        super().__init__()\n",
    "        self.conv1 = nn.Conv2D(\n",
    "            out_channels=16,\n",
    "            kernel_size=(2,2),\n",
    "            padding='same',\n",
    "        ) \n",
    "        self.conv2 = nn.Conv2D(\n",
    "            out_channels=16,\n",
    "            kernel_size=(2,2),\n",
    "            paddin='same'\n",
    "        ) \n",
    "        self.linear1 = nn.Linear(\n",
    "            in_features=16,\n",
    "            out_features=64\n",
    "        )\n",
    "        self.linear2 = nn.Linear(\n",
    "            in_features=64,\n",
    "            out_features=10\n",
    "        )\n",
    "        \n",
    "#         self.dropout = nn.Dropout(p=0.4)\n",
    "        \n",
    "    def __call__(self, x):\n",
    "        x = self.conv1(x).relu()\n",
    "        x = self.conv2(x).relu()\n",
    "#         x = self.dropout(x)\n",
    "        x = x.max(axis=(-2, -1)) # global max pooling\n",
    "        x = self.linear1(x).relu()\n",
    "#         x = self.dropout(x)\n",
    "        return self.linear2(x)\n"
   ]
  },
  {
   "cell_type": "code",
   "execution_count": 6,
   "id": "449dec33",
   "metadata": {},
   "outputs": [
    {
     "name": "stdout",
     "output_type": "stream",
     "text": [
      "Model\n",
      "\tconv1: Conv2D(16, kernel_size=(2, 2), stride=(1, 1), dilation=(1, 1), padding=same, bias=True)\n",
      "\tconv2: Conv2D(16, kernel_size=(2, 2), stride=(1, 1), dilation=(1, 1), padding=(0, 0), bias=True)\n",
      "\tlinear1: Layer(in=16, out=64, bias=True)\n",
      "\tlinear2: Layer(in=64, out=10, bias=True)\n"
     ]
    }
   ],
   "source": [
    "model = Model()\n",
    "print(model)"
   ]
  },
  {
   "cell_type": "markdown",
   "id": "ed9f9478",
   "metadata": {},
   "source": [
    "### Training"
   ]
  },
  {
   "cell_type": "code",
   "execution_count": 7,
   "id": "da69636a",
   "metadata": {},
   "outputs": [],
   "source": [
    "criterion = nn.CrossEntropyLoss(reduction='mean')\n",
    "optimizer = optim.Adam(\n",
    "    model.parameters(),\n",
    "    lr=0.0001,\n",
    "    amsgrad=True\n",
    ")"
   ]
  },
  {
   "cell_type": "code",
   "execution_count": 8,
   "id": "08982e50",
   "metadata": {},
   "outputs": [
    {
     "name": "stderr",
     "output_type": "stream",
     "text": [
      "loss: 29.804119110107422:   4%|▋                 | 2/50 [00:20<08:07, 10.16s/it]\n"
     ]
    },
    {
     "ename": "KeyboardInterrupt",
     "evalue": "",
     "output_type": "error",
     "traceback": [
      "\u001b[0;31m---------------------------------------------------------------------------\u001b[0m",
      "\u001b[0;31mKeyboardInterrupt\u001b[0m                         Traceback (most recent call last)",
      "Cell \u001b[0;32mIn [8], line 13\u001b[0m\n\u001b[1;32m     11\u001b[0m loss \u001b[38;5;241m=\u001b[39m criterion(output, Y_train)\n\u001b[1;32m     12\u001b[0m \u001b[38;5;66;03m# Backpropagate\u001b[39;00m\n\u001b[0;32m---> 13\u001b[0m \u001b[43mloss\u001b[49m\u001b[38;5;241;43m.\u001b[39;49m\u001b[43mbackward\u001b[49m\u001b[43m(\u001b[49m\u001b[43m)\u001b[49m\n\u001b[1;32m     14\u001b[0m \u001b[38;5;66;03m# Update weights\u001b[39;00m\n\u001b[1;32m     15\u001b[0m optimizer\u001b[38;5;241m.\u001b[39mstep()\n",
      "File \u001b[0;32m~/Documentos/UPC/PROYECTOS/giagrad/giagrad/tensor.py:128\u001b[0m, in \u001b[0;36mTensor.backward\u001b[0;34m(self, retain_graph)\u001b[0m\n\u001b[1;32m    126\u001b[0m \u001b[38;5;28mself\u001b[39m\u001b[38;5;241m.\u001b[39mgrad \u001b[38;5;241m=\u001b[39m np\u001b[38;5;241m.\u001b[39mones_like(\u001b[38;5;28mself\u001b[39m\u001b[38;5;241m.\u001b[39mdata) \u001b[38;5;66;03m# dL/dL = 1\u001b[39;00m\n\u001b[1;32m    127\u001b[0m \u001b[38;5;28;01mfor\u001b[39;00m tensor \u001b[38;5;129;01min\u001b[39;00m \u001b[38;5;28mreversed\u001b[39m(topo):\n\u001b[0;32m--> 128\u001b[0m     \u001b[43mtensor\u001b[49m\u001b[38;5;241;43m.\u001b[39;49m\u001b[43mfn\u001b[49m\u001b[38;5;241;43m.\u001b[39;49m\u001b[43mbackward\u001b[49m\u001b[43m(\u001b[49m\u001b[43mtensor\u001b[49m\u001b[38;5;241;43m.\u001b[39;49m\u001b[43mgrad\u001b[49m\u001b[43m)\u001b[49m\n\u001b[1;32m    129\u001b[0m     \u001b[38;5;28;01mif\u001b[39;00m \u001b[38;5;129;01mnot\u001b[39;00m retain_graph: \n\u001b[1;32m    130\u001b[0m         tensor\u001b[38;5;241m.\u001b[39mfn \u001b[38;5;241m=\u001b[39m \u001b[38;5;28;01mNone\u001b[39;00m \n",
      "File \u001b[0;32m~/Documentos/UPC/PROYECTOS/giagrad/giagrad/reductionops.py:56\u001b[0m, in \u001b[0;36mMinMax.backward\u001b[0;34m(self, partial)\u001b[0m\n\u001b[1;32m     54\u001b[0m p, minmax \u001b[38;5;241m=\u001b[39m \u001b[38;5;28mself\u001b[39m\u001b[38;5;241m.\u001b[39mparents[\u001b[38;5;241m0\u001b[39m], \u001b[38;5;28mself\u001b[39m\u001b[38;5;241m.\u001b[39mminmax\n\u001b[1;32m     55\u001b[0m \u001b[38;5;28;01mif\u001b[39;00m p\u001b[38;5;241m.\u001b[39mrequires_grad:\n\u001b[0;32m---> 56\u001b[0m     mask \u001b[38;5;241m=\u001b[39m \u001b[43m(\u001b[49m\u001b[43mp\u001b[49m\u001b[38;5;241;43m.\u001b[39;49m\u001b[43mdata\u001b[49m\u001b[43m \u001b[49m\u001b[38;5;241;43m==\u001b[39;49m\u001b[43m \u001b[49m\u001b[43mexpand\u001b[49m\u001b[43m(\u001b[49m\u001b[43mminmax\u001b[49m\u001b[43m,\u001b[49m\u001b[43m \u001b[49m\u001b[43mp\u001b[49m\u001b[38;5;241;43m.\u001b[39;49m\u001b[43mshape\u001b[49m\u001b[43m,\u001b[49m\u001b[43m \u001b[49m\u001b[38;5;28;43mself\u001b[39;49m\u001b[38;5;241;43m.\u001b[39;49m\u001b[43maxis\u001b[49m\u001b[43m)\u001b[49m\u001b[43m)\u001b[49m\u001b[38;5;241;43m.\u001b[39;49m\u001b[43mastype\u001b[49m\u001b[43m(\u001b[49m\u001b[38;5;28;43mint\u001b[39;49m\u001b[43m)\u001b[49m\n\u001b[1;32m     57\u001b[0m     p\u001b[38;5;241m.\u001b[39mgrad \u001b[38;5;241m+\u001b[39m\u001b[38;5;241m=\u001b[39m expand(partial, p\u001b[38;5;241m.\u001b[39mshape, \u001b[38;5;28mself\u001b[39m\u001b[38;5;241m.\u001b[39maxis) \u001b[38;5;241m*\u001b[39m (mask \u001b[38;5;241m/\u001b[39m mask\u001b[38;5;241m.\u001b[39msum(axis\u001b[38;5;241m=\u001b[39m\u001b[38;5;28mself\u001b[39m\u001b[38;5;241m.\u001b[39maxis, keepdims\u001b[38;5;241m=\u001b[39m\u001b[38;5;28;01mTrue\u001b[39;00m))\n",
      "\u001b[0;31mKeyboardInterrupt\u001b[0m: "
     ]
    }
   ],
   "source": [
    "EPOCHS = 50\n",
    "\n",
    "model.train()\n",
    "\n",
    "for ite in (prog_bar := trange(EPOCHS)):\n",
    "    # Zero gradient \n",
    "    optimizer.zero_grad() \n",
    "    # Pass data through the network\n",
    "    output = model(X_train)\n",
    "    # Calculate loss\n",
    "    loss = criterion(output, Y_train)\n",
    "    # Backpropagate\n",
    "    loss.backward()\n",
    "    # Update weights\n",
    "    optimizer.step()\n",
    "\n",
    "    prog_bar.set_description(f\"loss: {loss.data}\")"
   ]
  },
  {
   "cell_type": "markdown",
   "id": "2a8eb553",
   "metadata": {},
   "source": [
    "### Evaluation"
   ]
  },
  {
   "cell_type": "code",
   "execution_count": 8,
   "id": "4c381e82",
   "metadata": {},
   "outputs": [
    {
     "name": "stdout",
     "output_type": "stream",
     "text": [
      "train accuracy: tensor: 9.4 fn: Mul %\n",
      "test accuracy: tensor: 5.6000004 fn: Mul %\n"
     ]
    }
   ],
   "source": [
    "model.eval()\n",
    "\n",
    "print(f'train accuracy: {(model(X_train).softmax(axis=1).data.argmax(axis=1) == Y_train).mean() * 100} %')\n",
    "print(f'test accuracy: {(model(X_test).softmax(axis=1).data.argmax(axis=1) == Y_test).mean() * 100} %')"
   ]
  },
  {
   "cell_type": "markdown",
   "id": "59d94a77",
   "metadata": {},
   "source": [
    "## PyTorch"
   ]
  },
  {
   "cell_type": "code",
   "execution_count": 9,
   "id": "b1ae6fcd",
   "metadata": {},
   "outputs": [],
   "source": [
    "import torch \n",
    "import torch.nn as nn\n",
    "import torch.nn.functional as F\n",
    "import torch.optim as optim"
   ]
  },
  {
   "cell_type": "code",
   "execution_count": 10,
   "id": "d0c0eae5",
   "metadata": {},
   "outputs": [],
   "source": [
    "X_train = torch.from_numpy(X_train.data.copy())\n",
    "Y_train = torch.from_numpy(Y_train.data.copy())\n",
    "\n",
    "X_test = torch.from_numpy(X_test.data.copy())\n",
    "Y_test = torch.from_numpy(Y_test.data.copy())"
   ]
  },
  {
   "cell_type": "code",
   "execution_count": 13,
   "id": "6a247d60",
   "metadata": {},
   "outputs": [],
   "source": [
    "class Model(nn.Module):\n",
    "    def __init__(self):\n",
    "        super().__init__()\n",
    "        self.conv1 = nn.LazyConv2d(\n",
    "            out_channels=16,\n",
    "            kernel_size=(2,2),\n",
    "            padding='same'\n",
    "        ) \n",
    "        self.conv2 = nn.LazyConv2d(\n",
    "            out_channels=16,\n",
    "            kernel_size=(2,2),\n",
    "            padding='same'\n",
    "        ) \n",
    "        \n",
    "        self.linear1 = nn.Linear(\n",
    "            in_features=16,\n",
    "            out_features=64\n",
    "        )\n",
    "        self.linear2 = nn.Linear(\n",
    "            in_features=64,\n",
    "            out_features=10\n",
    "        )\n",
    "        \n",
    "#         self.dropout = nn.Dropout(p=0.4)\n",
    "        \n",
    "    def __call__(self, x):\n",
    "        x = F.relu(self.conv1(x))\n",
    "        x = F.relu(self.conv2(x))\n",
    "#         x = self.dropout(x)\n",
    "        x = x.reshape(*x.shape[0:2], -1)\n",
    "        x = torch.max(x, dim=-1)[0] # global max pooling\n",
    "        x = F.relu(self.linear1(x))\n",
    "#         x = self.dropout(x)\n",
    "        return self.linear2(x)"
   ]
  },
  {
   "cell_type": "code",
   "execution_count": 14,
   "id": "323b9f9b",
   "metadata": {},
   "outputs": [
    {
     "name": "stdout",
     "output_type": "stream",
     "text": [
      "Model(\n",
      "  (conv1): LazyConv2d(0, 16, kernel_size=(2, 2), stride=(1, 1), padding=same)\n",
      "  (conv2): LazyConv2d(0, 16, kernel_size=(2, 2), stride=(1, 1), padding=same)\n",
      "  (linear1): Linear(in_features=16, out_features=64, bias=True)\n",
      "  (linear2): Linear(in_features=64, out_features=10, bias=True)\n",
      ")\n"
     ]
    },
    {
     "name": "stderr",
     "output_type": "stream",
     "text": [
      "/home/charlie/Entornos/pyIAA-GIA/lib/python3.10/site-packages/torch/nn/modules/lazy.py:180: UserWarning: Lazy modules are a new feature under heavy development so changes to the API or functionality can happen at any moment.\n",
      "  warnings.warn('Lazy modules are a new feature under heavy development '\n"
     ]
    }
   ],
   "source": [
    "model = Model()\n",
    "print(model)"
   ]
  },
  {
   "cell_type": "code",
   "execution_count": 15,
   "id": "2c851712",
   "metadata": {},
   "outputs": [],
   "source": [
    "criterion = nn.CrossEntropyLoss(reduction='mean')\n",
    "optimizer = optim.Adam(\n",
    "    model.parameters(),\n",
    "    lr=0.0001,\n",
    "    amsgrad=True\n",
    ")"
   ]
  },
  {
   "cell_type": "code",
   "execution_count": 16,
   "id": "674cca82",
   "metadata": {},
   "outputs": [
    {
     "name": "stderr",
     "output_type": "stream",
     "text": [
      "  0%|                                                    | 0/50 [00:00<?, ?it/s]/home/charlie/Entornos/pyIAA-GIA/lib/python3.10/site-packages/torch/nn/modules/conv.py:459: UserWarning: Using padding='same' with even kernel lengths and odd dilation may require a zero-padded copy of the input be created (Triggered internally at ../aten/src/ATen/native/Convolution.cpp:895.)\n",
      "  return F.conv2d(input, weight, bias, self.stride,\n",
      "loss: 4.277514934539795: 100%|██████████████████| 50/50 [00:44<00:00,  1.12it/s]\n"
     ]
    }
   ],
   "source": [
    "EPOCHS = 50\n",
    "\n",
    "model.train()\n",
    "\n",
    "for ite in (prog_bar := trange(EPOCHS)):\n",
    "    # Zero gradient \n",
    "    optimizer.zero_grad() \n",
    "    # Pass data through the network\n",
    "    output = model(X_train)\n",
    "    # Calculate loss\n",
    "    loss = criterion(output, Y_train)\n",
    "    # Backpropagate\n",
    "    loss.backward()\n",
    "    # Update weights\n",
    "    optimizer.step()\n",
    "\n",
    "    prog_bar.set_description(f\"loss: {loss.data}\")"
   ]
  },
  {
   "cell_type": "code",
   "execution_count": 15,
   "id": "f4c9cd4d",
   "metadata": {},
   "outputs": [
    {
     "name": "stdout",
     "output_type": "stream",
     "text": [
      "train accuracy: 10.5 %\n",
      "test accuracy: 4.8 %\n"
     ]
    }
   ],
   "source": [
    "model.eval()\n",
    "\n",
    "print(f'train accuracy: {(F.softmax(model(X_train), dim=1).argmax(dim=1) == Y_train).double().mean() * 100} %')\n",
    "print(f'test accuracy: {(F.softmax(model(X_test), dim=1).argmax(dim=1) == Y_test).double().mean() * 100} %')"
   ]
  },
  {
   "cell_type": "code",
   "execution_count": null,
   "id": "42d49abf",
   "metadata": {},
   "outputs": [],
   "source": []
  }
 ],
 "metadata": {
  "kernelspec": {
   "display_name": "Python 3 (ipykernel)",
   "language": "python",
   "name": "python3"
  },
  "language_info": {
   "codemirror_mode": {
    "name": "ipython",
    "version": 3
   },
   "file_extension": ".py",
   "mimetype": "text/x-python",
   "name": "python",
   "nbconvert_exporter": "python",
   "pygments_lexer": "ipython3",
   "version": "3.10.6"
  }
 },
 "nbformat": 4,
 "nbformat_minor": 5
}
