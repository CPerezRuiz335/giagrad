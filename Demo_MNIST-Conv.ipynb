{
 "cells": [
  {
   "cell_type": "code",
   "execution_count": 1,
   "id": "d08f0289",
   "metadata": {},
   "outputs": [],
   "source": [
    "import urllib.request\n",
    "import gzip\n",
    "import numpy as np\n",
    "from tqdm import trange\n",
    "\n",
    "from giagrad import Tensor\n",
    "import giagrad.nn as nn\n",
    "import giagrad.optim as optim \n",
    "from giagrad.display import draw_dot\n",
    "\n",
    "from collections import OrderedDict\n",
    "\n",
    "from typing import List"
   ]
  },
  {
   "cell_type": "markdown",
   "id": "f3469127",
   "metadata": {},
   "source": [
    "## Load data"
   ]
  },
  {
   "cell_type": "code",
   "execution_count": 2,
   "id": "9056e1fc",
   "metadata": {},
   "outputs": [
    {
     "name": "stdout",
     "output_type": "stream",
     "text": [
      "(60000, 28, 28)\n",
      "(10000, 28, 28)\n"
     ]
    }
   ],
   "source": [
    "def fetch(url, type_data = None):\n",
    "    # Extract the dataset from the compressed file\n",
    "    with gzip.open(urllib.request.urlopen(url)) as f:\n",
    "        if type_data == 'label':\n",
    "            data = np.frombuffer(f.read(), np.uint8, offset=8)\n",
    "        else:\n",
    "            data = np.frombuffer(f.read(), np.uint8, offset=16).reshape(-1, 28, 28)\n",
    "    return data\n",
    "\n",
    "X_train_all = fetch(\"http://yann.lecun.com/exdb/mnist/train-images-idx3-ubyte.gz\")\n",
    "Y_train_all = fetch(\"http://yann.lecun.com/exdb/mnist/train-labels-idx1-ubyte.gz\", 'label')\n",
    "X_test_all = fetch(\"http://yann.lecun.com/exdb/mnist/t10k-images-idx3-ubyte.gz\")\n",
    "Y_test_all = fetch(\"http://yann.lecun.com/exdb/mnist/t10k-labels-idx1-ubyte.gz\", 'label')\n",
    "\n",
    "print(X_train_all.shape)\n",
    "print(X_test_all.shape)"
   ]
  },
  {
   "cell_type": "markdown",
   "id": "a9a6bc6b",
   "metadata": {},
   "source": [
    "### Resize and reshape"
   ]
  },
  {
   "cell_type": "code",
   "execution_count": 3,
   "id": "11bba953",
   "metadata": {},
   "outputs": [],
   "source": [
    "n_train = 5000\n",
    "n_test = 250\n",
    "\n",
    "# Every row is a flattened image\n",
    "X_train = Tensor(X_train_all[:n_train].reshape(-1, 28*28))\n",
    "Y_train = Tensor(Y_train_all[:n_train])\n",
    "\n",
    "X_test = Tensor(X_test_all[:n_test].reshape(-1, 28*28))\n",
    "Y_test = Tensor(Y_test_all[:n_test])"
   ]
  },
  {
   "cell_type": "markdown",
   "id": "f55af135",
   "metadata": {},
   "source": [
    "## CNN"
   ]
  },
  {
   "cell_type": "markdown",
   "id": "1dfdd846",
   "metadata": {},
   "source": [
    "### Model Creation"
   ]
  },
  {
   "cell_type": "code",
   "execution_count": 4,
   "id": "f8d5c415",
   "metadata": {},
   "outputs": [],
   "source": [
    "class Model(nn.Module):\n",
    "    def __init__(self):\n",
    "        super().__init__()\n",
    "        self.linear1 = nn.Linear(\n",
    "            in_features=28*28,\n",
    "            out_features=28*28\n",
    "        )\n",
    "        self.linear2 = nn.Linear(\n",
    "            in_features=28*28,\n",
    "            out_features=28*28\n",
    "        )\n",
    "        \n",
    "        self.linear3 = nn.Linear(\n",
    "            in_features=28*28,\n",
    "            out_features=28*28\n",
    "        )\n",
    "        \n",
    "        self.linear4 = nn.Linear(\n",
    "            in_features=28*28,\n",
    "            out_features=28*28\n",
    "        )\n",
    "        \n",
    "        self.linear5 = nn.Linear(\n",
    "            in_features=28*28,\n",
    "            out_features=10\n",
    "        )\n",
    "        \n",
    "#         self.dropout = nn.Dropout(p=0.4)\n",
    "        \n",
    "    def __call__(self, x):\n",
    "        x = self.linear1(x).relu()\n",
    "        x = self.linear2(x).relu()\n",
    "        x = self.linear3(x).relu()\n",
    "        x = self.linear4(x).relu()\n",
    "        return self.linear5(x)\n"
   ]
  },
  {
   "cell_type": "code",
   "execution_count": 5,
   "id": "449dec33",
   "metadata": {},
   "outputs": [
    {
     "name": "stdout",
     "output_type": "stream",
     "text": [
      "Model\n",
      "\tlinear1: Layer(in_features=784, out_features=784, bias=True)\n",
      "\tlinear2: Layer(in_features=784, out_features=784, bias=True)\n",
      "\tlinear3: Layer(in_features=784, out_features=784, bias=True)\n",
      "\tlinear4: Layer(in_features=784, out_features=784, bias=True)\n",
      "\tlinear5: Layer(in_features=784, out_features=10, bias=True)\n"
     ]
    }
   ],
   "source": [
    "model = Model()\n",
    "print(model)"
   ]
  },
  {
   "cell_type": "markdown",
   "id": "ed9f9478",
   "metadata": {},
   "source": [
    "### Training"
   ]
  },
  {
   "cell_type": "code",
   "execution_count": 6,
   "id": "da69636a",
   "metadata": {},
   "outputs": [],
   "source": [
    "criterion = nn.CrossEntropyLoss(reduction='mean')\n",
    "optimizer = optim.Adam(\n",
    "    model.parameters(),\n",
    "    lr=0.0001,\n",
    "    amsgrad=True\n",
    ")"
   ]
  },
  {
   "cell_type": "code",
   "execution_count": 7,
   "id": "08982e50",
   "metadata": {},
   "outputs": [
    {
     "name": "stderr",
     "output_type": "stream",
     "text": [
      "loss: 2.7076754570007324: 100%|█████████████████| 50/50 [00:48<00:00,  1.03it/s]\n"
     ]
    }
   ],
   "source": [
    "EPOCHS = 50\n",
    "\n",
    "model.train()\n",
    "\n",
    "for ite in (prog_bar := trange(EPOCHS)):\n",
    "    # Zero gradient \n",
    "    optimizer.zero_grad() \n",
    "    # Pass data through the network\n",
    "    output = model(X_train)\n",
    "    # Calculate loss\n",
    "    loss = criterion(output, Y_train)\n",
    "    # Backpropagate\n",
    "    loss.backward()\n",
    "    # Update weights\n",
    "    optimizer.step()\n",
    "\n",
    "    prog_bar.set_description(f\"loss: {loss.data}\")"
   ]
  },
  {
   "cell_type": "markdown",
   "id": "2a8eb553",
   "metadata": {},
   "source": [
    "### Evaluation"
   ]
  },
  {
   "cell_type": "code",
   "execution_count": 18,
   "id": "4c381e82",
   "metadata": {},
   "outputs": [
    {
     "name": "stdout",
     "output_type": "stream",
     "text": [
      "train accuracy: tensor: 10.559999 fn: Mul %\n",
      "test accuracy: tensor: 11.599999 fn: Mul %\n"
     ]
    }
   ],
   "source": [
    "model.eval()\n",
    "\n",
    "print(f'train accuracy: {(model(X_train).softmax(axis=1).data.argmax(axis=1) == Y_train).mean() * 100} %')\n",
    "print(f'test accuracy: {(model(X_test).softmax(axis=1).data.argmax(axis=1) == Y_test).mean() * 100} %')"
   ]
  },
  {
   "cell_type": "markdown",
   "id": "59d94a77",
   "metadata": {},
   "source": [
    "## PyTorch"
   ]
  },
  {
   "cell_type": "code",
   "execution_count": 39,
   "id": "b1ae6fcd",
   "metadata": {},
   "outputs": [],
   "source": [
    "import torch \n",
    "import torch.nn as nn\n",
    "import torch.nn.functional as F\n",
    "import torch.optim as optim"
   ]
  },
  {
   "cell_type": "code",
   "execution_count": 50,
   "id": "d0c0eae5",
   "metadata": {},
   "outputs": [],
   "source": [
    "X_train = torch.from_numpy(X_train.data.copy().astype(np.float32))\n",
    "Y_train = torch.from_numpy(Y_train.data.copy().astype(np.int64))\n",
    "\n",
    "X_test = torch.from_numpy(X_test.data.copy().astype(np.float32))\n",
    "Y_test = torch.from_numpy(Y_test.data.copy())"
   ]
  },
  {
   "cell_type": "code",
   "execution_count": 51,
   "id": "3a42b35c",
   "metadata": {},
   "outputs": [
    {
     "data": {
      "text/plain": [
       "torch.int64"
      ]
     },
     "execution_count": 51,
     "metadata": {},
     "output_type": "execute_result"
    }
   ],
   "source": [
    "Y_train.dtype"
   ]
  },
  {
   "cell_type": "code",
   "execution_count": 52,
   "id": "6a247d60",
   "metadata": {},
   "outputs": [],
   "source": [
    "class Model(nn.Module):\n",
    "    def __init__(self):\n",
    "        super().__init__()\n",
    "        self.linear1 = nn.Linear(\n",
    "            in_features=28*28,\n",
    "            out_features=28*28\n",
    "        )\n",
    "        self.linear2 = nn.Linear(\n",
    "            in_features=28*28,\n",
    "            out_features=28*28\n",
    "        )\n",
    "        \n",
    "        self.linear3 = nn.Linear(\n",
    "            in_features=28*28,\n",
    "            out_features=28*28\n",
    "        )\n",
    "        \n",
    "        self.linear4 = nn.Linear(\n",
    "            in_features=28*28,\n",
    "            out_features=28*28\n",
    "        )\n",
    "        \n",
    "        self.linear5 = nn.Linear(\n",
    "            in_features=28*28,\n",
    "            out_features=10\n",
    "        )\n",
    "        \n",
    "#         self.dropout = nn.Dropout(p=0.4)\n",
    "        \n",
    "    def __call__(self, x):\n",
    "        x = F.relu(self.linear1(x))\n",
    "        x = F.relu(self.linear2(x))\n",
    "        x = F.relu(self.linear3(x))\n",
    "        x = F.relu(self.linear4(x))\n",
    "#         x = self.dropout(x)\n",
    "        return self.linear5(x)"
   ]
  },
  {
   "cell_type": "code",
   "execution_count": 53,
   "id": "323b9f9b",
   "metadata": {},
   "outputs": [
    {
     "name": "stdout",
     "output_type": "stream",
     "text": [
      "Model(\n",
      "  (linear1): Linear(in_features=784, out_features=784, bias=True)\n",
      "  (linear2): Linear(in_features=784, out_features=784, bias=True)\n",
      "  (linear3): Linear(in_features=784, out_features=784, bias=True)\n",
      "  (linear4): Linear(in_features=784, out_features=784, bias=True)\n",
      "  (linear5): Linear(in_features=784, out_features=10, bias=True)\n",
      ")\n"
     ]
    }
   ],
   "source": [
    "model = Model()\n",
    "print(model)"
   ]
  },
  {
   "cell_type": "code",
   "execution_count": 54,
   "id": "2c851712",
   "metadata": {},
   "outputs": [],
   "source": [
    "criterion = nn.CrossEntropyLoss(reduction='mean')\n",
    "optimizer = optim.Adam(\n",
    "    model.parameters(),\n",
    "    lr=0.0001,\n",
    "    amsgrad=True\n",
    ")"
   ]
  },
  {
   "cell_type": "code",
   "execution_count": 55,
   "id": "674cca82",
   "metadata": {},
   "outputs": [
    {
     "name": "stderr",
     "output_type": "stream",
     "text": [
      "loss: 0.03736574575304985: 100%|████████████████| 50/50 [00:21<00:00,  2.30it/s]\n"
     ]
    }
   ],
   "source": [
    "EPOCHS = 50\n",
    "\n",
    "model.train()\n",
    "\n",
    "for ite in (prog_bar := trange(EPOCHS)):\n",
    "    # Zero gradient \n",
    "    optimizer.zero_grad() \n",
    "    # Pass data through the network\n",
    "    output = model(X_train)\n",
    "    # Calculate loss\n",
    "    loss = criterion(output, Y_train)\n",
    "    # Backpropagate\n",
    "    loss.backward()\n",
    "    # Update weights\n",
    "    optimizer.step()\n",
    "\n",
    "    prog_bar.set_description(f\"loss: {loss.data}\")"
   ]
  },
  {
   "cell_type": "code",
   "execution_count": 15,
   "id": "f4c9cd4d",
   "metadata": {},
   "outputs": [
    {
     "name": "stdout",
     "output_type": "stream",
     "text": [
      "train accuracy: 10.5 %\n",
      "test accuracy: 4.8 %\n"
     ]
    }
   ],
   "source": [
    "model.eval()\n",
    "\n",
    "print(f'train accuracy: {(F.softmax(model(X_train), dim=1).argmax(dim=1) == Y_train).double().mean() * 100} %')\n",
    "print(f'test accuracy: {(F.softmax(model(X_test), dim=1).argmax(dim=1) == Y_test).double().mean() * 100} %')"
   ]
  },
  {
   "cell_type": "code",
   "execution_count": null,
   "id": "42d49abf",
   "metadata": {},
   "outputs": [],
   "source": []
  }
 ],
 "metadata": {
  "kernelspec": {
   "display_name": "Python 3 (ipykernel)",
   "language": "python",
   "name": "python3"
  },
  "language_info": {
   "codemirror_mode": {
    "name": "ipython",
    "version": 3
   },
   "file_extension": ".py",
   "mimetype": "text/x-python",
   "name": "python",
   "nbconvert_exporter": "python",
   "pygments_lexer": "ipython3",
   "version": "3.10.6"
  }
 },
 "nbformat": 4,
 "nbformat_minor": 5
}
