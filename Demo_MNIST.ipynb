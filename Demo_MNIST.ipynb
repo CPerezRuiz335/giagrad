{
 "cells": [
  {
   "cell_type": "code",
   "execution_count": 1,
   "id": "d08f0289",
   "metadata": {},
   "outputs": [],
   "source": [
    "import urllib.request\n",
    "import gzip\n",
    "import numpy as np\n",
    "from tqdm import trange\n",
    "\n",
    "from giagrad import Tensor\n",
    "import giagrad.nn as nn\n",
    "import giagrad.optim as optim \n",
    "from giagrad.display import draw_dot\n",
    "\n",
    "from typing import List"
   ]
  },
  {
   "cell_type": "markdown",
   "id": "f3469127",
   "metadata": {},
   "source": [
    "## Load data"
   ]
  },
  {
   "cell_type": "code",
   "execution_count": 2,
   "id": "9056e1fc",
   "metadata": {},
   "outputs": [
    {
     "name": "stdout",
     "output_type": "stream",
     "text": [
      "(60000, 28, 28)\n",
      "(10000, 28, 28)\n"
     ]
    }
   ],
   "source": [
    "def fetch(url, type_data = None):\n",
    "    # Extract the dataset from the compressed file\n",
    "    with gzip.open(urllib.request.urlopen(url)) as f:\n",
    "        if type_data == 'label':\n",
    "            data = np.frombuffer(f.read(), np.uint8, offset=8)\n",
    "        else:\n",
    "            data = np.frombuffer(f.read(), np.uint8, offset=16).reshape(-1, 28, 28)\n",
    "    return data\n",
    "\n",
    "X_train_all = fetch(\"http://yann.lecun.com/exdb/mnist/train-images-idx3-ubyte.gz\")\n",
    "Y_train_all = fetch(\"http://yann.lecun.com/exdb/mnist/train-labels-idx1-ubyte.gz\", 'label')\n",
    "X_test_all = fetch(\"http://yann.lecun.com/exdb/mnist/t10k-images-idx3-ubyte.gz\")\n",
    "Y_test_all = fetch(\"http://yann.lecun.com/exdb/mnist/t10k-labels-idx1-ubyte.gz\", 'label')\n",
    "\n",
    "print(X_train_all.shape)\n",
    "print(X_test_all.shape)"
   ]
  },
  {
   "cell_type": "markdown",
   "id": "a9a6bc6b",
   "metadata": {},
   "source": [
    "### Resize and reshape"
   ]
  },
  {
   "cell_type": "code",
   "execution_count": 3,
   "id": "11bba953",
   "metadata": {},
   "outputs": [],
   "source": [
    "n_train = 10000\n",
    "n_test = 250\n",
    "\n",
    "# Every row is a flattened image\n",
    "X_train = X_train_all[:n_train].reshape(-1, 28*28)\n",
    "Y_train = Y_train_all[:n_train]\n",
    "\n",
    "X_test = X_test_all[:n_test].reshape(-1, 28*28)\n",
    "Y_test = Y_test_all[:n_test]"
   ]
  },
  {
   "cell_type": "markdown",
   "id": "f55af135",
   "metadata": {},
   "source": [
    "## MLP"
   ]
  },
  {
   "cell_type": "code",
   "execution_count": 4,
   "id": "6a90524e",
   "metadata": {},
   "outputs": [],
   "source": [
    "class MLP(nn.Module):\n",
    "    def __init__(self):\n",
    "        super().__init__()\n",
    "        \n",
    "        self.l1 = nn.Linear(784, 550)\n",
    "        self.l2 = nn.Linear(550, 10)\n",
    "        self.dropout = nn.Dropout(0.2)\n",
    "        \n",
    "    def __call__(self, x):\n",
    "        x = self.l1(x).relu()\n",
    "        x = self.dropout(x)\n",
    "        x = self.l2(x)\n",
    "        return x"
   ]
  },
  {
   "cell_type": "code",
   "execution_count": 5,
   "id": "b671b151",
   "metadata": {},
   "outputs": [
    {
     "data": {
      "text/plain": [
       "MLP\n",
       "\tLayer(in=784, out=550, bias=True)\n",
       "\tLayer(in=550, out=10, bias=True)\n",
       "\tDropout(p=0.2)"
      ]
     },
     "execution_count": 5,
     "metadata": {},
     "output_type": "execute_result"
    }
   ],
   "source": [
    "model = MLP()\n",
    "model"
   ]
  },
  {
   "cell_type": "markdown",
   "id": "efe1ef4b",
   "metadata": {},
   "source": [
    "## Train"
   ]
  },
  {
   "cell_type": "code",
   "execution_count": 6,
   "id": "25d213a7",
   "metadata": {},
   "outputs": [],
   "source": [
    "criterion = nn.CrossEntropyLoss(reduction='mean')\n",
    "optimizer = optim.SGD(\n",
    "    model.parameters(), \n",
    "    lr=0.001, \n",
    "    momentum=0.9,\n",
    "    nesterov=True\n",
    ")"
   ]
  },
  {
   "cell_type": "code",
   "execution_count": 7,
   "id": "ba33a949",
   "metadata": {},
   "outputs": [
    {
     "name": "stderr",
     "output_type": "stream",
     "text": [
      "loss: 0.6017593145370483: 100%|█████████████████| 20/20 [00:07<00:00,  2.64it/s]\n"
     ]
    }
   ],
   "source": [
    "# dropout layers in train mode\n",
    "model.train()\n",
    "\n",
    "for ite in (prog_bar := trange(20)):\n",
    "     # Zero gradient \n",
    "    optimizer.zero_grad() \n",
    "    # Pass data through the network\n",
    "    output = model(X_train)\n",
    "    # Calculate loss\n",
    "    loss = criterion(output, Y_train)\n",
    "    # Backpropagate\n",
    "    loss.backward()\n",
    "    # Update weights\n",
    "    optimizer.step()\n",
    "\n",
    "    prog_bar.set_description(f\"loss: {loss.data}\")"
   ]
  },
  {
   "cell_type": "markdown",
   "id": "ecf632fe",
   "metadata": {},
   "source": [
    "## Evaluate"
   ]
  },
  {
   "cell_type": "code",
   "execution_count": 8,
   "id": "0f7c9d34",
   "metadata": {},
   "outputs": [
    {
     "name": "stdout",
     "output_type": "stream",
     "text": [
      "train accuracy: 86.91 %\n",
      "test accuracy: 84.39999999999999 %\n"
     ]
    }
   ],
   "source": [
    "# dropout layers in evaluation mode\n",
    "model.eval()\n",
    "\n",
    "print(f'train accuracy: {(model(X_train).softmax(axis=1).data.argmax(axis=1) == Y_train).mean() * 100} %')\n",
    "print(f'test accuracy: {(model(X_test).softmax(axis=1).data.argmax(axis=1) == Y_test).mean() * 100} %')"
   ]
  }
 ],
 "metadata": {
  "kernelspec": {
   "display_name": "Python 3 (ipykernel)",
   "language": "python",
   "name": "python3"
  },
  "language_info": {
   "codemirror_mode": {
    "name": "ipython",
    "version": 3
   },
   "file_extension": ".py",
   "mimetype": "text/x-python",
   "name": "python",
   "nbconvert_exporter": "python",
   "pygments_lexer": "ipython3",
   "version": "3.10.6"
  }
 },
 "nbformat": 4,
 "nbformat_minor": 5
}
