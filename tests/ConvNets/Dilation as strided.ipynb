{
 "cells": [
  {
   "cell_type": "code",
   "execution_count": 1,
   "id": "16496353",
   "metadata": {},
   "outputs": [
    {
     "data": {
      "text/html": [
       "<style>.container { width:100% !important; }</style>"
      ],
      "text/plain": [
       "<IPython.core.display.HTML object>"
      ]
     },
     "metadata": {},
     "output_type": "display_data"
    }
   ],
   "source": [
    "from IPython.display import display, HTML\n",
    "display(HTML(\"<style>.container { width:100% !important; }</style>\"))"
   ]
  },
  {
   "cell_type": "code",
   "execution_count": 2,
   "id": "b15d6fcf",
   "metadata": {},
   "outputs": [],
   "source": [
    "import numpy as np\n",
    "from numpy.lib.stride_tricks import as_strided"
   ]
  },
  {
   "cell_type": "code",
   "execution_count": 3,
   "id": "91ce17f5",
   "metadata": {},
   "outputs": [],
   "source": [
    "def dilation2(X, d):\n",
    "    Xd_shape = np.multiply(X.shape, d)\n",
    "    Xd = np.zeros(Xd_shape, dtype=X.dtype)\n",
    "    Xdn = as_strided(Xd, X.shape, np.multiply(Xd.strides, d))\n",
    "    Xdn[:] = X\n",
    "    return Xd"
   ]
  },
  {
   "cell_type": "code",
   "execution_count": 8,
   "id": "7cab986d",
   "metadata": {},
   "outputs": [],
   "source": [
    "X = np.arange(3*3).reshape((3,3))\n",
    "d = (2, 2)"
   ]
  },
  {
   "cell_type": "code",
   "execution_count": 9,
   "id": "01182741",
   "metadata": {},
   "outputs": [
    {
     "data": {
      "text/plain": [
       "array([[0, 0, 1, 0, 2, 0],\n",
       "       [0, 0, 0, 0, 0, 0],\n",
       "       [3, 0, 4, 0, 5, 0],\n",
       "       [0, 0, 0, 0, 0, 0],\n",
       "       [6, 0, 7, 0, 8, 0],\n",
       "       [0, 0, 0, 0, 0, 0]])"
      ]
     },
     "execution_count": 9,
     "metadata": {},
     "output_type": "execute_result"
    }
   ],
   "source": [
    "dilation2(X, d)"
   ]
  },
  {
   "cell_type": "code",
   "execution_count": 30,
   "id": "1439b4f2",
   "metadata": {},
   "outputs": [
    {
     "data": {
      "text/plain": [
       "array([5, 5])"
      ]
     },
     "execution_count": 30,
     "metadata": {},
     "output_type": "execute_result"
    }
   ],
   "source": [
    "Xd_shape = np.multiply(X.shape, d)\n",
    "Xd_shape = np.multiply(X.shape, d) - 1\n",
    "Xd_shape"
   ]
  },
  {
   "cell_type": "code",
   "execution_count": 31,
   "id": "af45b0f0",
   "metadata": {},
   "outputs": [
    {
     "data": {
      "text/plain": [
       "array([[0, 0, 0, 0, 0],\n",
       "       [0, 0, 0, 0, 0],\n",
       "       [0, 0, 0, 0, 0],\n",
       "       [0, 0, 0, 0, 0],\n",
       "       [0, 0, 0, 0, 0]])"
      ]
     },
     "execution_count": 31,
     "metadata": {},
     "output_type": "execute_result"
    }
   ],
   "source": [
    "Xd = np.zeros(Xd_shape, dtype=X.dtype)\n",
    "Xd"
   ]
  },
  {
   "cell_type": "code",
   "execution_count": 34,
   "id": "34985573",
   "metadata": {},
   "outputs": [
    {
     "data": {
      "text/plain": [
       "array([10.,  2.])"
      ]
     },
     "execution_count": 34,
     "metadata": {},
     "output_type": "execute_result"
    }
   ],
   "source": [
    "np.multiply(Xd.strides, d) / Xd.itemsize"
   ]
  },
  {
   "cell_type": "code",
   "execution_count": 35,
   "id": "487e0c27",
   "metadata": {},
   "outputs": [
    {
     "data": {
      "text/plain": [
       "array([[0, 0, 0],\n",
       "       [0, 0, 0],\n",
       "       [0, 0, 0]])"
      ]
     },
     "execution_count": 35,
     "metadata": {},
     "output_type": "execute_result"
    }
   ],
   "source": [
    "Xdn = as_strided(Xd, X.shape, np.multiply(Xd.strides, d))\n",
    "Xdn"
   ]
  },
  {
   "cell_type": "code",
   "execution_count": 20,
   "id": "0389750b",
   "metadata": {},
   "outputs": [
    {
     "data": {
      "text/plain": [
       "array([12.,  2.])"
      ]
     },
     "execution_count": 20,
     "metadata": {},
     "output_type": "execute_result"
    }
   ],
   "source": [
    "np.array(Xdn.strides) / Xdn.itemsize"
   ]
  },
  {
   "cell_type": "code",
   "execution_count": 36,
   "id": "df6eef15",
   "metadata": {},
   "outputs": [],
   "source": [
    "Xdn[:] = X"
   ]
  },
  {
   "cell_type": "code",
   "execution_count": 37,
   "id": "2fe144bf",
   "metadata": {},
   "outputs": [
    {
     "data": {
      "text/plain": [
       "array([[0, 0, 1, 0, 2],\n",
       "       [0, 0, 0, 0, 0],\n",
       "       [3, 0, 4, 0, 5],\n",
       "       [0, 0, 0, 0, 0],\n",
       "       [6, 0, 7, 0, 8]])"
      ]
     },
     "execution_count": 37,
     "metadata": {},
     "output_type": "execute_result"
    }
   ],
   "source": [
    "Xd"
   ]
  },
  {
   "cell_type": "code",
   "execution_count": 3,
   "id": "be1c2ba3",
   "metadata": {},
   "outputs": [],
   "source": [
    "X = np.arange(3*3).reshape((3,3))"
   ]
  },
  {
   "cell_type": "code",
   "execution_count": 15,
   "id": "4c439949",
   "metadata": {},
   "outputs": [],
   "source": [
    "def f(array, width=(1, 2), **kwargs):\n",
    "    return np.pad(array, width, **kwargs)\n",
    "\n",
    "\n"
   ]
  },
  {
   "cell_type": "code",
   "execution_count": 16,
   "id": "0ae6f708",
   "metadata": {},
   "outputs": [
    {
     "data": {
      "text/plain": [
       "array([[0, 0, 0, 0, 0, 0],\n",
       "       [0, 0, 1, 2, 0, 0],\n",
       "       [0, 3, 4, 5, 0, 0],\n",
       "       [0, 6, 7, 8, 0, 0],\n",
       "       [0, 0, 0, 0, 0, 0],\n",
       "       [0, 0, 0, 0, 0, 0]])"
      ]
     },
     "execution_count": 16,
     "metadata": {},
     "output_type": "execute_result"
    }
   ],
   "source": [
    "f(X)"
   ]
  },
  {
   "cell_type": "code",
   "execution_count": 40,
   "id": "a80f541c",
   "metadata": {},
   "outputs": [
    {
     "data": {
      "text/plain": [
       "(1, 2, 3)"
      ]
     },
     "execution_count": 40,
     "metadata": {},
     "output_type": "execute_result"
    }
   ],
   "source": [
    "tuple(np.array([1,2,3]))"
   ]
  },
  {
   "cell_type": "code",
   "execution_count": 33,
   "id": "e67929f7",
   "metadata": {},
   "outputs": [
    {
     "ename": "TypeError",
     "evalue": "'tuple' object cannot be interpreted as an integer",
     "output_type": "error",
     "traceback": [
      "\u001b[0;31m---------------------------------------------------------------------------\u001b[0m",
      "\u001b[0;31mTypeError\u001b[0m                                 Traceback (most recent call last)",
      "Cell \u001b[0;32mIn [33], line 1\u001b[0m\n\u001b[0;32m----> 1\u001b[0m \u001b[43mnp\u001b[49m\u001b[38;5;241;43m.\u001b[39;49m\u001b[43mmath\u001b[49m\u001b[38;5;241;43m.\u001b[39;49m\u001b[43mfactorial\u001b[49m\u001b[43m(\u001b[49m\u001b[38;5;28;43mtuple\u001b[39;49m\u001b[43m(\u001b[49m\u001b[43m)\u001b[49m\u001b[43m)\u001b[49m\n",
      "\u001b[0;31mTypeError\u001b[0m: 'tuple' object cannot be interpreted as an integer"
     ]
    }
   ],
   "source": [
    "np.math.factorial()"
   ]
  },
  {
   "cell_type": "code",
   "execution_count": 28,
   "id": "2152d825",
   "metadata": {},
   "outputs": [
    {
     "data": {
      "text/plain": [
       "(0, 1, 2, 3, 4, 0, 1, 2, 3, 4)"
      ]
     },
     "execution_count": 28,
     "metadata": {},
     "output_type": "execute_result"
    }
   ],
   "source": [
    "tuple(i for i in range(5))*2"
   ]
  }
 ],
 "metadata": {
  "kernelspec": {
   "display_name": "Python 3 (ipykernel)",
   "language": "python",
   "name": "python3"
  },
  "language_info": {
   "codemirror_mode": {
    "name": "ipython",
    "version": 3
   },
   "file_extension": ".py",
   "mimetype": "text/x-python",
   "name": "python",
   "nbconvert_exporter": "python",
   "pygments_lexer": "ipython3",
   "version": "3.10.6"
  }
 },
 "nbformat": 4,
 "nbformat_minor": 5
}
