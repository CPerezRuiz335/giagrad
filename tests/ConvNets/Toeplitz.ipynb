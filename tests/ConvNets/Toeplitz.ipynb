{
 "cells": [
  {
   "cell_type": "code",
   "execution_count": 1,
   "id": "c61e8865",
   "metadata": {},
   "outputs": [
    {
     "data": {
      "text/html": [
       "<style>.container { width:100% !important; }</style>"
      ],
      "text/plain": [
       "<IPython.core.display.HTML object>"
      ]
     },
     "metadata": {},
     "output_type": "display_data"
    }
   ],
   "source": [
    "from IPython.display import display, HTML\n",
    "display(HTML(\"<style>.container { width:100% !important; }</style>\"))"
   ]
  },
  {
   "cell_type": "code",
   "execution_count": 2,
   "id": "0796be67",
   "metadata": {},
   "outputs": [],
   "source": [
    "import numpy as np\n",
    "from numpy.lib.stride_tricks import as_strided\n",
    "import scipy as sp\n",
    "\n",
    "import sys\n",
    "from sys import getsizeof\n",
    "sys.path.append('../../')\n",
    "\n",
    "from giagrad.nn.layers.utils import conv_output_shape\n",
    "import string\n",
    "from itertools import chain"
   ]
  },
  {
   "cell_type": "code",
   "execution_count": 3,
   "id": "c3d8d471",
   "metadata": {},
   "outputs": [],
   "source": [
    "letters = [chr(i) for i in chain(range(33, 126), range(180, 1200))]"
   ]
  },
  {
   "cell_type": "code",
   "execution_count": 33,
   "id": "623ef49f",
   "metadata": {},
   "outputs": [
    {
     "name": "stdout",
     "output_type": "stream",
     "text": [
      "INPUT_SHAPE = array([ 1, 16, 28, 28])\n",
      "KERNEL_SHAPE = array([16, 16,  2,  2])\n",
      "OUTPUT_SIZE = array([27, 27])\n",
      "TOEPLITZ_SHAPE = array([11664, 12544])\n",
      "OUTPUT_SHAPE = array([ 1, 16, 27, 27])\n",
      "DILATED_KERNEL_SIZE = array([2, 2])\n"
     ]
    }
   ],
   "source": [
    "## define shapes\n",
    "\n",
    "BATCH = 1\n",
    "CHANNELS = 16\n",
    "INPUT_SIZE = np.array((28, 28))\n",
    "KERNEL_SIZE = np.array((2, 2))\n",
    "OUT_CHANNELS = 16\n",
    "\n",
    "STRIDE = np.array((1,1))\n",
    "DILATION = np.array((1,1))\n",
    "PADDING = (0,) # ALWAYS ASSUME ALREADY PADDED ARRAY\n",
    "\n",
    "INPUT_SHAPE = np.concatenate([(BATCH, CHANNELS), INPUT_SIZE])\n",
    "KERNEL_SHAPE = np.concatenate([(OUT_CHANNELS, CHANNELS), KERNEL_SIZE])\n",
    "\n",
    "OUTPUT_SIZE = conv_output_shape(\n",
    "    INPUT_SHAPE, KERNEL_SIZE, STRIDE, DILATION, PADDING\n",
    ")\n",
    "\n",
    "OUTPUT_SHAPE = np.array((BATCH, OUT_CHANNELS) + tuple(OUTPUT_SIZE))\n",
    "\n",
    "TOEPLITZ_SHAPE = np.array((np.prod(OUTPUT_SIZE)*OUT_CHANNELS, np.prod(INPUT_SIZE)*CHANNELS))\n",
    "\n",
    "DILATED_KERNEL_SIZE = (KERNEL_SIZE - 1) * (DILATION - 1) + KERNEL_SIZE\n",
    "\n",
    "def print_dimensions():\n",
    "    print(f\"{INPUT_SHAPE = }\")\n",
    "    print(f\"{KERNEL_SHAPE = }\")\n",
    "    print(f\"{OUTPUT_SIZE = }\")\n",
    "    print(f\"{TOEPLITZ_SHAPE = }\")\n",
    "    print(f\"{OUTPUT_SHAPE = }\")\n",
    "    print(f\"{DILATED_KERNEL_SIZE = }\")\n",
    "    \n",
    "print_dimensions()"
   ]
  },
  {
   "cell_type": "code",
   "execution_count": 34,
   "id": "db729040",
   "metadata": {},
   "outputs": [
    {
     "name": "stdout",
     "output_type": "stream",
     "text": [
      "X\n",
      "[[[[6.96469186e-01 2.86139335e-01 2.26851454e-01 ... 3.22958914e-01\n",
      "    3.61788656e-01 2.28263231e-01]\n",
      "   [2.93714046e-01 6.30976124e-01 9.21049399e-02 ... 5.45068006e-01\n",
      "    3.42763834e-01 3.04120789e-01]\n",
      "   [4.17022211e-01 6.81300766e-01 8.75456842e-01 ... 6.91970296e-01\n",
      "    5.54383250e-01 3.88950574e-01]\n",
      "   ...\n",
      "   [9.45236635e-01 2.90086425e-01 7.27042744e-01 ... 7.10075224e-01\n",
      "    2.94516994e-01 9.71363999e-01]\n",
      "   [2.78687470e-01 6.99821894e-02 5.19280361e-01 ... 6.57660241e-01\n",
      "    3.24221624e-01 7.54391605e-01]\n",
      "   [1.13509078e-01 7.75364763e-01 5.85901975e-01 ... 5.13679326e-01\n",
      "    1.14384832e-01 5.25803385e-02]]\n",
      "\n",
      "  [[3.30582103e-01 9.20330433e-01 9.47581835e-01 ... 6.93655394e-01\n",
      "    6.89952547e-01 4.34309065e-01]\n",
      "   [1.99158157e-01 9.66579376e-01 6.36908593e-02 ... 1.96346445e-01\n",
      "    9.59899564e-01 4.92913728e-01]\n",
      "   [7.51614963e-01 4.73991881e-01 5.87540160e-01 ... 6.72698514e-01\n",
      "    6.54752644e-01 1.01746051e-01]\n",
      "   ...\n",
      "   [1.05683934e-01 2.78449662e-01 2.08922285e-01 ... 6.22204413e-01\n",
      "    1.93875120e-01 1.89203218e-01]\n",
      "   [3.50125513e-01 6.15296538e-01 5.42415260e-01 ... 5.75545213e-01\n",
      "    5.96354401e-01 2.50701391e-01]\n",
      "   [8.21080867e-01 9.70443622e-01 2.77886022e-01 ... 7.34936672e-01\n",
      "    7.14426894e-01 1.82019179e-01]]\n",
      "\n",
      "  [[4.76923962e-01 6.88206767e-01 7.38149895e-01 ... 8.73097873e-01\n",
      "    3.25341094e-01 6.66845090e-01]\n",
      "   [4.68280432e-01 1.23949768e-01 5.41069714e-01 ... 1.17653504e-01\n",
      "    7.19509612e-01 9.13647251e-01]\n",
      "   [3.66179454e-01 7.58739777e-01 7.41918718e-01 ... 6.91456145e-01\n",
      "    2.03936508e-01 5.57018728e-01]\n",
      "   ...\n",
      "   [9.39976327e-01 2.71672640e-01 3.09712649e-01 ... 3.64568954e-01\n",
      "    6.76431836e-02 8.55836116e-01]\n",
      "   [8.34095916e-01 4.96312733e-01 4.66016108e-01 ... 1.40493989e-01\n",
      "    9.70311261e-01 7.57399703e-01]\n",
      "   [1.87350896e-01 7.39853143e-01 7.98833776e-01 ... 1.26973126e-01\n",
      "    7.63842423e-01 9.29300633e-01]]\n",
      "\n",
      "  ...\n",
      "\n",
      "  [[6.74762726e-01 2.05939888e-01 9.38043677e-01 ... 1.37506090e-01\n",
      "    5.92158243e-01 8.33747789e-01]\n",
      "   [2.18316626e-01 8.47001470e-01 6.98469707e-01 ... 9.88628933e-02\n",
      "    5.56488745e-01 2.00952725e-01]\n",
      "   [5.75894574e-01 5.41703357e-01 2.59041175e-01 ... 9.86592413e-01\n",
      "    6.22738765e-01 2.89771204e-01]\n",
      "   ...\n",
      "   [6.16610246e-01 6.16066076e-01 8.57160689e-01 ... 3.24799812e-01\n",
      "    3.77610652e-01 6.84743609e-01]\n",
      "   [4.24375127e-01 8.87863368e-01 9.30762288e-01 ... 9.35117504e-02\n",
      "    6.86593011e-01 5.34976896e-01]\n",
      "   [7.04588045e-01 6.47143954e-01 9.41129505e-04 ... 3.64762627e-01\n",
      "    4.91696220e-01 9.55336357e-02]]\n",
      "\n",
      "  [[4.67706103e-01 8.18512438e-01 4.75212162e-01 ... 1.57586044e-01\n",
      "    8.12821889e-01 1.77913039e-01]\n",
      "   [1.69388841e-01 4.43703474e-01 1.17716422e-01 ... 1.10399613e-01\n",
      "    2.55442469e-01 6.91822383e-01]\n",
      "   [4.60832618e-02 8.55079542e-01 6.07535205e-01 ... 5.71545114e-01\n",
      "    8.33771452e-01 7.35975081e-01]\n",
      "   ...\n",
      "   [4.62537752e-01 3.20857280e-01 8.81248601e-01 ... 7.89425581e-01\n",
      "    6.73437067e-02 4.12811012e-01]\n",
      "   [9.07839711e-01 6.83010033e-02 5.44668901e-01 ... 4.18098268e-01\n",
      "    2.66197231e-01 1.05282111e-01]\n",
      "   [9.72505432e-01 7.42611939e-01 8.33161166e-01 ... 8.32222019e-01\n",
      "    6.59127469e-01 7.38936886e-01]]\n",
      "\n",
      "  [[3.03220698e-02 5.55655921e-01 2.82169047e-01 ... 5.28484661e-01\n",
      "    6.92632112e-01 3.09487026e-01]\n",
      "   [9.53377765e-01 6.41703790e-01 8.26409753e-01 ... 1.04401593e-01\n",
      "    6.77072247e-01 4.81192400e-02]\n",
      "   [4.67227938e-01 6.42660763e-01 2.31336020e-01 ... 4.82954380e-01\n",
      "    2.12671496e-01 6.05454312e-03]\n",
      "   ...\n",
      "   [5.64673198e-01 8.85305242e-01 2.34817068e-01 ... 5.88750467e-01\n",
      "    7.71191790e-01 9.28914427e-01]\n",
      "   [5.63135121e-01 6.78509043e-01 6.26866912e-01 ... 3.72291812e-01\n",
      "    6.07296043e-01 1.44286456e-01]\n",
      "   [6.21321080e-01 2.10142301e-01 6.09937569e-01 ... 6.06480346e-01\n",
      "    9.08092485e-01 7.61310143e-01]]]]\n",
      "W\n",
      "[[[[0.40696921 0.81453762]\n",
      "   [0.57831151 0.53916348]]\n",
      "\n",
      "  [[0.15312121 0.15071572]\n",
      "   [0.07724003 0.43499804]]\n",
      "\n",
      "  [[0.50712886 0.2450051 ]\n",
      "   [0.92120509 0.10053968]]\n",
      "\n",
      "  ...\n",
      "\n",
      "  [[0.57569647 0.13933979]\n",
      "   [0.97508355 0.3491686 ]]\n",
      "\n",
      "  [[0.82587097 0.1773696 ]\n",
      "   [0.03148387 0.93011897]]\n",
      "\n",
      "  [[0.87209406 0.97652958]\n",
      "   [0.07972839 0.74107088]]]\n",
      "\n",
      "\n",
      " [[[0.35812347 0.70108   ]\n",
      "   [0.06273617 0.88887967]]\n",
      "\n",
      "  [[0.51964194 0.49766555]\n",
      "   [0.15026207 0.94708748]]\n",
      "\n",
      "  [[0.02521754 0.32462676]\n",
      "   [0.40136466 0.76265741]]\n",
      "\n",
      "  ...\n",
      "\n",
      "  [[0.33201187 0.87757759]\n",
      "   [0.47423773 0.17273892]]\n",
      "\n",
      "  [[0.58806496 0.05261372]\n",
      "   [0.92521053 0.18632194]]\n",
      "\n",
      "  [[0.92871566 0.43401009]\n",
      "   [0.80204476 0.27350613]]]\n",
      "\n",
      "\n",
      " [[[0.56663393 0.04679392]\n",
      "   [0.03600213 0.38781751]]\n",
      "\n",
      "  [[0.84138472 0.73784865]\n",
      "   [0.36784589 0.63010225]]\n",
      "\n",
      "  [[0.51567565 0.55583794]\n",
      "   [0.90123136 0.68051218]]\n",
      "\n",
      "  ...\n",
      "\n",
      "  [[0.01878307 0.21474258]\n",
      "   [0.42990531 0.43566402]]\n",
      "\n",
      "  [[0.54816385 0.8233592 ]\n",
      "   [0.33177785 0.78546986]]\n",
      "\n",
      "  [[0.46148833 0.20164153]\n",
      "   [0.36477242 0.63998744]]]\n",
      "\n",
      "\n",
      " ...\n",
      "\n",
      "\n",
      " [[[0.05465328 0.84004003]\n",
      "   [0.03494111 0.30474213]]\n",
      "\n",
      "  [[0.06528937 0.15014443]\n",
      "   [0.09138742 0.18262899]]\n",
      "\n",
      "  [[0.01473666 0.7037107 ]\n",
      "   [0.7622792  0.08191887]]\n",
      "\n",
      "  ...\n",
      "\n",
      "  [[0.2825246  0.29586295]\n",
      "   [0.91550455 0.60282121]]\n",
      "\n",
      "  [[0.60077754 0.60209157]\n",
      "   [0.959869   0.55467243]]\n",
      "\n",
      "  [[0.2104071  0.60012598]\n",
      "   [0.49375672 0.59664976]]]\n",
      "\n",
      "\n",
      " [[[0.93838138 0.79703079]\n",
      "   [0.65116001 0.64509118]]\n",
      "\n",
      "  [[0.98875652 0.56437171]\n",
      "   [0.03264227 0.17355032]]\n",
      "\n",
      "  [[0.04276389 0.94918774]\n",
      "   [0.57090908 0.4547314 ]]\n",
      "\n",
      "  ...\n",
      "\n",
      "  [[0.22303974 0.70621235]\n",
      "   [0.96334258 0.03698077]]\n",
      "\n",
      "  [[0.09868219 0.0040786 ]\n",
      "   [0.67541423 0.63994349]]\n",
      "\n",
      "  [[0.92133355 0.42540136]\n",
      "   [0.04935025 0.6724513 ]]]\n",
      "\n",
      "\n",
      " [[[0.79731257 0.90087572]\n",
      "   [0.22425014 0.37486304]]\n",
      "\n",
      "  [[0.76492531 0.56570939]\n",
      "   [0.40653741 0.13075248]]\n",
      "\n",
      "  [[0.51384947 0.83094642]\n",
      "   [0.67066888 0.75382816]]\n",
      "\n",
      "  ...\n",
      "\n",
      "  [[0.82048469 0.56913361]\n",
      "   [0.11108129 0.59805999]]\n",
      "\n",
      "  [[0.69525461 0.7576661 ]\n",
      "   [0.56996467 0.6279635 ]]\n",
      "\n",
      "  [[0.91357416 0.44397271]\n",
      "   [0.41221085 0.10509762]]]]\n",
      "T\n",
      "[[0. 0. 0. ... 0. 0. 0.]\n",
      " [0. 0. 0. ... 0. 0. 0.]\n",
      " [0. 0. 0. ... 0. 0. 0.]\n",
      " ...\n",
      " [0. 0. 0. ... 0. 0. 0.]\n",
      " [0. 0. 0. ... 0. 0. 0.]\n",
      " [0. 0. 0. ... 0. 0. 0.]]\n"
     ]
    }
   ],
   "source": [
    "# init array\n",
    "np.random.seed(123)\n",
    "# X = np.array(letters[:np.prod(INPUT_SHAPE)], dtype=object).reshape(INPUT_SHAPE)\n",
    "X = np.random.rand(*INPUT_SHAPE)\n",
    "W = np.random.rand(*KERNEL_SHAPE)\n",
    "T = np.zeros(TOEPLITZ_SHAPE)  # toeplitz\n",
    "\n",
    "def print_arrays():\n",
    "    print('X', X, 'W', W, 'T', T, sep='\\n')\n",
    "print_arrays()"
   ]
  },
  {
   "cell_type": "code",
   "execution_count": 35,
   "id": "274680bc",
   "metadata": {},
   "outputs": [
    {
     "name": "stdout",
     "output_type": "stream",
     "text": [
      "STRIDED_SHAPE = array([27, 27, 16, 16,  2,  2])\n",
      "STRIDES = (338716, 12545, 9144576, 784, 28, 1)\n"
     ]
    }
   ],
   "source": [
    "# window view o Toeplitz matrix\n",
    "\n",
    "TH, TW = T.shape\n",
    "H_in, W_in = INPUT_SIZE\n",
    "KH, KW = KERNEL_SIZE\n",
    "H_out, W_out = OUTPUT_SIZE\n",
    "stride_H, stride_W = STRIDE\n",
    "dilation_H, dilation_W = DILATION\n",
    "KDil_H, KDil_W = DILATED_KERNEL_SIZE\n",
    "\n",
    "STRIDED_SHAPE = np.concatenate([OUTPUT_SIZE, (OUT_CHANNELS, CHANNELS), KERNEL_SIZE])\n",
    "STRIDES = (\n",
    "    TW * W_out + W_in*stride_H,\n",
    "    TW + stride_W,\n",
    "    TW * H_out*W_out, # out channels, jump rows in toeplitz\n",
    "    H_in*W_in, # jumpt to other channel\n",
    "    (W_in-KDil_W) + W_in*(dilation_H-1) + KDil_W,\n",
    "    dilation_W\n",
    ")\n",
    "\n",
    "print(f\"{STRIDED_SHAPE = }\")\n",
    "print(f\"{STRIDES = }\")"
   ]
  },
  {
   "cell_type": "code",
   "execution_count": 36,
   "id": "dad01513",
   "metadata": {},
   "outputs": [
    {
     "name": "stdout",
     "output_type": "stream",
     "text": [
      "WINDOW_VIEW.shape = (27, 27, 16, 16, 2, 2)\n",
      "W.shape = (16, 16, 2, 2)\n"
     ]
    }
   ],
   "source": [
    "# as_strided view\n",
    "WINDOW_VIEW = as_strided(\n",
    "    T, \n",
    "    STRIDED_SHAPE, \n",
    "    np.array(STRIDES)*T.itemsize)\n",
    "\n",
    "print(f\"{WINDOW_VIEW.shape = }\")\n",
    "print(f\"{W.shape = }\")"
   ]
  },
  {
   "cell_type": "code",
   "execution_count": 37,
   "id": "42aff36c",
   "metadata": {},
   "outputs": [],
   "source": [
    "WINDOW_VIEW += W"
   ]
  },
  {
   "cell_type": "code",
   "execution_count": 42,
   "id": "9b91a99e",
   "metadata": {},
   "outputs": [],
   "source": [
    "import numba as nb\n",
    "from typing import *\n",
    "from numpy.typing import NDArray\n",
    "\n",
    "@nb.njit\n",
    "def test(t: NDArray, x: NDArray):\n",
    "    for _ in range(2**8):\n",
    "        (t @ x.flatten()[:, None])"
   ]
  },
  {
   "cell_type": "code",
   "execution_count": 43,
   "id": "fe7522bc",
   "metadata": {},
   "outputs": [
    {
     "ename": "TypingError",
     "evalue": "Failed in nopython mode pipeline (step: nopython frontend)\nNo implementation of function Function(<built-in function getitem>) found for signature:\n \n >>> getitem(array(float64, 1d, C), Tuple(slice<a:b>, none))\n \nThere are 22 candidate implementations:\n      - Of which 20 did not match due to:\n      Overload of function 'getitem': File: <numerous>: Line N/A.\n        With argument(s): '(array(float64, 1d, C), Tuple(slice<a:b>, none))':\n       No match.\n      - Of which 2 did not match due to:\n      Overload in function 'GetItemBuffer.generic': File: numba/core/typing/arraydecl.py: Line 166.\n        With argument(s): '(array(float64, 1d, C), Tuple(slice<a:b>, none))':\n       Rejected as the implementation raised a specific error:\n         NumbaTypeError: unsupported array index type none in Tuple(slice<a:b>, none)\n  raised from /home/charlie/Entornos/pyIAA-GIA/lib/python3.10/site-packages/numba/core/typing/arraydecl.py:72\n\nDuring: typing of intrinsic-call at /tmp/ipykernel_20670/847960553.py (8)\nDuring: typing of static-get-item at /tmp/ipykernel_20670/847960553.py (8)\n\nFile \"../../../../../../../../tmp/ipykernel_20670/847960553.py\", line 8:\n<source missing, REPL/exec in use?>\n",
     "output_type": "error",
     "traceback": [
      "\u001b[0;31m---------------------------------------------------------------------------\u001b[0m",
      "\u001b[0;31mTypingError\u001b[0m                               Traceback (most recent call last)",
      "File \u001b[0;32m<timed eval>:1\u001b[0m\n",
      "File \u001b[0;32m~/Entornos/pyIAA-GIA/lib/python3.10/site-packages/numba/core/dispatcher.py:468\u001b[0m, in \u001b[0;36m_DispatcherBase._compile_for_args\u001b[0;34m(self, *args, **kws)\u001b[0m\n\u001b[1;32m    464\u001b[0m         msg \u001b[38;5;241m=\u001b[39m (\u001b[38;5;124mf\u001b[39m\u001b[38;5;124m\"\u001b[39m\u001b[38;5;132;01m{\u001b[39;00m\u001b[38;5;28mstr\u001b[39m(e)\u001b[38;5;241m.\u001b[39mrstrip()\u001b[38;5;132;01m}\u001b[39;00m\u001b[38;5;124m \u001b[39m\u001b[38;5;130;01m\\n\u001b[39;00m\u001b[38;5;130;01m\\n\u001b[39;00m\u001b[38;5;124mThis error may have been caused \u001b[39m\u001b[38;5;124m\"\u001b[39m\n\u001b[1;32m    465\u001b[0m                \u001b[38;5;124mf\u001b[39m\u001b[38;5;124m\"\u001b[39m\u001b[38;5;124mby the following argument(s):\u001b[39m\u001b[38;5;130;01m\\n\u001b[39;00m\u001b[38;5;132;01m{\u001b[39;00margs_str\u001b[38;5;132;01m}\u001b[39;00m\u001b[38;5;130;01m\\n\u001b[39;00m\u001b[38;5;124m\"\u001b[39m)\n\u001b[1;32m    466\u001b[0m         e\u001b[38;5;241m.\u001b[39mpatch_message(msg)\n\u001b[0;32m--> 468\u001b[0m     \u001b[43merror_rewrite\u001b[49m\u001b[43m(\u001b[49m\u001b[43me\u001b[49m\u001b[43m,\u001b[49m\u001b[43m \u001b[49m\u001b[38;5;124;43m'\u001b[39;49m\u001b[38;5;124;43mtyping\u001b[39;49m\u001b[38;5;124;43m'\u001b[39;49m\u001b[43m)\u001b[49m\n\u001b[1;32m    469\u001b[0m \u001b[38;5;28;01mexcept\u001b[39;00m errors\u001b[38;5;241m.\u001b[39mUnsupportedError \u001b[38;5;28;01mas\u001b[39;00m e:\n\u001b[1;32m    470\u001b[0m     \u001b[38;5;66;03m# Something unsupported is present in the user code, add help info\u001b[39;00m\n\u001b[1;32m    471\u001b[0m     error_rewrite(e, \u001b[38;5;124m'\u001b[39m\u001b[38;5;124munsupported_error\u001b[39m\u001b[38;5;124m'\u001b[39m)\n",
      "File \u001b[0;32m~/Entornos/pyIAA-GIA/lib/python3.10/site-packages/numba/core/dispatcher.py:409\u001b[0m, in \u001b[0;36m_DispatcherBase._compile_for_args.<locals>.error_rewrite\u001b[0;34m(e, issue_type)\u001b[0m\n\u001b[1;32m    407\u001b[0m     \u001b[38;5;28;01mraise\u001b[39;00m e\n\u001b[1;32m    408\u001b[0m \u001b[38;5;28;01melse\u001b[39;00m:\n\u001b[0;32m--> 409\u001b[0m     \u001b[38;5;28;01mraise\u001b[39;00m e\u001b[38;5;241m.\u001b[39mwith_traceback(\u001b[38;5;28;01mNone\u001b[39;00m)\n",
      "\u001b[0;31mTypingError\u001b[0m: Failed in nopython mode pipeline (step: nopython frontend)\nNo implementation of function Function(<built-in function getitem>) found for signature:\n \n >>> getitem(array(float64, 1d, C), Tuple(slice<a:b>, none))\n \nThere are 22 candidate implementations:\n      - Of which 20 did not match due to:\n      Overload of function 'getitem': File: <numerous>: Line N/A.\n        With argument(s): '(array(float64, 1d, C), Tuple(slice<a:b>, none))':\n       No match.\n      - Of which 2 did not match due to:\n      Overload in function 'GetItemBuffer.generic': File: numba/core/typing/arraydecl.py: Line 166.\n        With argument(s): '(array(float64, 1d, C), Tuple(slice<a:b>, none))':\n       Rejected as the implementation raised a specific error:\n         NumbaTypeError: unsupported array index type none in Tuple(slice<a:b>, none)\n  raised from /home/charlie/Entornos/pyIAA-GIA/lib/python3.10/site-packages/numba/core/typing/arraydecl.py:72\n\nDuring: typing of intrinsic-call at /tmp/ipykernel_20670/847960553.py (8)\nDuring: typing of static-get-item at /tmp/ipykernel_20670/847960553.py (8)\n\nFile \"../../../../../../../../tmp/ipykernel_20670/847960553.py\", line 8:\n<source missing, REPL/exec in use?>\n"
     ]
    }
   ],
   "source": [
    "%%time\n",
    "test(T, X)"
   ]
  },
  {
   "cell_type": "code",
   "execution_count": 46,
   "id": "03c113d2",
   "metadata": {},
   "outputs": [
    {
     "data": {
      "text/plain": [
       "dtype('int64')"
      ]
     },
     "execution_count": 46,
     "metadata": {},
     "output_type": "execute_result"
    }
   ],
   "source": [
    "OUTPUT_SHAPE.dtype"
   ]
  },
  {
   "cell_type": "code",
   "execution_count": 24,
   "id": "34e20a62",
   "metadata": {},
   "outputs": [
    {
     "name": "stdout",
     "output_type": "stream",
     "text": [
      "CPU times: user 1min 39s, sys: 6.04 s, total: 1min 45s\n",
      "Wall time: 9.3 s\n"
     ]
    }
   ],
   "source": [
    "%%time\n",
    "# convolve\n",
    "for _ in range(2**8):\n",
    "    (T @ X.flatten()[:, None]).reshape(OUTPUT_SHAPE)"
   ]
  },
  {
   "cell_type": "code",
   "execution_count": 11,
   "id": "ecfab29f",
   "metadata": {},
   "outputs": [
    {
     "name": "stdout",
     "output_type": "stream",
     "text": [
      "X\n",
      "[[[['!' '\"' '#' '$' '%' '&']\n",
      "   [\"'\" '(' ')' '*' '+' ',']\n",
      "   ['-' '.' '/' '0' '1' '2']\n",
      "   ['3' '4' '5' '6' '7' '8']\n",
      "   ['9' ':' ';' '<' '=' '>']\n",
      "   ['?' '@' 'A' 'B' 'C' 'D']]\n",
      "\n",
      "  [['E' 'F' 'G' 'H' 'I' 'J']\n",
      "   ['K' 'L' 'M' 'N' 'O' 'P']\n",
      "   ['Q' 'R' 'S' 'T' 'U' 'V']\n",
      "   ['W' 'X' 'Y' 'Z' '[' '\\\\']\n",
      "   [']' '^' '_' '`' 'a' 'b']\n",
      "   ['c' 'd' 'e' 'f' 'g' 'h']]]]\n",
      "W\n",
      "[[[[2 1]\n",
      "   [2 2]]\n",
      "\n",
      "  [[0 2]\n",
      "   [2 1]]]\n",
      "\n",
      "\n",
      " [[[3 2]\n",
      "   [3 1]]\n",
      "\n",
      "  [[2 1]\n",
      "   [0 1]]]]\n",
      "T\n",
      "[[2 1 0 ... 0 0 0]\n",
      " [0 2 1 ... 0 0 0]\n",
      " [0 0 2 ... 0 0 0]\n",
      " ...\n",
      " [0 0 0 ... 1 0 0]\n",
      " [0 0 0 ... 0 1 0]\n",
      " [0 0 0 ... 0 0 1]]\n"
     ]
    }
   ],
   "source": [
    "print_arrays()"
   ]
  },
  {
   "cell_type": "code",
   "execution_count": 12,
   "id": "4e386abf",
   "metadata": {},
   "outputs": [
    {
     "data": {
      "text/plain": [
       "array([[0, 0, 0, 0, 0, 0, 0, 0, 0, 0, 0, 0, 0, 0, 0, 0, 0, 0, 0, 0, 0, 0,\n",
       "        0, 0, 3, 2, 0, 0, 0, 0, 3, 1, 0, 0, 0, 0, 0, 0, 0, 0, 0, 0, 0, 0,\n",
       "        0, 0, 0, 0, 0, 0, 0, 0, 0, 0, 0, 0, 0, 0, 0, 0, 2, 1, 0, 0, 0, 0,\n",
       "        0, 1, 0, 0, 0, 0],\n",
       "       [0, 0, 0, 0, 0, 0, 0, 0, 0, 0, 0, 0, 0, 0, 0, 0, 0, 0, 0, 0, 0, 0,\n",
       "        0, 0, 0, 3, 2, 0, 0, 0, 0, 3, 1, 0, 0, 0, 0, 0, 0, 0, 0, 0, 0, 0,\n",
       "        0, 0, 0, 0, 0, 0, 0, 0, 0, 0, 0, 0, 0, 0, 0, 0, 0, 2, 1, 0, 0, 0,\n",
       "        0, 0, 1, 0, 0, 0],\n",
       "       [0, 0, 0, 0, 0, 0, 0, 0, 0, 0, 0, 0, 0, 0, 0, 0, 0, 0, 0, 0, 0, 0,\n",
       "        0, 0, 0, 0, 3, 2, 0, 0, 0, 0, 3, 1, 0, 0, 0, 0, 0, 0, 0, 0, 0, 0,\n",
       "        0, 0, 0, 0, 0, 0, 0, 0, 0, 0, 0, 0, 0, 0, 0, 0, 0, 0, 2, 1, 0, 0,\n",
       "        0, 0, 0, 1, 0, 0],\n",
       "       [0, 0, 0, 0, 0, 0, 0, 0, 0, 0, 0, 0, 0, 0, 0, 0, 0, 0, 0, 0, 0, 0,\n",
       "        0, 0, 0, 0, 0, 3, 2, 0, 0, 0, 0, 3, 1, 0, 0, 0, 0, 0, 0, 0, 0, 0,\n",
       "        0, 0, 0, 0, 0, 0, 0, 0, 0, 0, 0, 0, 0, 0, 0, 0, 0, 0, 0, 2, 1, 0,\n",
       "        0, 0, 0, 0, 1, 0],\n",
       "       [0, 0, 0, 0, 0, 0, 0, 0, 0, 0, 0, 0, 0, 0, 0, 0, 0, 0, 0, 0, 0, 0,\n",
       "        0, 0, 0, 0, 0, 0, 3, 2, 0, 0, 0, 0, 3, 1, 0, 0, 0, 0, 0, 0, 0, 0,\n",
       "        0, 0, 0, 0, 0, 0, 0, 0, 0, 0, 0, 0, 0, 0, 0, 0, 0, 0, 0, 0, 2, 1,\n",
       "        0, 0, 0, 0, 0, 1]])"
      ]
     },
     "execution_count": 12,
     "metadata": {},
     "output_type": "execute_result"
    }
   ],
   "source": [
    "T[-5:, :]"
   ]
  }
 ],
 "metadata": {
  "kernelspec": {
   "display_name": "Python 3 (ipykernel)",
   "language": "python",
   "name": "python3"
  },
  "language_info": {
   "codemirror_mode": {
    "name": "ipython",
    "version": 3
   },
   "file_extension": ".py",
   "mimetype": "text/x-python",
   "name": "python",
   "nbconvert_exporter": "python",
   "pygments_lexer": "ipython3",
   "version": "3.10.6"
  }
 },
 "nbformat": 4,
 "nbformat_minor": 5
}
