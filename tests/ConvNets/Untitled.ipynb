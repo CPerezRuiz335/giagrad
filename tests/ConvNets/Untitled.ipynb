{
 "cells": [
  {
   "cell_type": "code",
   "execution_count": 1,
   "id": "0543c1a1",
   "metadata": {},
   "outputs": [
    {
     "data": {
      "text/html": [
       "<style>.container { width:100% !important; }</style>"
      ],
      "text/plain": [
       "<IPython.core.display.HTML object>"
      ]
     },
     "metadata": {},
     "output_type": "display_data"
    }
   ],
   "source": [
    "from IPython.display import display, HTML\n",
    "display(HTML(\"<style>.container { width:100% !important; }</style>\"))"
   ]
  },
  {
   "cell_type": "code",
   "execution_count": 3,
   "id": "0a78c2ef",
   "metadata": {},
   "outputs": [
    {
     "name": "stdout",
     "output_type": "stream",
     "text": [
      "x:\n",
      " tensor([[[[2., 1., 2., 2., 0.],\n",
      "          [2., 2., 1., 3., 2.],\n",
      "          [3., 1., 2., 1., 0.],\n",
      "          [1., 2., 3., 1., 0.],\n",
      "          [2., 0., 3., 1., 3.]],\n",
      "\n",
      "         [[2., 1., 0., 0., 0.],\n",
      "          [0., 1., 3., 3., 2.],\n",
      "          [0., 3., 2., 0., 3.],\n",
      "          [0., 1., 0., 3., 1.],\n",
      "          [3., 0., 0., 0., 2.]]]], requires_grad=True)\n",
      "filters:\n",
      " Parameter containing:\n",
      "tensor([[[[ 2.,  1.],\n",
      "          [ 1.,  2.]],\n",
      "\n",
      "         [[-1., -7.],\n",
      "          [-5.,  6.]]]], requires_grad=True)\n",
      "output cnn:\n",
      " tensor([[[[ 2.1133e-02,  2.1133e-02,  2.1133e-02,  2.1133e-02,  2.1133e-02],\n",
      "          [ 2.1133e-02,  1.6021e+01,  2.1133e-02,  2.0211e+00,  2.1133e-02],\n",
      "          [ 2.1133e-02,  8.0211e+00, -1.4979e+01,  1.0021e+01,  2.1133e-02],\n",
      "          [ 2.1133e-02,  2.3021e+01,  1.2021e+01,  1.1021e+01,  2.1133e-02],\n",
      "          [ 2.1133e-02,  2.1133e-02,  2.1133e-02,  2.1133e-02,  2.1133e-02]]]],\n",
      "       grad_fn=<ConvolutionBackward0>)\n",
      "x gradient:\n",
      " tensor([[[[ 2.,  1.,  2.,  1.,  2.],\n",
      "          [ 1.,  2.,  1.,  2.,  1.],\n",
      "          [ 2.,  1.,  2.,  1.,  2.],\n",
      "          [ 1.,  2.,  1.,  2.,  1.],\n",
      "          [ 2.,  1.,  2.,  1.,  2.]],\n",
      "\n",
      "         [[ 6., -5.,  6., -5.,  6.],\n",
      "          [-7., -1., -7., -1., -7.],\n",
      "          [ 6., -5.,  6., -5.,  6.],\n",
      "          [-7., -1., -7., -1., -7.],\n",
      "          [ 6., -5.,  6., -5.,  6.]]]])\n",
      "filters gradient:\n",
      " tensor([[[[ 8.,  9.],\n",
      "          [ 6., 17.]],\n",
      "\n",
      "         [[ 8.,  6.],\n",
      "          [ 4., 12.]]]])\n",
      "torch.Size([1, 1, 5, 5])\n"
     ]
    }
   ],
   "source": [
    "import sys\n",
    "import torch\n",
    "sys.path.append('../../')\n",
    "from giagrad import Tensor\n",
    "import string\n",
    "from itertools import chain\n",
    "from math import floor\n",
    "import numpy as np\n",
    "import torch\n",
    "# np.random.seed(1234)\n",
    "# alphabet = [chr(i) for i in chain(range(33,127), range(161, 1500))]\n",
    "# # Channels out, Channels in, kernel Height, kernel Width\n",
    "# def kernel(Cout, Cin, *args, a=0, b=4):\n",
    "#     return np.random.randint(a, b, (Cout, Cin)+(args))\n",
    "\n",
    "# def dataBatched(*args):\n",
    "#     return np.array(alphabet[:np.prod(args)], dtype=object).reshape(args)\n",
    "# #     return np.random.randint(-1000, 1000, (N, Cin, Hin, Win, Din))\n",
    "\n",
    "# # define size\n",
    "# N, Cin, Hin, Win = 1, 2, 3, 3\n",
    "# kH, kW = (kernel_size := (5, 5))\n",
    "# Cout = 2\n",
    "# # DATA\n",
    "# data = dataBatched(N, Cin, Hin, Win)\n",
    "# # random KERNEL\n",
    "# k = kernel(Cout, Cin, kH, kW)\n",
    "\n",
    "# x = Tensor(data)\n",
    "# w = Tensor(k)\n",
    "\n",
    "\n",
    "# params = ConvParams(\n",
    "        # kernel_size=(2,2),\n",
    "        # stride=(1,2),\n",
    "        # dilation=(2,1),\n",
    "        # padding=1,\n",
    "        # padding_mode='constant',\n",
    "        # padding_kwargs={},\n",
    "        # groups=1,\n",
    "    # )\n",
    "# \n",
    "# print(params.kernel_size)\n",
    "# print(params.stride)\n",
    "# print(params.dilation)\n",
    "# print(params.padding)\n",
    "# print(params.padding_mode)\n",
    "\n",
    "torch.manual_seed(123)\n",
    "\n",
    "x = torch.randint(high=4, size=(1, 2, 5, 5), dtype=torch.float32, requires_grad=True)\n",
    "cnn2d = torch.nn.Conv2d(\n",
    "        in_channels=2, \n",
    "        out_channels=1, \n",
    "        kernel_size=2, \n",
    "        stride=2,\n",
    "        padding=3,\n",
    ")\n",
    "\n",
    "print('x:\\n', x)\n",
    "print('filters:\\n', cnn2d.weight)\n",
    "out = cnn2d(x)\n",
    "print('output cnn:\\n', out)\n",
    "\n",
    "# backward\n",
    "z = out.sum()\n",
    "z.backward(retain_graph=True)\n",
    "\n",
    "print('x gradient:\\n', x.grad)\n",
    "print('filters gradient:\\n', cnn2d.weight.grad)\n",
    "print(out.shape)\n",
    "\n",
    "from torchviz import make_dot\n",
    "from graphviz import Source\n",
    "\n",
    "graph = make_dot(z)\n"
   ]
  },
  {
   "cell_type": "code",
   "execution_count": 86,
   "id": "c1db6a3e",
   "metadata": {},
   "outputs": [
    {
     "data": {
      "text/plain": [
       "tensor([[[[ 0., -1., -2., -1., -2.,  1.],\n",
       "          [ 1.,  1., -1.,  1., -2., -1.],\n",
       "          [ 0., -1.,  0.,  1., -2.,  0.],\n",
       "          [-2., -1., -2.,  0.,  0., -2.],\n",
       "          [ 0., -1., -2., -1.,  1.,  1.],\n",
       "          [-1., -1., -1.,  1.,  0.,  1.]]]], requires_grad=True)"
      ]
     },
     "execution_count": 86,
     "metadata": {},
     "output_type": "execute_result"
    }
   ],
   "source": [
    "x = torch.randint(low=-2, high=2, size=(1, 1, 6, 6), dtype=torch.float32, requires_grad=True)\n",
    "x"
   ]
  },
  {
   "cell_type": "code",
   "execution_count": 112,
   "id": "8ba243a7",
   "metadata": {},
   "outputs": [],
   "source": [
    "cnn2d = torch.nn.Conv2d(\n",
    "        in_channels=1,\n",
    "        out_channels=1, \n",
    "        kernel_size=2, \n",
    "        stride=2,\n",
    "        dilation=2\n",
    ")\n",
    "# cnn2d.weight.data *= 20\n",
    "# cnn2d.weight.data //= 1\n",
    "\n",
    "cnt2d = torch.nn.ConvTranspose2d(\n",
    "        in_channels=1,\n",
    "        out_channels=1,\n",
    "        kernel_size=2,\n",
    "        stride=2,\n",
    "        dilation=2,\n",
    "        padding=2\n",
    ")\n",
    "# cnt2d.weight.data *= 20\n",
    "# cnt2d.weight.data //= 1"
   ]
  },
  {
   "cell_type": "code",
   "execution_count": 98,
   "id": "2f050080",
   "metadata": {},
   "outputs": [
    {
     "data": {
      "text/plain": [
       "tensor([[[[-0.3940, -0.0649],\n",
       "          [-0.4195, -0.1568]]]])"
      ]
     },
     "execution_count": 98,
     "metadata": {},
     "output_type": "execute_result"
    }
   ],
   "source": [
    "cnt2d.weight.data"
   ]
  },
  {
   "cell_type": "code",
   "execution_count": 89,
   "id": "55e47d33",
   "metadata": {},
   "outputs": [
    {
     "data": {
      "text/plain": [
       "tensor([[[[-0.4056,  0.2532],\n",
       "          [-0.7577,  0.9623]]]], grad_fn=<ConvolutionBackward0>)"
      ]
     },
     "execution_count": 89,
     "metadata": {},
     "output_type": "execute_result"
    }
   ],
   "source": [
    "cnn"
   ]
  },
  {
   "cell_type": "code",
   "execution_count": 99,
   "id": "7d730fa2",
   "metadata": {},
   "outputs": [
    {
     "data": {
      "text/plain": [
       "tensor(0.0584, grad_fn=<SumBackward0>)"
      ]
     },
     "execution_count": 99,
     "metadata": {},
     "output_type": "execute_result"
    }
   ],
   "source": [
    "(cnt2d.weight.data*cnn).sum()"
   ]
  },
  {
   "cell_type": "code",
   "execution_count": 113,
   "id": "3fdf429c",
   "metadata": {},
   "outputs": [
    {
     "name": "stdout",
     "output_type": "stream",
     "text": [
      "tensor([[[[ 0.2574,  0.1893],\n",
      "          [ 0.3915, -0.4424]]]], grad_fn=<ConvolutionBackward0>)\n"
     ]
    }
   ],
   "source": [
    "cnn = cnn2d(x)\n",
    "print(cnn)"
   ]
  },
  {
   "cell_type": "code",
   "execution_count": 114,
   "id": "bcc0891e",
   "metadata": {},
   "outputs": [
    {
     "name": "stdout",
     "output_type": "stream",
     "text": [
      "tensor([[[[-0.4127]]]], grad_fn=<ConvolutionBackward0>)\n"
     ]
    }
   ],
   "source": [
    "cnt = cnt2d(cnn)\n",
    "print(cnt)"
   ]
  },
  {
   "cell_type": "code",
   "execution_count": 116,
   "id": "cf94f696",
   "metadata": {},
   "outputs": [
    {
     "data": {
      "text/plain": [
       "5"
      ]
     },
     "execution_count": 116,
     "metadata": {},
     "output_type": "execute_result"
    }
   ],
   "source": [
    "1 * 2  + 2 *(1) + 1"
   ]
  }
 ],
 "metadata": {
  "kernelspec": {
   "display_name": "Python 3 (ipykernel)",
   "language": "python",
   "name": "python3"
  },
  "language_info": {
   "codemirror_mode": {
    "name": "ipython",
    "version": 3
   },
   "file_extension": ".py",
   "mimetype": "text/x-python",
   "name": "python",
   "nbconvert_exporter": "python",
   "pygments_lexer": "ipython3",
   "version": "3.10.6"
  }
 },
 "nbformat": 4,
 "nbformat_minor": 5
}
