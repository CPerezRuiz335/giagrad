{
 "cells": [
  {
   "cell_type": "code",
   "execution_count": 1,
   "id": "79936de0",
   "metadata": {},
   "outputs": [
    {
     "data": {
      "text/html": [
       "<style>.container { width:100% !important; }</style>"
      ],
      "text/plain": [
       "<IPython.core.display.HTML object>"
      ]
     },
     "metadata": {},
     "output_type": "display_data"
    }
   ],
   "source": [
    "from IPython.display import display, HTML\n",
    "display(HTML(\"<style>.container { width:100% !important; }</style>\"))"
   ]
  },
  {
   "cell_type": "code",
   "execution_count": 2,
   "id": "3c163f93",
   "metadata": {},
   "outputs": [],
   "source": [
    "import torch # type: ignore\n",
    "import sys; sys.path.append('../../')\n",
    "from  giagrad.tensor import Tensor\n",
    "import numpy as np\n",
    "from giagrad.display import draw_dot\n",
    "import torch.nn as nn\n",
    "import string\n",
    "import math\n",
    "from itertools import chain\n",
    "from numpy.lib.stride_tricks import as_strided\n",
    "np.random.seed(1234)"
   ]
  },
  {
   "cell_type": "markdown",
   "id": "ca7a7825",
   "metadata": {},
   "source": [
    "# Conv 3D"
   ]
  },
  {
   "cell_type": "markdown",
   "id": "56df0a25",
   "metadata": {},
   "source": [
    "## Helpers"
   ]
  },
  {
   "cell_type": "code",
   "execution_count": 22,
   "id": "9272bb7a",
   "metadata": {},
   "outputs": [],
   "source": [
    "import string\n",
    "from math import floor\n",
    "alphabet = [chr(i) for i in chain(range(33,127), range(161, 1500))]\n",
    "# Channels out, Channels in, kernel Height, kernel Width\n",
    "def kernel(Cout, Cin, kD, kH, kW, a=0, b=4):\n",
    "    return np.random.randint(a, b, (Cout, Cin, kD, kH, kW))\n",
    "\n",
    "def dataBatched(N, Cin, Din, Hin, Win):\n",
    "    return np.array(alphabet[:N*Cin*Din*Hin*Win], dtype=object).reshape((N, Cin, Din, Hin, Win))\n",
    "#     return np.random.randint(-1000, 1000, (N, Cin, Hin, Win, Din))\n",
    "\n",
    "def dataUnBatched(Cin, Din, Hin, Win):\n",
    "    return np.array(alphabet[:Cin*Hin*Win*Din], dtype=object).reshape((Cin, Din, Hin, Win))"
   ]
  },
  {
   "cell_type": "markdown",
   "id": "934e35b8",
   "metadata": {},
   "source": [
    "## Forward"
   ]
  },
  {
   "cell_type": "markdown",
   "id": "c4b05fe3",
   "metadata": {},
   "source": [
    "Para la convolucion se necesita convertir con as_strided el array anterior para que tenga dimension:\n",
    "    $$(N, D_{in}, C_{in}, H_{in}, W_{in})$$\n",
    "Donde \n",
    "$$\n",
    "D_{out} = \\left\\lfloor \n",
    "            \\frac{D_{in} + 2 \\times padding[0] - dilation[0] \\times (kernel\\_size[0] -1) - 1}\n",
    "                 {stride[0]} + 1 \n",
    "           \\right\\rfloor \\\\\n",
    "H_{out} = \\left\\lfloor \n",
    "            \\frac{H_{in} + 2 \\times padding[1] - dilation[1] \\times (kernel\\_size[1] -1) - 1}\n",
    "                 {stride[1]} + 1\n",
    "           \\right\\rfloor \\\\\n",
    "W_{out} = \\left\\lfloor \n",
    "            \\frac{W_{in} + 2 \\times padding[2] - dilation[2] \\times (kernel\\_size[2] -1) - 1}\n",
    "                 {stride[2]} + 1 \n",
    "           \\right\\rfloor \\\\\n",
    "$$"
   ]
  },
  {
   "cell_type": "code",
   "execution_count": 23,
   "id": "98c2f631",
   "metadata": {},
   "outputs": [],
   "source": [
    "def out_shape(N, Cout, in_, padding, stride, dilation, kernel_size):\n",
    "    in_ = np.array(in_, dtype=np.float32)\n",
    "    padding = np.array(padding, dtype=np.float32)\n",
    "    stride = np.array(stride, dtype=np.float32)\n",
    "    dilation = np.array(dilation, dtype=np.float32)\n",
    "    kernel_size = np.array(kernel_size, dtype=np.float32)\n",
    "    out = (in_ + 2*padding - dilation*(kernel_size-1) -1) / stride + 1\n",
    "    return np.insert(out, 0, (N, Cout)).astype(int)"
   ]
  },
  {
   "cell_type": "code",
   "execution_count": 30,
   "id": "99a8c5ba",
   "metadata": {},
   "outputs": [
    {
     "name": "stdout",
     "output_type": "stream",
     "text": [
      "out_shape:  (3, 1, 3, 4)\n"
     ]
    }
   ],
   "source": [
    "N, Cin, Din, Hin, Win = 1, 1, 2, 5, 5\n",
    "kD, kH, kW = 2, 2, 2\n",
    "Cout = 3\n",
    "padding = (0, 0, 0)\n",
    "dilation = (1, 2, 1)\n",
    "stride = (1, 1, 1)\n",
    "# define output shape\n",
    "N, Cout, Dout, Hout, Wout = out_shape(\n",
    "          N, \n",
    "          Cout, \n",
    "          in_=(Din, Hin, Win),\n",
    "          padding=padding,\n",
    "          stride=stride,\n",
    "          dilation=dilation,\n",
    "          kernel_size=(kD, kH, kW)   \n",
    "      )\n",
    "shape_out = (\n",
    "#             N, \n",
    "             Cout, Dout, Hout, Wout)\n",
    "print('out_shape: ', shape_out)"
   ]
  },
  {
   "cell_type": "code",
   "execution_count": 31,
   "id": "a27c3e7e",
   "metadata": {},
   "outputs": [],
   "source": [
    "# DATA\n",
    "data = dataUnBatched(Cin, Din, Hin, Win)\n",
    "# random KERNEL\n",
    "k = kernel(Cout, Cin, kD, kH, kW)"
   ]
  },
  {
   "cell_type": "markdown",
   "id": "da32a0fa",
   "metadata": {},
   "source": [
    "tenemos:\n",
    "\n",
    "    - [ -8, -7, -6 , -5 , -4 , -3 , -2 , -1 ] * itemsize in bytes\n",
    "    \n",
    "    posicion -1: dilation[2], horizontal dilation\n",
    "    posicion -2: Win * dilation[1], vertical dilation\n",
    "    posicion -3: Hin * Win * dilation[0], depth dilation\n",
    "    posicion -4: Hin * Win * Din, jump to next Channel\n",
    "    posicion -5: stride[2], horizontal stride\n",
    "    posicion -6: Win * stride[1], vertical stride\n",
    "    posicion -7: Hin * Win * stride[0], depth stride\n",
    "    posicion -8: Hin*Win*Cin*Din, next observation in Batched data\n",
    "\n",
    "y el shape del strided array tiene que ser:\n",
    "    \n",
    "    -  [ -8, -7, -6 , -5 , -4 , -3 , -2 , -1 ]\n",
    "    \n",
    "    posicion -1: kW\n",
    "    posicion -2: kH\n",
    "    posicion -3: kD\n",
    "    posicion -4: Cin\n",
    "    posicion -5: Wout\n",
    "    posicion -6: Hout\n",
    "    posicion -7: Dout\n",
    "    posicion -8: N"
   ]
  },
  {
   "cell_type": "code",
   "execution_count": 32,
   "id": "2a5f1070",
   "metadata": {},
   "outputs": [
    {
     "name": "stdout",
     "output_type": "stream",
     "text": [
      "strides no byte:  [25.  5.  1. 50. 25. 10.  1.]\n",
      "strides in bytes:  [200  40   8 400 200  80   8]\n",
      "strided output shape:  (1, 3, 4, 1, 2, 2, 2)\n",
      "kernel shape:  (3, 1, 2, 2, 2)\n",
      "data shape:  (1, 2, 5, 5)\n",
      "desired convolutional shape: (3, 1, 3, 4)\n"
     ]
    }
   ],
   "source": [
    "stridedShape = (\n",
    "#     N,\n",
    "    Dout,\n",
    "    Hout, \n",
    "    Wout, \n",
    "    Cin,\n",
    "    kD,\n",
    "    kH, \n",
    "    kW\n",
    ")\n",
    "\n",
    "strides = np.array([\n",
    "#      Hin*Win*Din*Cin,\n",
    "     Hin*Win*stride[0],\n",
    "     Win*stride[1],\n",
    "     stride[2],\n",
    "     Hin*Win*Din,\n",
    "     Hin*Win*dilation[0],\n",
    "     Win*dilation[1],\n",
    "     dilation[2]]) * data.itemsize\n",
    "\n",
    "print('strides no byte: ', strides/data.itemsize)\n",
    "print('strides in bytes: ', strides)\n",
    "print('strided output shape: ', stridedShape)\n",
    "print('kernel shape: ', k.shape)\n",
    "print('data shape: ', data.shape)\n",
    "print('desired convolutional shape:', shape_out)"
   ]
  },
  {
   "cell_type": "code",
   "execution_count": 33,
   "id": "ef40a845",
   "metadata": {},
   "outputs": [],
   "source": [
    "# expand data to apply tensordot\n",
    "strided_array = as_strided(data, shape=stridedShape, strides=strides)"
   ]
  },
  {
   "cell_type": "code",
   "execution_count": 37,
   "id": "aa197fe6",
   "metadata": {},
   "outputs": [
    {
     "name": "stdout",
     "output_type": "stream",
     "text": [
      "convolved shape:  (1, 3, 3, 4)\n",
      "desired shape:  (3, 1, 3, 4)\n"
     ]
    }
   ],
   "source": [
    "convolved = np.swapaxes(np.tensordot(k, strided_array, axes=([1, 2, 3, 4], [3, 4, 5, 6, ])), 0, 1)\n",
    "print('convolved shape: ', convolved.shape)\n",
    "print('desired shape: ', shape_out)"
   ]
  },
  {
   "cell_type": "markdown",
   "id": "6f97b834",
   "metadata": {},
   "source": [
    "## Test MyGrad\n",
    "\n",
    "```python\n",
    "class ConvND:\n",
    "    def __call__(self, x, w, *, stride, padding=0, dilation=1):\n",
    "        # x ... data:    (N, C, X0, X1, ...)\n",
    "        # w ... filters: (F, C, W0, W1, ...)\n",
    "```"
   ]
  },
  {
   "cell_type": "code",
   "execution_count": 11,
   "id": "d2593ac2",
   "metadata": {},
   "outputs": [],
   "source": [
    "from mygrad import ConvND"
   ]
  },
  {
   "cell_type": "code",
   "execution_count": 12,
   "id": "9e8b7882",
   "metadata": {},
   "outputs": [
    {
     "name": "stdout",
     "output_type": "stream",
     "text": [
      "mygrad convolved shape:  (2, 3, 4, 3, 4)\n",
      "desired shape:  (2, 3, 4, 3, 4)\n"
     ]
    }
   ],
   "source": [
    "conv_layer = ConvND()\n",
    "mygrad_convolve = conv_layer(data, k, stride=stride, padding=padding, dilation=dilation)\n",
    "print('mygrad convolved shape: ', mygrad_convolve.shape)\n",
    "print('desired shape: ', shape_out)"
   ]
  },
  {
   "cell_type": "code",
   "execution_count": 13,
   "id": "74436ab0",
   "metadata": {},
   "outputs": [
    {
     "data": {
      "text/plain": [
       "True"
      ]
     },
     "execution_count": 13,
     "metadata": {},
     "output_type": "execute_result"
    }
   ],
   "source": [
    "# CHECK!!!\n",
    "np.all(convolved == mygrad_convolve)"
   ]
  }
 ],
 "metadata": {
  "kernelspec": {
   "display_name": "Python 3 (ipykernel)",
   "language": "python",
   "name": "python3"
  },
  "language_info": {
   "codemirror_mode": {
    "name": "ipython",
    "version": 3
   },
   "file_extension": ".py",
   "mimetype": "text/x-python",
   "name": "python",
   "nbconvert_exporter": "python",
   "pygments_lexer": "ipython3",
   "version": "3.10.6"
  }
 },
 "nbformat": 4,
 "nbformat_minor": 5
}
