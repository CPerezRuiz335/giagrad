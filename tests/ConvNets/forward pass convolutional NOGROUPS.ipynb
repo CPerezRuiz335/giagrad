{
 "cells": [
  {
   "cell_type": "code",
   "execution_count": 1,
   "id": "79936de0",
   "metadata": {},
   "outputs": [
    {
     "data": {
      "text/html": [
       "<style>.container { width:100% !important; }</style>"
      ],
      "text/plain": [
       "<IPython.core.display.HTML object>"
      ]
     },
     "metadata": {},
     "output_type": "display_data"
    }
   ],
   "source": [
    "from IPython.display import display, HTML\n",
    "display(HTML(\"<style>.container { width:100% !important; }</style>\"))"
   ]
  },
  {
   "cell_type": "code",
   "execution_count": 2,
   "id": "3c163f93",
   "metadata": {},
   "outputs": [],
   "source": [
    "import torch # type: ignore\n",
    "import sys; sys.path.append('../../')\n",
    "from  giagrad.tensor import Tensor\n",
    "import numpy as np\n",
    "from giagrad.display import draw_dot\n",
    "import torch.nn as nn\n",
    "import string\n",
    "import math\n",
    "from itertools import chain\n",
    "from numpy.lib.stride_tricks import as_strided"
   ]
  },
  {
   "cell_type": "markdown",
   "id": "ca7a7825",
   "metadata": {},
   "source": [
    "# Conv 2D"
   ]
  },
  {
   "cell_type": "markdown",
   "id": "56df0a25",
   "metadata": {},
   "source": [
    "## Helpers"
   ]
  },
  {
   "cell_type": "code",
   "execution_count": 3,
   "id": "9272bb7a",
   "metadata": {},
   "outputs": [],
   "source": [
    "import string\n",
    "from math import floor\n",
    "alphabet = [chr(i) for i in chain(range(33,127), range(161, 1200))]\n",
    "# Channels out, Channels in, kernel Height, kernel Width\n",
    "def kernel(Cout, Cin, kH, kW, a=0, b=4):\n",
    "    return np.random.randint(a, b, (Cout, Cin, kH, kW))\n",
    "\n",
    "def dataBatched(N, Cin, Hin, Win):\n",
    "#     return np.array(alphabet[:N*Cin*Hin*Win], dtype=object).reshape((N, Cin, Hin, Win))\n",
    "    return np.random.randint(-1000, 1000, (N, Cin, Hin, Win))\n",
    "\n",
    "def dataUnBatched(Cin, Hin, Win):\n",
    "    return np.array(alphabet[:Cin*Hin*Win], dtype=object).reshape((Cin, Hin, Win))"
   ]
  },
  {
   "cell_type": "markdown",
   "id": "934e35b8",
   "metadata": {},
   "source": [
    "## Forward"
   ]
  },
  {
   "cell_type": "markdown",
   "id": "c4b05fe3",
   "metadata": {},
   "source": [
    "Para la convolucion se necesita convertir con as_strided el array anterior para que tenga dimension:\n",
    "    $$(N, C_{in}, H_{in}, W_{in})$$\n",
    "Donde \n",
    "$$\n",
    "H_{out} = \\left\\lfloor \n",
    "            \\frac{H_{in} + 2 \\times padding[0] - dilation[0] \\times (kernel\\_size[0] -1) - 1}\n",
    "                 {stride[0]} + 1\n",
    "           \\right\\rfloor \\\\\n",
    "W_{out} = \\left\\lfloor \n",
    "            \\frac{W_{in} + 2 \\times padding[0] - dilation[0] \\times (kernel\\_size[1] -1) - 1}\n",
    "                 {stride[1]} + 1 \n",
    "           \\right\\rfloor \\\\\n",
    "$$"
   ]
  },
  {
   "cell_type": "code",
   "execution_count": 12,
   "id": "99a8c5ba",
   "metadata": {},
   "outputs": [
    {
     "name": "stdout",
     "output_type": "stream",
     "text": [
      "Hout:  9\n",
      "Wout:  9\n",
      "out_shape:  (2, 5, 9, 9)\n"
     ]
    }
   ],
   "source": [
    "N, Cin, Hin, Win = 2, 3, 10, 10\n",
    "kH, kW = 2, 2\n",
    "Cout = 5\n",
    "padding = (0, 0)\n",
    "dilation = (1, 1)\n",
    "stride = (1, 1)\n",
    "\n",
    "Hout = floor((Hin + 2 * padding[0] - dilation[0] * (kH - 1) - 1) / stride[0]  + 1)\n",
    "Wout = floor((Win + 2 * padding[1] - dilation[1] * (kW - 1) - 1) / stride[1]  + 1)\n",
    "\n",
    "print('Hout: ', Hout)\n",
    "print('Wout: ', Wout)\n",
    "\n",
    "# define output shape\n",
    "out_shape = (N, Cout, Hout, Wout)\n",
    "print('out_shape: ', out_shape)"
   ]
  },
  {
   "cell_type": "code",
   "execution_count": 13,
   "id": "a27c3e7e",
   "metadata": {},
   "outputs": [],
   "source": [
    "# DATA\n",
    "data = dataBatched(N, Cin, Hin, Win)\n",
    "# random KERNEL\n",
    "k = kernel(Cout, Cin, kH, kW)"
   ]
  },
  {
   "cell_type": "markdown",
   "id": "da32a0fa",
   "metadata": {},
   "source": [
    "strides debe tener una dimension mas que out_shape, ya que cada matrix $H_{in} \\times W_{out}$ se debe dividir en todas las posibles mulitplicaciones del kernel.    \n",
    "\n",
    "tenemos:\n",
    "\n",
    "    - [ -6 , -5 , -4 , -3 , -2 , -1 ] * itemsize in bytes\n",
    "    \n",
    "    posicion -1: dilation[1], horizontal dilation\n",
    "    posicion -2: Win * dilation[0], vertical dilation\n",
    "    posicion -3: Hin*Win, jump to next Channel\n",
    "    posicion -4: stride[1], horizontal stride\n",
    "    posicion -5: Win*stride[0], vertical stride\n",
    "    posicion -6: Hin*Win*Cin, next observation in Batched data\n",
    "\n",
    "y el shape del strided array tiene que ser:\n",
    "    \n",
    "    -  [ -6 , -5 , -4 , -3 , -2 , -1 ]\n",
    "    \n",
    "    posicion -1: k2\n",
    "    posicion -2: k1\n",
    "    posicion -3: Cin\n",
    "    posicion -4: Wout\n",
    "    posicion -5: Hout\n",
    "    posicion -6: N"
   ]
  },
  {
   "cell_type": "code",
   "execution_count": 6,
   "id": "2a5f1070",
   "metadata": {},
   "outputs": [
    {
     "name": "stdout",
     "output_type": "stream",
     "text": [
      "strides no byte:  [2.352e+03 2.800e+01 1.000e+00 7.840e+02 2.800e+01 1.000e+00]\n",
      "strides in bytes:  [18816   224     8  6272   224     8]\n",
      "strided output shape:  (250, 19, 19, 3, 10, 10)\n",
      "kernel shape:  (5, 3, 10, 10)\n",
      "data shape:  (250, 3, 28, 28)\n"
     ]
    }
   ],
   "source": [
    "stridedShape = (\n",
    "    N,\n",
    "    Hout, \n",
    "    Wout, \n",
    "    Cin,\n",
    "    kH, \n",
    "    kW\n",
    ")\n",
    "\n",
    "strides = np.array(\n",
    "    [Hin*Win*Cin,\n",
    "     Win*stride[0],\n",
    "     stride[1],\n",
    "     Hin*Win,\n",
    "     Win*dilation[0],\n",
    "     dilation[1]]) * data.itemsize\n",
    "\n",
    "print('strides no byte: ', strides/data.itemsize)\n",
    "print('strides in bytes: ', strides)\n",
    "print('strided output shape: ', stridedShape)\n",
    "print('kernel shape: ', k.shape)\n",
    "print('data shape: ', data.shape)"
   ]
  },
  {
   "cell_type": "code",
   "execution_count": 7,
   "id": "ef40a845",
   "metadata": {},
   "outputs": [],
   "source": [
    "# expand data to apply tensordot\n",
    "strided_array = as_strided(data, shape=stridedShape, strides=strides)"
   ]
  },
  {
   "cell_type": "code",
   "execution_count": 8,
   "id": "aa197fe6",
   "metadata": {},
   "outputs": [
    {
     "name": "stdout",
     "output_type": "stream",
     "text": [
      "convolved shape:  (250, 5, 19, 19)\n",
      "desired shape:  (250, 5, 19, 19)\n"
     ]
    }
   ],
   "source": [
    "convolved = np.swapaxes(np.tensordot(k, strided_array, axes=([1, 2, 3], [3, 4, 5])), 0, 1)\n",
    "print('convolved shape: ', convolved.shape)\n",
    "print('desired shape: ', out_shape)"
   ]
  },
  {
   "cell_type": "markdown",
   "id": "6f97b834",
   "metadata": {},
   "source": [
    "## Test MyGrad\n",
    "\n",
    "```python\n",
    "class ConvND:\n",
    "    def __call__(self, x, w, *, stride, padding=0, dilation=1):\n",
    "        # x ... data:    (N, C, X0, X1, ...)\n",
    "        # w ... filters: (F, C, W0, W1, ...)\n",
    "```"
   ]
  },
  {
   "cell_type": "code",
   "execution_count": 9,
   "id": "d2593ac2",
   "metadata": {},
   "outputs": [],
   "source": [
    "from mygrad import ConvND"
   ]
  },
  {
   "cell_type": "code",
   "execution_count": 14,
   "id": "9e8b7882",
   "metadata": {},
   "outputs": [
    {
     "name": "stdout",
     "output_type": "stream",
     "text": [
      "mygrad convolved shape:  (2, 5, 9, 9)\n",
      "desired shape:  (2, 5, 9, 9)\n"
     ]
    }
   ],
   "source": [
    "conv_layer = ConvND()\n",
    "mygrad_convolve = conv_layer(data, k, stride=stride, padding=padding, dilation=dilation)\n",
    "print('mygrad convolved shape: ', mygrad_convolve.shape)\n",
    "print('desired shape: ', out_shape)"
   ]
  },
  {
   "cell_type": "code",
   "execution_count": 11,
   "id": "74436ab0",
   "metadata": {},
   "outputs": [
    {
     "data": {
      "text/plain": [
       "True"
      ]
     },
     "execution_count": 11,
     "metadata": {},
     "output_type": "execute_result"
    }
   ],
   "source": [
    "# CHECK!!!\n",
    "np.all(convolved == mygrad_convolve)"
   ]
  },
  {
   "cell_type": "markdown",
   "id": "9d050770",
   "metadata": {},
   "source": [
    "## Backward"
   ]
  },
  {
   "cell_type": "code",
   "execution_count": 17,
   "id": "61ff64e9",
   "metadata": {},
   "outputs": [
    {
     "ename": "AttributeError",
     "evalue": "'memoryview' object has no attribute 'flags'",
     "output_type": "error",
     "traceback": [
      "\u001b[0;31m---------------------------------------------------------------------------\u001b[0m",
      "\u001b[0;31mAttributeError\u001b[0m                            Traceback (most recent call last)",
      "Cell \u001b[0;32mIn [17], line 1\u001b[0m\n\u001b[0;32m----> 1\u001b[0m \u001b[43mconv_layer\u001b[49m\u001b[38;5;241;43m.\u001b[39;49m\u001b[43mbackward_var\u001b[49m\u001b[43m(\u001b[49m\u001b[43mmygrad_convolve\u001b[49m\u001b[43m,\u001b[49m\u001b[43m \u001b[49m\u001b[38;5;241;43m1\u001b[39;49m\u001b[43m)\u001b[49m\n",
      "File \u001b[0;32m~/Documentos/UPC/PROYECTOS/giagrad/tests/ConvNets/mygrad.py:246\u001b[0m, in \u001b[0;36mConvND.backward_var\u001b[0;34m(self, grad, index, **kwargs)\u001b[0m\n\u001b[1;32m    242\u001b[0m x \u001b[38;5;241m=\u001b[39m np\u001b[38;5;241m.\u001b[39mpad(x, axis_pad, mode\u001b[38;5;241m=\u001b[39m\u001b[38;5;124m\"\u001b[39m\u001b[38;5;124mconstant\u001b[39m\u001b[38;5;124m\"\u001b[39m) \u001b[38;5;28;01mif\u001b[39;00m \u001b[38;5;28msum\u001b[39m(\u001b[38;5;28mself\u001b[39m\u001b[38;5;241m.\u001b[39mpadding) \u001b[38;5;28;01melse\u001b[39;00m x\n\u001b[1;32m    244\u001b[0m \u001b[38;5;66;03m# (G0, ...) is the tuple of grid-indices for placing each window (not including stride)\u001b[39;00m\n\u001b[1;32m    245\u001b[0m \u001b[38;5;66;03m# (N, C, X0, ...) -> (G0, ..., N, C, W0, ...)\u001b[39;00m\n\u001b[0;32m--> 246\u001b[0m windowed_data \u001b[38;5;241m=\u001b[39m \u001b[43msliding_window_view\u001b[49m\u001b[43m(\u001b[49m\n\u001b[1;32m    247\u001b[0m \u001b[43m    \u001b[49m\u001b[43mx\u001b[49m\u001b[43m,\u001b[49m\u001b[43m \u001b[49m\u001b[43mwindow_shape\u001b[49m\u001b[38;5;241;43m=\u001b[39;49m\u001b[43mw\u001b[49m\u001b[38;5;241;43m.\u001b[39;49m\u001b[43mshape\u001b[49m\u001b[43m[\u001b[49m\u001b[38;5;241;43m2\u001b[39;49m\u001b[43m:\u001b[49m\u001b[43m]\u001b[49m\u001b[43m,\u001b[49m\u001b[43m \u001b[49m\u001b[43mstep\u001b[49m\u001b[38;5;241;43m=\u001b[39;49m\u001b[38;5;28;43mself\u001b[39;49m\u001b[38;5;241;43m.\u001b[39;49m\u001b[43mstride\u001b[49m\u001b[43m,\u001b[49m\u001b[43m \u001b[49m\u001b[43mdilation\u001b[49m\u001b[38;5;241;43m=\u001b[39;49m\u001b[38;5;28;43mself\u001b[39;49m\u001b[38;5;241;43m.\u001b[39;49m\u001b[43mdilation\u001b[49m\n\u001b[1;32m    248\u001b[0m \u001b[43m\u001b[49m\u001b[43m)\u001b[49m\n\u001b[1;32m    250\u001b[0m \u001b[38;5;66;03m# (N, F, G0, ...) -tdot- (G0, ..., N, C, W0, ...) --> (F, C, W0, ...)\u001b[39;00m\n\u001b[1;32m    251\u001b[0m grad_axes \u001b[38;5;241m=\u001b[39m \u001b[38;5;28mlist\u001b[39m(\u001b[38;5;28mrange\u001b[39m(\u001b[38;5;241m2\u001b[39m, num_conv_channels \u001b[38;5;241m+\u001b[39m \u001b[38;5;241m2\u001b[39m)) \u001b[38;5;241m+\u001b[39m [\u001b[38;5;241m0\u001b[39m]  \u001b[38;5;66;03m# (G0, ..., N)\u001b[39;00m\n",
      "File \u001b[0;32m~/Documentos/UPC/PROYECTOS/giagrad/tests/ConvNets/mygrad.py:83\u001b[0m, in \u001b[0;36msliding_window_view\u001b[0;34m(arr, window_shape, step, dilation)\u001b[0m\n\u001b[1;32m     73\u001b[0m     \u001b[38;5;28;01mif\u001b[39;00m \u001b[38;5;28many\u001b[39m(\n\u001b[1;32m     74\u001b[0m         w \u001b[38;5;241m*\u001b[39m d \u001b[38;5;241m>\u001b[39m s\n\u001b[1;32m     75\u001b[0m         \u001b[38;5;28;01mfor\u001b[39;00m w, d, s \u001b[38;5;129;01min\u001b[39;00m \u001b[38;5;28mzip\u001b[39m(window_shape[::\u001b[38;5;241m-\u001b[39m\u001b[38;5;241m1\u001b[39m], dilation[::\u001b[38;5;241m-\u001b[39m\u001b[38;5;241m1\u001b[39m], arr\u001b[38;5;241m.\u001b[39mshape[::\u001b[38;5;241m-\u001b[39m\u001b[38;5;241m1\u001b[39m])\n\u001b[1;32m     76\u001b[0m     ):\n\u001b[1;32m     77\u001b[0m         \u001b[38;5;28;01mraise\u001b[39;00m \u001b[38;5;167;01mValueError\u001b[39;00m(\n\u001b[1;32m     78\u001b[0m             \u001b[38;5;124mf\u001b[39m\u001b[38;5;124m\"\u001b[39m\u001b[38;5;124mThe dilated window (\u001b[39m\u001b[38;5;132;01m{\u001b[39;00m\u001b[38;5;28mtuple\u001b[39m(w \u001b[38;5;241m*\u001b[39m d \u001b[38;5;28;01mfor\u001b[39;00m w, d \u001b[38;5;129;01min\u001b[39;00m \u001b[38;5;28mzip\u001b[39m(window_shape, dilation))\u001b[38;5;132;01m}\u001b[39;00m\u001b[38;5;124m) \u001b[39m\u001b[38;5;124m\"\u001b[39m\n\u001b[1;32m     79\u001b[0m             \u001b[38;5;124mf\u001b[39m\u001b[38;5;124m\"\u001b[39m\u001b[38;5;124mmust fit within the trailing \u001b[39m\u001b[38;5;124m\"\u001b[39m\n\u001b[1;32m     80\u001b[0m             \u001b[38;5;124mf\u001b[39m\u001b[38;5;124m\"\u001b[39m\u001b[38;5;124mdimensions of `arr` (\u001b[39m\u001b[38;5;132;01m{\u001b[39;00marr\u001b[38;5;241m.\u001b[39mshape[\u001b[38;5;241m-\u001b[39m\u001b[38;5;28mlen\u001b[39m(window_shape) :]\u001b[38;5;132;01m}\u001b[39;00m\u001b[38;5;124m)\u001b[39m\u001b[38;5;124m\"\u001b[39m\n\u001b[1;32m     81\u001b[0m         )\n\u001b[0;32m---> 83\u001b[0m \u001b[38;5;28;01mif\u001b[39;00m \u001b[38;5;129;01mnot\u001b[39;00m \u001b[43marr\u001b[49m\u001b[38;5;241;43m.\u001b[39;49m\u001b[43mflags\u001b[49m[\u001b[38;5;124m\"\u001b[39m\u001b[38;5;124mC_CONTIGUOUS\u001b[39m\u001b[38;5;124m\"\u001b[39m]:\n\u001b[1;32m     84\u001b[0m     arr \u001b[38;5;241m=\u001b[39m np\u001b[38;5;241m.\u001b[39mascontiguousarray(arr)\n\u001b[1;32m     86\u001b[0m step \u001b[38;5;241m=\u001b[39m np\u001b[38;5;241m.\u001b[39marray(step)  \u001b[38;5;66;03m# (Sx, ..., Sz)\u001b[39;00m\n",
      "\u001b[0;31mAttributeError\u001b[0m: 'memoryview' object has no attribute 'flags'"
     ]
    }
   ],
   "source": [
    "conv_layer.backward_var(mygrad_convolve, 1)"
   ]
  },
  {
   "cell_type": "code",
   "execution_count": null,
   "id": "dda4c4cd",
   "metadata": {},
   "outputs": [],
   "source": []
  }
 ],
 "metadata": {
  "kernelspec": {
   "display_name": "Python 3 (ipykernel)",
   "language": "python",
   "name": "python3"
  },
  "language_info": {
   "codemirror_mode": {
    "name": "ipython",
    "version": 3
   },
   "file_extension": ".py",
   "mimetype": "text/x-python",
   "name": "python",
   "nbconvert_exporter": "python",
   "pygments_lexer": "ipython3",
   "version": "3.10.6"
  }
 },
 "nbformat": 4,
 "nbformat_minor": 5
}
