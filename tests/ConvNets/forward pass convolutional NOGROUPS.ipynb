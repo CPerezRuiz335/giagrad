{
 "cells": [
  {
   "cell_type": "code",
   "execution_count": 1,
   "id": "79936de0",
   "metadata": {},
   "outputs": [
    {
     "data": {
      "text/html": [
       "<style>.container { width:100% !important; }</style>"
      ],
      "text/plain": [
       "<IPython.core.display.HTML object>"
      ]
     },
     "metadata": {},
     "output_type": "display_data"
    }
   ],
   "source": [
    "from IPython.display import display, HTML\n",
    "display(HTML(\"<style>.container { width:100% !important; }</style>\"))"
   ]
  },
  {
   "cell_type": "code",
   "execution_count": 2,
   "id": "3c163f93",
   "metadata": {},
   "outputs": [],
   "source": [
    "import torch # type: ignore\n",
    "import sys; sys.path.append('../../')\n",
    "from  giagrad.tensor import Tensor\n",
    "import numpy as np\n",
    "from giagrad.display import draw_dot\n",
    "import torch.nn as nn\n",
    "import string\n",
    "import math\n",
    "from itertools import chain\n",
    "from numpy.lib.stride_tricks import as_strided"
   ]
  },
  {
   "cell_type": "markdown",
   "id": "ca7a7825",
   "metadata": {},
   "source": [
    "# Conv 2D"
   ]
  },
  {
   "cell_type": "markdown",
   "id": "56df0a25",
   "metadata": {},
   "source": [
    "## Helpers"
   ]
  },
  {
   "cell_type": "code",
   "execution_count": 127,
   "id": "9272bb7a",
   "metadata": {},
   "outputs": [],
   "source": [
    "import string\n",
    "from math import floor\n",
    "alphabet = [chr(i) for i in chain(range(33,127), range(161, 1200))]\n",
    "# Channels out, Channels in, kernel Height, kernel Width\n",
    "def kernel(Cout, Cin, kH, kW, a=0, b=4):\n",
    "    return np.random.randint(a, b, (Cout, Cin, kH, kW))\n",
    "\n",
    "def dataBatched(N, Cin, Hin, Win):\n",
    "#     return np.array(alphabet[:N*Cin*Hin*Win], dtype=object).reshape((N, Cin, Hin, Win))\n",
    "    return np.random.randint(-4, 4, (N, Cin, Hin, Win))\n",
    "\n",
    "def dataUnBatched(Cin, Hin, Win):\n",
    "    return np.array(alphabet[:Cin*Hin*Win], dtype=object).reshape((Cin, Hin, Win))"
   ]
  },
  {
   "cell_type": "markdown",
   "id": "934e35b8",
   "metadata": {},
   "source": [
    "## Forward"
   ]
  },
  {
   "cell_type": "markdown",
   "id": "c4b05fe3",
   "metadata": {},
   "source": [
    "Para la convolucion se necesita convertir con as_strided el array anterior para que tenga dimension:\n",
    "    $$(N, C_{in}, H_{in}, W_{in})$$\n",
    "Donde \n",
    "$$\n",
    "H_{out} = \\left\\lfloor \n",
    "            \\frac{H_{in} + 2 \\times padding[0] - dilation[0] \\times (kernel\\_size[0] -1) - 1}\n",
    "                 {stride[0]} + 1\n",
    "           \\right\\rfloor \\\\\n",
    "W_{out} = \\left\\lfloor \n",
    "            \\frac{W_{in} + 2 \\times padding[1] - dilation[1] \\times (kernel\\_size[1] -1) - 1}\n",
    "                 {stride[1]} + 1 \n",
    "           \\right\\rfloor \\\\\n",
    "$$"
   ]
  },
  {
   "cell_type": "code",
   "execution_count": 141,
   "id": "99a8c5ba",
   "metadata": {},
   "outputs": [
    {
     "name": "stdout",
     "output_type": "stream",
     "text": [
      "Hout:  3\n",
      "Wout:  3\n",
      "out_shape:  (1, 1, 3, 3)\n"
     ]
    }
   ],
   "source": [
    "N, Cin, Hin, Win = 1, 1, 4, 4\n",
    "kH, kW = 2, 2\n",
    "Cout = 1\n",
    "padding = (0, 0)\n",
    "dilation = (1, 1)\n",
    "stride = (1, 1)\n",
    "\n",
    "Hout = floor((Hin + 2 * padding[0] - dilation[0] * (kH - 1) - 1) / stride[0]  + 1)\n",
    "Wout = floor((Win + 2 * padding[1] - dilation[1] * (kW - 1) - 1) / stride[1]  + 1)\n",
    "\n",
    "print('Hout: ', Hout)\n",
    "print('Wout: ', Wout)\n",
    "\n",
    "# define output shape\n",
    "out_shape = (N, Cout, Hout, Wout)\n",
    "print('out_shape: ', out_shape)"
   ]
  },
  {
   "cell_type": "code",
   "execution_count": 142,
   "id": "a27c3e7e",
   "metadata": {},
   "outputs": [],
   "source": [
    "# DATA\n",
    "data = dataBatched(N, Cin, Hin, Win)\n",
    "# data = np.zeros_like(data)\n",
    "# random KERNEL\n",
    "k = kernel(Cout, Cin, kH, kW)"
   ]
  },
  {
   "cell_type": "code",
   "execution_count": 143,
   "id": "f60b071e",
   "metadata": {},
   "outputs": [
    {
     "name": "stdout",
     "output_type": "stream",
     "text": [
      "[[[[ 1 -4  0  1]\n",
      "   [ 3  1  0 -1]\n",
      "   [-1  2 -2 -3]\n",
      "   [-4 -1 -1 -4]]]]\n",
      "[[[[1 3]\n",
      "   [1 0]]]]\n"
     ]
    }
   ],
   "source": [
    "print(data)\n",
    "print(k)"
   ]
  },
  {
   "cell_type": "markdown",
   "id": "da32a0fa",
   "metadata": {},
   "source": [
    "strides debe tener una dimension mas que out_shape, ya que cada matrix $H_{in} \\times W_{out}$ se debe dividir en todas las posibles mulitplicaciones del kernel.    \n",
    "\n",
    "tenemos:\n",
    "\n",
    "    - [ -6 , -5 , -4 , -3 , -2 , -1 ] * itemsize in bytes\n",
    "    \n",
    "    posicion -1: dilation[1], horizontal dilation\n",
    "    posicion -2: Win * dilation[0], vertical dilation\n",
    "    posicion -3: Hin*Win, jump to next Channel\n",
    "    posicion -4: stride[1], horizontal stride\n",
    "    posicion -5: Win*stride[0], vertical stride\n",
    "    posicion -6: Hin*Win*Cin, next observation in Batched data\n",
    "\n",
    "y el shape del strided array tiene que ser:\n",
    "    \n",
    "    -  [ -6 , -5 , -4 , -3 , -2 , -1 ]\n",
    "    \n",
    "    posicion -1: k2\n",
    "    posicion -2: k1\n",
    "    posicion -3: Cin\n",
    "    posicion -4: Wout\n",
    "    posicion -5: Hout\n",
    "    posicion -6: N"
   ]
  },
  {
   "cell_type": "code",
   "execution_count": 144,
   "id": "2a5f1070",
   "metadata": {},
   "outputs": [
    {
     "name": "stdout",
     "output_type": "stream",
     "text": [
      "strides no byte:  [16.  4.  1. 16.  4.  1.]\n",
      "strides in bytes:  [128  32   8 128  32   8]\n",
      "strided output shape:  (1, 3, 3, 1, 2, 2)\n",
      "kernel shape:  (1, 1, 2, 2)\n",
      "data shape:  (1, 1, 4, 4)\n"
     ]
    }
   ],
   "source": [
    "stridedShape = (\n",
    "    N,\n",
    "    Hout, \n",
    "    Wout, \n",
    "    Cin,\n",
    "    kH, \n",
    "    kW\n",
    ")\n",
    "\n",
    "strides = np.array(\n",
    "    [Hin*Win*Cin,\n",
    "     Win*stride[0],\n",
    "     stride[1],\n",
    "     Hin*Win,\n",
    "     Win*dilation[0],\n",
    "     dilation[1]]) * data.itemsize\n",
    "\n",
    "print('strides no byte: ', strides/data.itemsize)\n",
    "print('strides in bytes: ', strides)\n",
    "print('strided output shape: ', stridedShape)\n",
    "print('kernel shape: ', k.shape)\n",
    "print('data shape: ', data.shape)"
   ]
  },
  {
   "cell_type": "code",
   "execution_count": 151,
   "id": "ef40a845",
   "metadata": {},
   "outputs": [],
   "source": [
    "# expand data to apply tensordot\n",
    "strided_array = as_strided(data, shape=stridedShape, strides=strides)\n"
   ]
  },
  {
   "cell_type": "code",
   "execution_count": 152,
   "id": "a2520671",
   "metadata": {},
   "outputs": [
    {
     "data": {
      "text/plain": [
       "array([[[[[[ 1, -4],\n",
       "           [ 3,  1]]],\n",
       "\n",
       "\n",
       "         [[[-4,  0],\n",
       "           [ 1,  0]]],\n",
       "\n",
       "\n",
       "         [[[ 0,  1],\n",
       "           [ 0, -1]]]],\n",
       "\n",
       "\n",
       "\n",
       "        [[[[ 3,  1],\n",
       "           [-1,  2]]],\n",
       "\n",
       "\n",
       "         [[[ 1,  0],\n",
       "           [ 2, -2]]],\n",
       "\n",
       "\n",
       "         [[[ 0, -1],\n",
       "           [-2, -3]]]],\n",
       "\n",
       "\n",
       "\n",
       "        [[[[-1,  2],\n",
       "           [-4, -1]]],\n",
       "\n",
       "\n",
       "         [[[ 2, -2],\n",
       "           [-1, -1]]],\n",
       "\n",
       "\n",
       "         [[[-2, -3],\n",
       "           [-1, -4]]]]]])"
      ]
     },
     "execution_count": 152,
     "metadata": {},
     "output_type": "execute_result"
    }
   ],
   "source": [
    "strided_array"
   ]
  },
  {
   "cell_type": "code",
   "execution_count": 153,
   "id": "84a93afe",
   "metadata": {},
   "outputs": [],
   "source": [
    "random = np.random.randint(4, size=strided_array.shape)\n",
    "strided_array += random"
   ]
  },
  {
   "cell_type": "code",
   "execution_count": 154,
   "id": "a2e066a2",
   "metadata": {},
   "outputs": [
    {
     "data": {
      "text/plain": [
       "array([[[[[[3, 3],\n",
       "           [3, 0]]],\n",
       "\n",
       "\n",
       "         [[[0, 0],\n",
       "           [2, 1]]],\n",
       "\n",
       "\n",
       "         [[[3, 1],\n",
       "           [3, 1]]]],\n",
       "\n",
       "\n",
       "\n",
       "        [[[[0, 3],\n",
       "           [0, 3]]],\n",
       "\n",
       "\n",
       "         [[[3, 2],\n",
       "           [3, 0]]],\n",
       "\n",
       "\n",
       "         [[[0, 0],\n",
       "           [2, 2]]]],\n",
       "\n",
       "\n",
       "\n",
       "        [[[[1, 1],\n",
       "           [2, 3]]],\n",
       "\n",
       "\n",
       "         [[[3, 0],\n",
       "           [3, 1]]],\n",
       "\n",
       "\n",
       "         [[[3, 0],\n",
       "           [1, 2]]]]]])"
      ]
     },
     "execution_count": 154,
     "metadata": {},
     "output_type": "execute_result"
    }
   ],
   "source": [
    "random"
   ]
  },
  {
   "cell_type": "code",
   "execution_count": 155,
   "id": "4be6411d",
   "metadata": {},
   "outputs": [
    {
     "data": {
      "text/plain": [
       "False"
      ]
     },
     "execution_count": 155,
     "metadata": {},
     "output_type": "execute_result"
    }
   ],
   "source": [
    "strided_array.flags['C_CONTIGUOUS']"
   ]
  },
  {
   "cell_type": "code",
   "execution_count": 156,
   "id": "b0e3df7c",
   "metadata": {},
   "outputs": [
    {
     "data": {
      "text/plain": [
       "array([[[[ 4, -4,  3,  2],\n",
       "         [ 3,  4,  0, -1],\n",
       "         [ 0,  5,  1, -3],\n",
       "         [-2,  2,  0, -2]]]])"
      ]
     },
     "execution_count": 156,
     "metadata": {},
     "output_type": "execute_result"
    }
   ],
   "source": [
    "data"
   ]
  },
  {
   "cell_type": "code",
   "execution_count": 88,
   "id": "49961faf",
   "metadata": {},
   "outputs": [
    {
     "name": "stdout",
     "output_type": "stream",
     "text": [
      "[[[[[[0 0]\n",
      "     [3 5]]]\n",
      "\n",
      "\n",
      "   [[[0 0]\n",
      "     [5 5]]]\n",
      "\n",
      "\n",
      "   [[[0 0]\n",
      "     [5 2]]]]\n",
      "\n",
      "\n",
      "\n",
      "  [[[[3 5]\n",
      "     [3 5]]]\n",
      "\n",
      "\n",
      "   [[[5 5]\n",
      "     [5 5]]]\n",
      "\n",
      "\n",
      "   [[[5 2]\n",
      "     [5 2]]]]\n",
      "\n",
      "\n",
      "\n",
      "  [[[[3 5]\n",
      "     [3 5]]]\n",
      "\n",
      "\n",
      "   [[[5 5]\n",
      "     [5 5]]]\n",
      "\n",
      "\n",
      "   [[[5 2]\n",
      "     [5 2]]]]]]\n"
     ]
    }
   ],
   "source": [
    "for i in range(3):\n",
    "    for j in range(3):\n",
    "        strided_array[:, i, j] += k\n",
    "print(strided_array)"
   ]
  },
  {
   "cell_type": "code",
   "execution_count": 89,
   "id": "c9b27f0f",
   "metadata": {},
   "outputs": [
    {
     "data": {
      "text/plain": [
       "array([[[[0, 0, 0, 0],\n",
       "         [3, 5, 5, 2],\n",
       "         [3, 5, 5, 2],\n",
       "         [3, 5, 5, 2]]]])"
      ]
     },
     "execution_count": 89,
     "metadata": {},
     "output_type": "execute_result"
    }
   ],
   "source": [
    "data"
   ]
  },
  {
   "cell_type": "code",
   "execution_count": 59,
   "id": "2043bd56",
   "metadata": {},
   "outputs": [
    {
     "data": {
      "text/plain": [
       "array([[[[[[5, 6],\n",
       "           [7, 4]]],\n",
       "\n",
       "\n",
       "         [[[5, 6],\n",
       "           [7, 4]]],\n",
       "\n",
       "\n",
       "         [[[5, 7],\n",
       "           [7, 5]]]],\n",
       "\n",
       "\n",
       "\n",
       "        [[[[5, 6],\n",
       "           [7, 4]]],\n",
       "\n",
       "\n",
       "         [[[5, 6],\n",
       "           [7, 4]]],\n",
       "\n",
       "\n",
       "         [[[5, 7],\n",
       "           [7, 5]]]],\n",
       "\n",
       "\n",
       "\n",
       "        [[[[5, 6],\n",
       "           [9, 6]]],\n",
       "\n",
       "\n",
       "         [[[5, 6],\n",
       "           [9, 6]]],\n",
       "\n",
       "\n",
       "         [[[5, 7],\n",
       "           [9, 3]]]]]])"
      ]
     },
     "execution_count": 59,
     "metadata": {},
     "output_type": "execute_result"
    }
   ],
   "source": [
    "k + strided_array"
   ]
  },
  {
   "cell_type": "code",
   "execution_count": 37,
   "id": "a1d26716",
   "metadata": {},
   "outputs": [
    {
     "data": {
      "text/plain": [
       "(1, 3, 3, 1, 2, 2)"
      ]
     },
     "execution_count": 37,
     "metadata": {},
     "output_type": "execute_result"
    }
   ],
   "source": [
    "strided_array.shape"
   ]
  },
  {
   "cell_type": "code",
   "execution_count": 56,
   "id": "f97cf49b",
   "metadata": {},
   "outputs": [],
   "source": [
    "strided_array[:] = strided_array + k"
   ]
  },
  {
   "cell_type": "code",
   "execution_count": 58,
   "id": "42718195",
   "metadata": {},
   "outputs": [
    {
     "name": "stdout",
     "output_type": "stream",
     "text": [
      "[[[[[[4 4]\n",
      "     [4 4]]]\n",
      "\n",
      "\n",
      "   [[[4 4]\n",
      "     [4 4]]]\n",
      "\n",
      "\n",
      "   [[[4 5]\n",
      "     [4 5]]]]\n",
      "\n",
      "\n",
      "\n",
      "  [[[[4 4]\n",
      "     [4 4]]]\n",
      "\n",
      "\n",
      "   [[[4 4]\n",
      "     [4 4]]]\n",
      "\n",
      "\n",
      "   [[[4 5]\n",
      "     [4 5]]]]\n",
      "\n",
      "\n",
      "\n",
      "  [[[[4 4]\n",
      "     [6 6]]]\n",
      "\n",
      "\n",
      "   [[[4 4]\n",
      "     [6 6]]]\n",
      "\n",
      "\n",
      "   [[[4 5]\n",
      "     [6 3]]]]]]\n",
      "[[[[4 4 4 5]\n",
      "   [4 4 4 5]\n",
      "   [4 4 4 5]\n",
      "   [6 6 6 3]]]]\n"
     ]
    }
   ],
   "source": [
    "print(strided_array)\n",
    "print(data)"
   ]
  },
  {
   "cell_type": "code",
   "execution_count": 57,
   "id": "aa197fe6",
   "metadata": {},
   "outputs": [
    {
     "name": "stdout",
     "output_type": "stream",
     "text": [
      "convolved shape:  (1, 1, 3, 3)\n",
      "desired shape:  (1, 1, 3, 3)\n"
     ]
    }
   ],
   "source": [
    "convolved = np.swapaxes(np.tensordot(k, strided_array, axes=([1, 2, 3], [3, 4, 5])), 0, 1)\n",
    "print('convolved shape: ', convolved.shape)\n",
    "print('desired shape: ', out_shape)"
   ]
  },
  {
   "cell_type": "markdown",
   "id": "6f97b834",
   "metadata": {},
   "source": [
    "## Test MyGrad\n",
    "\n",
    "```python\n",
    "class ConvND:\n",
    "    def __call__(self, x, w, *, stride, padding=0, dilation=1):\n",
    "        # x ... data:    (N, C, X0, X1, ...)\n",
    "        # w ... filters: (F, C, W0, W1, ...)\n",
    "```"
   ]
  },
  {
   "cell_type": "code",
   "execution_count": 9,
   "id": "d2593ac2",
   "metadata": {},
   "outputs": [],
   "source": [
    "from mygrad import ConvND"
   ]
  },
  {
   "cell_type": "code",
   "execution_count": 10,
   "id": "9e8b7882",
   "metadata": {},
   "outputs": [
    {
     "name": "stdout",
     "output_type": "stream",
     "text": [
      "mygrad convolved shape:  (2, 5, 9, 9)\n",
      "desired shape:  (2, 5, 9, 9)\n"
     ]
    }
   ],
   "source": [
    "conv_layer = ConvND()\n",
    "mygrad_convolve = conv_layer(data, k, stride=stride, padding=padding, dilation=dilation)\n",
    "print('mygrad convolved shape: ', mygrad_convolve.shape)\n",
    "print('desired shape: ', out_shape)"
   ]
  },
  {
   "cell_type": "code",
   "execution_count": 11,
   "id": "74436ab0",
   "metadata": {},
   "outputs": [
    {
     "data": {
      "text/plain": [
       "True"
      ]
     },
     "execution_count": 11,
     "metadata": {},
     "output_type": "execute_result"
    }
   ],
   "source": [
    "# CHECK!!!\n",
    "np.all(convolved == mygrad_convolve)"
   ]
  }
 ],
 "metadata": {
  "kernelspec": {
   "display_name": "Python 3 (ipykernel)",
   "language": "python",
   "name": "python3"
  },
  "language_info": {
   "codemirror_mode": {
    "name": "ipython",
    "version": 3
   },
   "file_extension": ".py",
   "mimetype": "text/x-python",
   "name": "python",
   "nbconvert_exporter": "python",
   "pygments_lexer": "ipython3",
   "version": "3.10.6"
  }
 },
 "nbformat": 4,
 "nbformat_minor": 5
}
