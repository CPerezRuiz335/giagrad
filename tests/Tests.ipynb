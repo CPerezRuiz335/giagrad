{
 "cells": [
  {
   "cell_type": "code",
   "execution_count": 1,
   "id": "b62753ca",
   "metadata": {},
   "outputs": [
    {
     "data": {
      "text/html": [
       "<style>.container { width:100% !important; }</style>"
      ],
      "text/plain": [
       "<IPython.core.display.HTML object>"
      ]
     },
     "metadata": {},
     "output_type": "display_data"
    }
   ],
   "source": [
    "from IPython.display import display, HTML\n",
    "display(HTML(\"<style>.container { width:100% !important; }</style>\"))\n",
    "\n",
    "%matplotlib inline\n",
    "import numpy as np\n",
    "import sys\n",
    " \n",
    "# setting path\n",
    "sys.path.append('../.')\n",
    "from giagrad.tensor import Tensor"
   ]
  },
  {
   "cell_type": "markdown",
   "id": "21df35d4",
   "metadata": {},
   "source": [
    "## Tensors giagrad tests"
   ]
  },
  {
   "cell_type": "code",
   "execution_count": 2,
   "id": "1d380b3f",
   "metadata": {},
   "outputs": [],
   "source": [
    "p = np.array([[2.,2.],\n",
    "        [3.,3.],\n",
    "        [1.,1.]])"
   ]
  },
  {
   "cell_type": "code",
   "execution_count": 3,
   "id": "6cc680d2",
   "metadata": {},
   "outputs": [],
   "source": [
    "b = Tensor(p, requires_grad=True)"
   ]
  },
  {
   "cell_type": "code",
   "execution_count": 5,
   "id": "83dfbb4e",
   "metadata": {},
   "outputs": [
    {
     "data": {
      "text/plain": [
       "[[0. 0.]\n",
       " [0. 0.]\n",
       " [0. 0.]]"
      ]
     },
     "execution_count": 5,
     "metadata": {},
     "output_type": "execute_result"
    }
   ],
   "source": [
    "p-b\n"
   ]
  }
 ],
 "metadata": {
  "kernelspec": {
   "display_name": "Python 3 (ipykernel)",
   "language": "python",
   "name": "python3"
  },
  "language_info": {
   "codemirror_mode": {
    "name": "ipython",
    "version": 3
   },
   "file_extension": ".py",
   "mimetype": "text/x-python",
   "name": "python",
   "nbconvert_exporter": "python",
   "pygments_lexer": "ipython3",
   "version": "3.10.6"
  }
 },
 "nbformat": 4,
 "nbformat_minor": 5
}
