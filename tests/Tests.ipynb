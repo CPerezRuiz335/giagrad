{
 "cells": [
  {
   "cell_type": "code",
   "execution_count": 1,
   "id": "b62753ca",
   "metadata": {},
   "outputs": [
    {
     "data": {
      "text/html": [
       "<style>.container { width:100% !important; }</style>"
      ],
      "text/plain": [
       "<IPython.core.display.HTML object>"
      ]
     },
     "metadata": {},
     "output_type": "display_data"
    }
   ],
   "source": [
    "from IPython.display import display, HTML\n",
    "display(HTML(\"<style>.container { width:100% !important; }</style>\"))\n",
    "\n",
    "%matplotlib inline\n",
    "import numpy as np\n",
    "import sys\n",
    " \n",
    "# setting path\n",
    "sys.path.append('../.')\n",
    "from giagrad.tensor import Tensor"
   ]
  },
  {
   "cell_type": "markdown",
   "id": "21df35d4",
   "metadata": {},
   "source": [
    "## Tensors giagrad tests"
   ]
  },
  {
   "cell_type": "code",
   "execution_count": 2,
   "id": "1d380b3f",
   "metadata": {},
   "outputs": [],
   "source": [
    "a = np.array([[2.,2.],\n",
    "              [2.,2.],\n",
    "              [3.,3.]])\n",
    "\n",
    "b = np.array([[1.,2.],\n",
    "              [3.,4.],\n",
    "              [5.,6.]])\n",
    "\n",
    "a_tensor = Tensor(a, requires_grad=True)\n",
    "c_tensor = Tensor(b, requires_grad=True)"
   ]
  },
  {
   "cell_type": "code",
   "execution_count": 15,
   "id": "6cc680d2",
   "metadata": {},
   "outputs": [],
   "source": [
    "b_tensor = a_tensor.min()\n",
    "d_tensor = b_tensor * c_tensor\n",
    "d_tensor.sum().backward()"
   ]
  },
  {
   "cell_type": "code",
   "execution_count": 16,
   "id": "83dfbb4e",
   "metadata": {},
   "outputs": [
    {
     "data": {
      "text/plain": [
       "array([[5.25, 5.25],\n",
       "       [5.25, 5.25],\n",
       "       [0.  , 0.  ]])"
      ]
     },
     "execution_count": 16,
     "metadata": {},
     "output_type": "execute_result"
    }
   ],
   "source": [
    "a_tensor.grad"
   ]
  },
  {
   "cell_type": "code",
   "execution_count": 13,
   "id": "85672fe4",
   "metadata": {},
   "outputs": [
    {
     "data": {
      "text/plain": [
       "dtype('float32')"
      ]
     },
     "execution_count": 13,
     "metadata": {},
     "output_type": "execute_result"
    }
   ],
   "source": [
    "d_tensor.grad.dtype"
   ]
  },
  {
   "cell_type": "code",
   "execution_count": 3,
   "id": "0c3490fc",
   "metadata": {},
   "outputs": [
    {
     "ename": "TypeError",
     "evalue": "Context.__init__() takes 2 positional arguments but 3 were given",
     "output_type": "error",
     "traceback": [
      "\u001b[0;31m---------------------------------------------------------------------------\u001b[0m",
      "\u001b[0;31mTypeError\u001b[0m                                 Traceback (most recent call last)",
      "Cell \u001b[0;32mIn [3], line 1\u001b[0m\n\u001b[0;32m----> 1\u001b[0m \u001b[43ma_tensor\u001b[49m\u001b[43m \u001b[49m\u001b[38;5;241;43m+\u001b[39;49m\u001b[43m \u001b[49m\u001b[43mc_tensor\u001b[49m\n",
      "File \u001b[0;32m~/Documentos/UPC/PROYECTOS/giagrad/tests/.././giagrad/tensor.py:201\u001b[0m, in \u001b[0;36mTensor.__add__\u001b[0;34m(self, x)\u001b[0m\n\u001b[0;32m--> 201\u001b[0m \u001b[38;5;28;01mdef\u001b[39;00m \u001b[38;5;21m__add__\u001b[39m(\u001b[38;5;28mself\u001b[39m, x): \u001b[38;5;28;01mreturn\u001b[39;00m \u001b[43mTensor\u001b[49m\u001b[38;5;241;43m.\u001b[39;49m\u001b[43mcomm\u001b[49m\u001b[43m(\u001b[49m\u001b[43mmops\u001b[49m\u001b[38;5;241;43m.\u001b[39;49m\u001b[43mAdd\u001b[49m\u001b[43m,\u001b[49m\u001b[43m \u001b[49m\u001b[38;5;28;43mself\u001b[39;49m\u001b[43m,\u001b[49m\u001b[43m \u001b[49m\u001b[43mx\u001b[49m\u001b[43m)\u001b[49m\n",
      "File \u001b[0;32m~/Documentos/UPC/PROYECTOS/giagrad/tests/.././giagrad/tensor.py:169\u001b[0m, in \u001b[0;36mTensor.comm\u001b[0;34m(cls, operator, *tensors, **kwargs)\u001b[0m\n\u001b[1;32m    165\u001b[0m \u001b[38;5;129m@classmethod\u001b[39m\n\u001b[1;32m    166\u001b[0m \u001b[38;5;28;01mdef\u001b[39;00m \u001b[38;5;21mcomm\u001b[39m(\u001b[38;5;28mcls\u001b[39m, operator: Context, \u001b[38;5;241m*\u001b[39mtensors, \u001b[38;5;241m*\u001b[39m\u001b[38;5;241m*\u001b[39mkwargs) \u001b[38;5;241m-\u001b[39m\u001b[38;5;241m>\u001b[39m Tensor:\n\u001b[1;32m    167\u001b[0m     \u001b[38;5;66;03m# Avoids circular imports between tensor.py and operations.py\u001b[39;00m\n\u001b[1;32m    168\u001b[0m     operands \u001b[38;5;241m=\u001b[39m [t \u001b[38;5;28;01mif\u001b[39;00m \u001b[38;5;28misinstance\u001b[39m(t, Tensor) \u001b[38;5;28;01melse\u001b[39;00m Tensor(t) \u001b[38;5;28;01mfor\u001b[39;00m t \u001b[38;5;129;01min\u001b[39;00m tensors]\n\u001b[0;32m--> 169\u001b[0m     data, context \u001b[38;5;241m=\u001b[39m \u001b[43moperator\u001b[49m\u001b[38;5;241;43m.\u001b[39;49m\u001b[43mforward\u001b[49m\u001b[43m(\u001b[49m\u001b[38;5;241;43m*\u001b[39;49m\u001b[43moperands\u001b[49m\u001b[43m,\u001b[49m\u001b[43m \u001b[49m\u001b[38;5;241;43m*\u001b[39;49m\u001b[38;5;241;43m*\u001b[39;49m\u001b[43mkwargs\u001b[49m\u001b[43m)\u001b[49m\n\u001b[1;32m    170\u001b[0m     \u001b[38;5;28;01mreturn\u001b[39;00m \u001b[38;5;28mcls\u001b[39m(data, requires_grad\u001b[38;5;241m=\u001b[39m\u001b[38;5;28;01mTrue\u001b[39;00m, context\u001b[38;5;241m=\u001b[39mcontext)\n",
      "File \u001b[0;32m~/Documentos/UPC/PROYECTOS/giagrad/tests/.././giagrad/mathops.py:13\u001b[0m, in \u001b[0;36mAdd.forward\u001b[0;34m(cls, t1, t2)\u001b[0m\n\u001b[1;32m     11\u001b[0m \u001b[38;5;129m@classmethod\u001b[39m\n\u001b[1;32m     12\u001b[0m \u001b[38;5;28;01mdef\u001b[39;00m \u001b[38;5;21mforward\u001b[39m(\u001b[38;5;28mcls\u001b[39m, t1, t2) \u001b[38;5;241m-\u001b[39m\u001b[38;5;241m>\u001b[39m Tuple[NDArray, Add]:\n\u001b[0;32m---> 13\u001b[0m     \u001b[38;5;28;01mreturn\u001b[39;00m t1\u001b[38;5;241m.\u001b[39mdata \u001b[38;5;241m+\u001b[39m t2\u001b[38;5;241m.\u001b[39mdata, \u001b[38;5;28;43mcls\u001b[39;49m\u001b[43m(\u001b[49m\u001b[43mt1\u001b[49m\u001b[43m,\u001b[49m\u001b[43m \u001b[49m\u001b[43mt2\u001b[49m\u001b[43m)\u001b[49m\n",
      "\u001b[0;31mTypeError\u001b[0m: Context.__init__() takes 2 positional arguments but 3 were given"
     ]
    }
   ],
   "source": [
    "a_tensor + c_tensor"
   ]
  }
 ],
 "metadata": {
  "kernelspec": {
   "display_name": "Python 3 (ipykernel)",
   "language": "python",
   "name": "python3"
  },
  "language_info": {
   "codemirror_mode": {
    "name": "ipython",
    "version": 3
   },
   "file_extension": ".py",
   "mimetype": "text/x-python",
   "name": "python",
   "nbconvert_exporter": "python",
   "pygments_lexer": "ipython3",
   "version": "3.10.6"
  }
 },
 "nbformat": 4,
 "nbformat_minor": 5
}
