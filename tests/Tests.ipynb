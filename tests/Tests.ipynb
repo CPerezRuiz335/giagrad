{
 "cells": [
  {
   "cell_type": "code",
   "execution_count": 1,
   "id": "b62753ca",
   "metadata": {},
   "outputs": [
    {
     "data": {
      "text/html": [
       "<style>.container { width:100% !important; }</style>"
      ],
      "text/plain": [
       "<IPython.core.display.HTML object>"
      ]
     },
     "metadata": {},
     "output_type": "display_data"
    }
   ],
   "source": [
    "from IPython.display import display, HTML\n",
    "display(HTML(\"<style>.container { width:100% !important; }</style>\"))\n",
    "\n",
    "%matplotlib inline\n",
    "import numpy as np\n",
    "import sys\n",
    " \n",
    "# setting path\n",
    "sys.path.append('../.')\n",
    "from giagrad.tensor import Tensor"
   ]
  },
  {
   "cell_type": "markdown",
   "id": "21df35d4",
   "metadata": {},
   "source": [
    "## Tensors giagrad tests"
   ]
  },
  {
   "cell_type": "code",
   "execution_count": 9,
   "id": "1d380b3f",
   "metadata": {},
   "outputs": [],
   "source": [
    "a = np.array([[2.,2.],\n",
    "              [2.,2.],\n",
    "              [3.,3.]])\n",
    "\n",
    "b = np.array([[1.,2.],\n",
    "              [3.,4.],\n",
    "              [5.,6.]])\n",
    "a_tensor = Tensor(a, requires_grad=True)\n",
    "a_tensor.name = 'a'\n",
    "c_tensor = Tensor(b, requires_grad=True)\n",
    "c_tensor.name = 'c'"
   ]
  },
  {
   "cell_type": "code",
   "execution_count": 3,
   "id": "6cc680d2",
   "metadata": {},
   "outputs": [
    {
     "name": "stdout",
     "output_type": "stream",
     "text": [
      "[[0. 0.]\n",
      " [0. 0.]\n",
      " [0. 0.]]\n"
     ]
    }
   ],
   "source": [
    "b_tensor = a_tensor.min()\n",
    "b_tensor.name = 'b'\n",
    "d_tensor = b_tensor * c_tensor\n",
    "d_tensor.name = 'd'\n",
    "print(d_tensor.grad)\n",
    "d_tensor.sum().backward()"
   ]
  },
  {
   "cell_type": "code",
   "execution_count": 4,
   "id": "83dfbb4e",
   "metadata": {},
   "outputs": [
    {
     "data": {
      "text/plain": [
       "array([[5.25, 5.25],\n",
       "       [5.25, 5.25],\n",
       "       [0.  , 0.  ]], dtype=float32)"
      ]
     },
     "execution_count": 4,
     "metadata": {},
     "output_type": "execute_result"
    }
   ],
   "source": [
    "a_tensor.grad"
   ]
  },
  {
   "cell_type": "code",
   "execution_count": 5,
   "id": "85672fe4",
   "metadata": {},
   "outputs": [
    {
     "data": {
      "text/plain": [
       "dtype('float32')"
      ]
     },
     "execution_count": 5,
     "metadata": {},
     "output_type": "execute_result"
    }
   ],
   "source": [
    "d_tensor.grad.dtype"
   ]
  },
  {
   "cell_type": "code",
   "execution_count": 6,
   "id": "0c3490fc",
   "metadata": {},
   "outputs": [
    {
     "data": {
      "text/plain": [
       "[[3. 4.]\n",
       " [5. 6.]\n",
       " [8. 9.]]"
      ]
     },
     "execution_count": 6,
     "metadata": {},
     "output_type": "execute_result"
    }
   ],
   "source": [
    "a_tensor + c_tensor"
   ]
  },
  {
   "cell_type": "code",
   "execution_count": 10,
   "id": "7640c928",
   "metadata": {},
   "outputs": [
    {
     "name": "stdout",
     "output_type": "stream",
     "text": [
      "exp\n",
      "[[1. 1.]\n",
      " [1. 1.]\n",
      " [1. 1.]]\n",
      "[[2. 2.]\n",
      " [2. 2.]\n",
      " [3. 3.]]\n",
      "[[0.6931472 0.6931472]\n",
      " [0.6931472 0.6931472]\n",
      " [1.0986123 1.0986123]]\n",
      "end exp\n",
      "[[2. 2.]\n",
      " [2. 2.]\n",
      " [3. 3.]]\n",
      "[[0.5        0.5       ]\n",
      " [0.5        0.5       ]\n",
      " [0.33333334 0.33333334]]\n"
     ]
    }
   ],
   "source": [
    "a_tensor.log().exp().sum().backward()"
   ]
  },
  {
   "cell_type": "code",
   "execution_count": 11,
   "id": "1749375e",
   "metadata": {},
   "outputs": [
    {
     "data": {
      "text/plain": [
       "array([[1., 1.],\n",
       "       [1., 1.],\n",
       "       [1., 1.]], dtype=float32)"
      ]
     },
     "execution_count": 11,
     "metadata": {},
     "output_type": "execute_result"
    }
   ],
   "source": [
    "a_tensor.grad"
   ]
  }
 ],
 "metadata": {
  "kernelspec": {
   "display_name": "Python 3 (ipykernel)",
   "language": "python",
   "name": "python3"
  },
  "language_info": {
   "codemirror_mode": {
    "name": "ipython",
    "version": 3
   },
   "file_extension": ".py",
   "mimetype": "text/x-python",
   "name": "python",
   "nbconvert_exporter": "python",
   "pygments_lexer": "ipython3",
   "version": "3.10.6"
  }
 },
 "nbformat": 4,
 "nbformat_minor": 5
}
