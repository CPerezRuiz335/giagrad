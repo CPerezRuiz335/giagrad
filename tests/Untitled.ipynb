{
 "cells": [
  {
   "cell_type": "code",
   "execution_count": 4,
   "id": "3c163f93",
   "metadata": {},
   "outputs": [],
   "source": [
    "import torch # type: ignore\n",
    "import sys; sys.path.append('../')\n",
    "from  giagrad.tensor import Tensor\n",
    "import numpy as np\n",
    "from giagrad.display import draw_dot\n",
    "import torch.nn as nn"
   ]
  },
  {
   "cell_type": "markdown",
   "id": "0146f4ca",
   "metadata": {},
   "source": [
    "## Dropouts"
   ]
  },
  {
   "cell_type": "code",
   "execution_count": 42,
   "id": "b9bdee7f",
   "metadata": {},
   "outputs": [
    {
     "data": {
      "text/plain": [
       "10.0"
      ]
     },
     "execution_count": 42,
     "metadata": {},
     "output_type": "execute_result"
    }
   ],
   "source": [
    "1/(0.1)"
   ]
  },
  {
   "cell_type": "code",
   "execution_count": 34,
   "id": "8b381bcf",
   "metadata": {},
   "outputs": [],
   "source": [
    "m = nn.Dropout(p=0.5)\n",
    "input = torch.ones(5, 5)\n",
    "output = m(input)"
   ]
  },
  {
   "cell_type": "code",
   "execution_count": 35,
   "id": "38012107",
   "metadata": {},
   "outputs": [
    {
     "data": {
      "text/plain": [
       "tensor([[2., 0., 2., 0., 2.],\n",
       "        [0., 2., 0., 0., 2.],\n",
       "        [0., 2., 2., 2., 0.],\n",
       "        [0., 2., 2., 2., 2.],\n",
       "        [0., 2., 2., 0., 0.]])"
      ]
     },
     "execution_count": 35,
     "metadata": {},
     "output_type": "execute_result"
    }
   ],
   "source": [
    "output"
   ]
  },
  {
   "cell_type": "code",
   "execution_count": 45,
   "id": "72159469",
   "metadata": {},
   "outputs": [],
   "source": [
    "m = nn.Dropout1d(p=0.5)\n",
    "input = torch.ones(3, 2, 5)\n",
    "output = m(input)"
   ]
  },
  {
   "cell_type": "code",
   "execution_count": 46,
   "id": "f614e56c",
   "metadata": {},
   "outputs": [
    {
     "data": {
      "text/plain": [
       "tensor([[[2., 2., 2., 2., 2.],\n",
       "         [0., 0., 0., 0., 0.]],\n",
       "\n",
       "        [[0., 0., 0., 0., 0.],\n",
       "         [2., 2., 2., 2., 2.]],\n",
       "\n",
       "        [[0., 0., 0., 0., 0.],\n",
       "         [2., 2., 2., 2., 2.]]])"
      ]
     },
     "execution_count": 46,
     "metadata": {},
     "output_type": "execute_result"
    }
   ],
   "source": [
    "output"
   ]
  },
  {
   "cell_type": "code",
   "execution_count": 47,
   "id": "12a447e2",
   "metadata": {},
   "outputs": [
    {
     "data": {
      "text/plain": [
       "tensor([2., 2., 2., 2., 2.])"
      ]
     },
     "execution_count": 47,
     "metadata": {},
     "output_type": "execute_result"
    }
   ],
   "source": [
    "# first row\n",
    "output[0,0, :]"
   ]
  },
  {
   "cell_type": "code",
   "execution_count": 48,
   "id": "ab301965",
   "metadata": {},
   "outputs": [],
   "source": [
    "m = nn.Dropout2d(p=0.5)\n",
    "input = torch.ones(3, 2, 4, 5)\n",
    "output = m(input)"
   ]
  },
  {
   "cell_type": "code",
   "execution_count": 49,
   "id": "ee2127c2",
   "metadata": {},
   "outputs": [
    {
     "data": {
      "text/plain": [
       "tensor([[[[0., 0., 0., 0., 0.],\n",
       "          [0., 0., 0., 0., 0.],\n",
       "          [0., 0., 0., 0., 0.],\n",
       "          [0., 0., 0., 0., 0.]],\n",
       "\n",
       "         [[0., 0., 0., 0., 0.],\n",
       "          [0., 0., 0., 0., 0.],\n",
       "          [0., 0., 0., 0., 0.],\n",
       "          [0., 0., 0., 0., 0.]]],\n",
       "\n",
       "\n",
       "        [[[0., 0., 0., 0., 0.],\n",
       "          [0., 0., 0., 0., 0.],\n",
       "          [0., 0., 0., 0., 0.],\n",
       "          [0., 0., 0., 0., 0.]],\n",
       "\n",
       "         [[0., 0., 0., 0., 0.],\n",
       "          [0., 0., 0., 0., 0.],\n",
       "          [0., 0., 0., 0., 0.],\n",
       "          [0., 0., 0., 0., 0.]]],\n",
       "\n",
       "\n",
       "        [[[2., 2., 2., 2., 2.],\n",
       "          [2., 2., 2., 2., 2.],\n",
       "          [2., 2., 2., 2., 2.],\n",
       "          [2., 2., 2., 2., 2.]],\n",
       "\n",
       "         [[0., 0., 0., 0., 0.],\n",
       "          [0., 0., 0., 0., 0.],\n",
       "          [0., 0., 0., 0., 0.],\n",
       "          [0., 0., 0., 0., 0.]]]])"
      ]
     },
     "execution_count": 49,
     "metadata": {},
     "output_type": "execute_result"
    }
   ],
   "source": [
    "output"
   ]
  },
  {
   "cell_type": "code",
   "execution_count": 50,
   "id": "7327b170",
   "metadata": {},
   "outputs": [
    {
     "data": {
      "text/plain": [
       "tensor([[0., 0., 0., 0., 0.],\n",
       "        [0., 0., 0., 0., 0.],\n",
       "        [0., 0., 0., 0., 0.],\n",
       "        [0., 0., 0., 0., 0.]])"
      ]
     },
     "execution_count": 50,
     "metadata": {},
     "output_type": "execute_result"
    }
   ],
   "source": [
    "output[0,0,:,:]"
   ]
  },
  {
   "cell_type": "code",
   "execution_count": 63,
   "id": "e3f70c2e",
   "metadata": {},
   "outputs": [
    {
     "data": {
      "text/plain": [
       "tensor([[[2., 2., 2., 2., 2.],\n",
       "         [2., 2., 2., 2., 2.],\n",
       "         [2., 2., 2., 2., 2.],\n",
       "         [2., 2., 2., 2., 2.],\n",
       "         [2., 2., 2., 2., 2.]],\n",
       "\n",
       "        [[2., 2., 2., 2., 2.],\n",
       "         [2., 2., 2., 2., 2.],\n",
       "         [2., 2., 2., 2., 2.],\n",
       "         [2., 2., 2., 2., 2.],\n",
       "         [2., 2., 2., 2., 2.]]])"
      ]
     },
     "execution_count": 63,
     "metadata": {},
     "output_type": "execute_result"
    }
   ],
   "source": [
    "m = nn.Dropout3d(p=0.5)\n",
    "input = torch.ones(3, 3, 2, 5, 5)\n",
    "output = m(input)\n",
    "output[0,0]"
   ]
  }
 ],
 "metadata": {
  "kernelspec": {
   "display_name": "Python 3 (ipykernel)",
   "language": "python",
   "name": "python3"
  },
  "language_info": {
   "codemirror_mode": {
    "name": "ipython",
    "version": 3
   },
   "file_extension": ".py",
   "mimetype": "text/x-python",
   "name": "python",
   "nbconvert_exporter": "python",
   "pygments_lexer": "ipython3",
   "version": "3.10.6"
  }
 },
 "nbformat": 4,
 "nbformat_minor": 5
}
