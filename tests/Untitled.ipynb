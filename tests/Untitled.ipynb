{
 "cells": [
  {
   "cell_type": "code",
   "execution_count": 4,
   "id": "3c163f93",
   "metadata": {},
   "outputs": [],
   "source": [
    "import torch # type: ignore\n",
    "import sys; sys.path.append('../')\n",
    "from  giagrad.tensor import Tensor\n",
    "import numpy as np\n",
    "from giagrad.display import draw_dot"
   ]
  },
  {
   "cell_type": "code",
   "execution_count": 6,
   "id": "8c951554",
   "metadata": {},
   "outputs": [
    {
     "name": "stdout",
     "output_type": "stream",
     "text": [
      "t1data [[[ 0.44757926  0.25267616 -0.61320955 -0.1792465 ]]]\n",
      "t2data [[[ 2.6914775]]\n",
      "\n",
      " [[-3.2446814]]]\n",
      "t1data*t2data [[[ 1.2046496   0.6800722  -1.6504397  -0.48243794]]\n",
      "\n",
      " [[-1.4522521  -0.8198536   1.9896696   0.5815978 ]]]\n",
      "partial [[[1. 1. 1. 1.]]\n",
      "\n",
      " [[1. 1. 1. 1.]]]\n",
      "[[[0.]]\n",
      "\n",
      " [[0.]]]\n"
     ]
    },
    {
     "ename": "ValueError",
     "evalue": "non-broadcastable output operand with shape (2,1,1) doesn't match the broadcast shape (2,2,1)",
     "output_type": "error",
     "traceback": [
      "\u001b[0;31m---------------------------------------------------------------------------\u001b[0m",
      "\u001b[0;31mValueError\u001b[0m                                Traceback (most recent call last)",
      "Cell \u001b[0;32mIn [6], line 12\u001b[0m\n\u001b[1;32m     10\u001b[0m c \u001b[38;5;241m=\u001b[39m b\u001b[38;5;241m.\u001b[39msum()\n\u001b[1;32m     11\u001b[0m draw_dot(c)\n\u001b[0;32m---> 12\u001b[0m \u001b[43mc\u001b[49m\u001b[38;5;241;43m.\u001b[39;49m\u001b[43mbackward\u001b[49m\u001b[43m(\u001b[49m\u001b[43m)\u001b[49m\n\u001b[1;32m     13\u001b[0m agg, cgg \u001b[38;5;241m=\u001b[39m a, c\n",
      "File \u001b[0;32m~/Documentos/UPC/PROYECTOS/giagrad/tests/../giagrad/tensor.py:104\u001b[0m, in \u001b[0;36mTensor.backward\u001b[0;34m(self, debug)\u001b[0m\n\u001b[1;32m    101\u001b[0m \u001b[38;5;28mself\u001b[39m\u001b[38;5;241m.\u001b[39mgrad \u001b[38;5;241m=\u001b[39m np\u001b[38;5;241m.\u001b[39mones(\u001b[38;5;28mself\u001b[39m\u001b[38;5;241m.\u001b[39mshape) \u001b[38;5;66;03m# dL/dL = 1\u001b[39;00m\n\u001b[1;32m    103\u001b[0m \u001b[38;5;28;01mfor\u001b[39;00m tensor \u001b[38;5;129;01min\u001b[39;00m \u001b[38;5;28mreversed\u001b[39m(topo):\n\u001b[0;32m--> 104\u001b[0m     \u001b[43mtensor\u001b[49m\u001b[38;5;241;43m.\u001b[39;49m\u001b[43m_ctx\u001b[49m\u001b[38;5;241;43m.\u001b[39;49m\u001b[43mbackward\u001b[49m\u001b[43m(\u001b[49m\u001b[43mtensor\u001b[49m\u001b[38;5;241;43m.\u001b[39;49m\u001b[43mgrad\u001b[49m\u001b[43m)\u001b[49m\n\u001b[1;32m    105\u001b[0m     \u001b[38;5;28;01mif\u001b[39;00m \u001b[38;5;129;01mnot\u001b[39;00m debug: \u001b[38;5;28;01mdel\u001b[39;00m tensor\u001b[38;5;241m.\u001b[39m_ctx\n",
      "File \u001b[0;32m~/Documentos/UPC/PROYECTOS/giagrad/tests/../giagrad/mathops.py:73\u001b[0m, in \u001b[0;36mMul.backward\u001b[0;34m(self, partial)\u001b[0m\n\u001b[1;32m     71\u001b[0m \u001b[38;5;28mprint\u001b[39m(\u001b[38;5;124m'\u001b[39m\u001b[38;5;124mpartial\u001b[39m\u001b[38;5;124m'\u001b[39m, np\u001b[38;5;241m.\u001b[39marray(partial))\n\u001b[1;32m     72\u001b[0m \u001b[38;5;28mprint\u001b[39m(p2\u001b[38;5;241m.\u001b[39mgrad)\n\u001b[0;32m---> 73\u001b[0m p2\u001b[38;5;241m.\u001b[39mgrad \u001b[38;5;241m+\u001b[39m\u001b[38;5;241m=\u001b[39m collapse(partial \u001b[38;5;241m*\u001b[39m p1\u001b[38;5;241m.\u001b[39mdata, p2\u001b[38;5;241m.\u001b[39mgrad\u001b[38;5;241m.\u001b[39mshape)\n",
      "\u001b[0;31mValueError\u001b[0m: non-broadcastable output operand with shape (2,1,1) doesn't match the broadcast shape (2,2,1)"
     ]
    }
   ],
   "source": [
    "# test axis\n",
    "a = torch.randn(2, 3, 4, requires_grad=True)\n",
    "b = a.mean(dim=(0,1), keepdim=True) * a.sum(dim=(1, 2), keepdim=True)\n",
    "c = b.sum()\n",
    "c.backward()\n",
    "apt, cpt = a, c\n",
    "\n",
    "a = Tensor(a.detach().numpy(), requires_grad=True)\n",
    "b = a.mean(axis=(0,1)) * a.sum(axis=(1, 2))\n",
    "c = b.sum()\n",
    "draw_dot(c)\n",
    "c.backward()\n",
    "agg, cgg = a, c\n",
    "\n",
    "\n",
    "# assert cgg.data == cpt.data.item()\n",
    "# assert np.all(agg.grad == apt.grad.detach().numpy()) "
   ]
  },
  {
   "cell_type": "code",
   "execution_count": 28,
   "id": "44d74a1d",
   "metadata": {},
   "outputs": [
    {
     "data": {
      "text/plain": [
       "array([[ 0.06784283,  1.0810782 ,  0.48128295],\n",
       "       [-0.19206631, -0.77614325, -0.60181004]], dtype=float32)"
      ]
     },
     "execution_count": 28,
     "metadata": {},
     "output_type": "execute_result"
    }
   ],
   "source": [
    "a = torch.randn(2, 3, requires_grad=True).detach().numpy()\n",
    "a"
   ]
  },
  {
   "cell_type": "code",
   "execution_count": 15,
   "id": "bcd941df",
   "metadata": {},
   "outputs": [
    {
     "data": {
      "text/plain": [
       "(3,)"
      ]
     },
     "execution_count": 15,
     "metadata": {},
     "output_type": "execute_result"
    }
   ],
   "source": [
    "b = np.sum(a, axis=(0,2))\n",
    "b.shape"
   ]
  },
  {
   "cell_type": "code",
   "execution_count": 29,
   "id": "4925082b",
   "metadata": {},
   "outputs": [
    {
     "data": {
      "text/plain": [
       "array([[0.06784283, 1.0810782 , 0.48128295]], dtype=float32)"
      ]
     },
     "execution_count": 29,
     "metadata": {},
     "output_type": "execute_result"
    }
   ],
   "source": [
    "b  =a.max(axis=(0), keepdims=True)\n",
    "b"
   ]
  },
  {
   "cell_type": "code",
   "execution_count": 26,
   "id": "2601499c",
   "metadata": {},
   "outputs": [
    {
     "data": {
      "text/plain": [
       "array([[False,  True, False],\n",
       "       [ True, False,  True]])"
      ]
     },
     "execution_count": 26,
     "metadata": {},
     "output_type": "execute_result"
    }
   ],
   "source": [
    "a == b"
   ]
  },
  {
   "cell_type": "code",
   "execution_count": 36,
   "id": "92997883",
   "metadata": {},
   "outputs": [
    {
     "data": {
      "text/plain": [
       "array([[1, 4, 6],\n",
       "       [5, 1, 5]])"
      ]
     },
     "execution_count": 36,
     "metadata": {},
     "output_type": "execute_result"
    }
   ],
   "source": [
    "a = np.array([[1,4,6],[5, 1, 5]])\n",
    "a"
   ]
  },
  {
   "cell_type": "code",
   "execution_count": 37,
   "id": "13311cfe",
   "metadata": {},
   "outputs": [
    {
     "data": {
      "text/plain": [
       "array([[5, 4, 6]])"
      ]
     },
     "execution_count": 37,
     "metadata": {},
     "output_type": "execute_result"
    }
   ],
   "source": [
    "b = a.max(axis=0, keepdims=True)\n",
    "b"
   ]
  },
  {
   "cell_type": "code",
   "execution_count": 41,
   "id": "1e55c5af",
   "metadata": {},
   "outputs": [
    {
     "data": {
      "text/plain": [
       "array([[2],\n",
       "       [0]])"
      ]
     },
     "execution_count": 41,
     "metadata": {},
     "output_type": "execute_result"
    }
   ],
   "source": [
    "a.argmax(axis=1, keepdims=True)"
   ]
  }
 ],
 "metadata": {
  "kernelspec": {
   "display_name": "Python 3 (ipykernel)",
   "language": "python",
   "name": "python3"
  },
  "language_info": {
   "codemirror_mode": {
    "name": "ipython",
    "version": 3
   },
   "file_extension": ".py",
   "mimetype": "text/x-python",
   "name": "python",
   "nbconvert_exporter": "python",
   "pygments_lexer": "ipython3",
   "version": "3.10.6"
  }
 },
 "nbformat": 4,
 "nbformat_minor": 5
}
