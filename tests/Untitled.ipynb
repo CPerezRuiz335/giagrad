{
 "cells": [
  {
   "cell_type": "code",
   "execution_count": 1,
   "id": "3fd009d5",
   "metadata": {},
   "outputs": [],
   "source": [
    "import sys; sys.path.append('../')\n",
    "import numpy as np\n",
    "from giagrad import Tensor\n",
    "import giagrad.nn as nn"
   ]
  },
  {
   "cell_type": "code",
   "execution_count": 2,
   "id": "10d504fb",
   "metadata": {},
   "outputs": [],
   "source": [
    "loss = nn.CrossEntropyLoss()\n",
    "input = Tensor.empty(3, 5, requires_grad=True).uniform()\n",
    "target = Tensor.empty(3, requires_grad=True, dtype=np.int8).uniform(b=5)\n",
    "output = loss(input, target)\n",
    "output.backward()"
   ]
  },
  {
   "cell_type": "code",
   "execution_count": 8,
   "id": "7cb92a76",
   "metadata": {},
   "outputs": [
    {
     "data": {
      "text/plain": [
       "tensor: 1.582334"
      ]
     },
     "execution_count": 8,
     "metadata": {},
     "output_type": "execute_result"
    }
   ],
   "source": [
    "output"
   ]
  },
  {
   "cell_type": "code",
   "execution_count": 9,
   "id": "9ecf1c3b",
   "metadata": {},
   "outputs": [],
   "source": [
    "import torch"
   ]
  },
  {
   "cell_type": "code",
   "execution_count": 15,
   "id": "c0e38db3",
   "metadata": {},
   "outputs": [
    {
     "ename": "RuntimeError",
     "evalue": "only Tensors of floating point dtype can require gradients",
     "output_type": "error",
     "traceback": [
      "\u001b[0;31m---------------------------------------------------------------------------\u001b[0m",
      "\u001b[0;31mRuntimeError\u001b[0m                              Traceback (most recent call last)",
      "Cell \u001b[0;32mIn [15], line 2\u001b[0m\n\u001b[1;32m      1\u001b[0m g \u001b[38;5;241m=\u001b[39m torch\u001b[38;5;241m.\u001b[39mtensor([\u001b[38;5;241m1\u001b[39m,\u001b[38;5;241m2\u001b[39m,\u001b[38;5;241m3\u001b[39m,\u001b[38;5;241m4\u001b[39m]) \u001b[38;5;241m==\u001b[39m \u001b[38;5;241m0\u001b[39m\n\u001b[0;32m----> 2\u001b[0m \u001b[43mg\u001b[49m\u001b[38;5;241;43m.\u001b[39;49m\u001b[43mrequires_grad_\u001b[49m\u001b[43m(\u001b[49m\u001b[43m)\u001b[49m\n",
      "\u001b[0;31mRuntimeError\u001b[0m: only Tensors of floating point dtype can require gradients"
     ]
    }
   ],
   "source": [
    "g = torch.tensor([1,2,3,4]) == 0\n",
    "g.requires_grad_()"
   ]
  },
  {
   "cell_type": "code",
   "execution_count": 32,
   "id": "0f0415e1",
   "metadata": {},
   "outputs": [
    {
     "data": {
      "text/plain": [
       "tensor([1., 0.])"
      ]
     },
     "execution_count": 32,
     "metadata": {},
     "output_type": "execute_result"
    }
   ],
   "source": [
    "input.grad"
   ]
  },
  {
   "cell_type": "code",
   "execution_count": 21,
   "id": "ce1b6516",
   "metadata": {},
   "outputs": [
    {
     "data": {
      "text/plain": [
       "array([0.00956619, 0.2180528 ], dtype=float32)"
      ]
     },
     "execution_count": 21,
     "metadata": {},
     "output_type": "execute_result"
    }
   ],
   "source": [
    "1 / (1 + np.exp(-2*input.detach().numpy()))"
   ]
  },
  {
   "cell_type": "code",
   "execution_count": 50,
   "id": "83e0bdef",
   "metadata": {},
   "outputs": [],
   "source": [
    "class Model:\n",
    "    def __init__(self):\n",
    "        self.l1 = nn.Linear(28*28, 100)\n",
    "        self.l2 = nn.Linear(100, 10)\n",
    "\n",
    "    def __call__(self, x):\n",
    "        x = self.l1(x).relu()\n",
    "        return self.l2(x).relu()\n",
    "    def __repr__(self):\n",
    "        return 'a'"
   ]
  },
  {
   "cell_type": "code",
   "execution_count": 52,
   "id": "56950cf9",
   "metadata": {},
   "outputs": [
    {
     "data": {
      "text/plain": [
       "'a'"
      ]
     },
     "execution_count": 52,
     "metadata": {},
     "output_type": "execute_result"
    }
   ],
   "source": [
    "m = Model()\n",
    "str(m)"
   ]
  },
  {
   "cell_type": "code",
   "execution_count": 13,
   "id": "7e45e438",
   "metadata": {},
   "outputs": [],
   "source": [
    "def init_weights(m):\n",
    "    print(type(m))\n",
    "    print(isinstance(m, nn.Linear))\n",
    "    if type(m) == nn.Linear:\n",
    "        m.w.ones()"
   ]
  },
  {
   "cell_type": "code",
   "execution_count": 14,
   "id": "8c634199",
   "metadata": {},
   "outputs": [
    {
     "name": "stdout",
     "output_type": "stream",
     "text": [
      "<class 'giagrad.nn.layers.layers.Linear'>\n",
      "True\n",
      "<class 'giagrad.tensor.Tensor'>\n",
      "False\n",
      "<class 'giagrad.tensor.Tensor'>\n",
      "False\n",
      "<class 'giagrad.nn.layers.layers.Linear'>\n",
      "True\n",
      "<class 'giagrad.tensor.Tensor'>\n",
      "False\n",
      "<class 'giagrad.tensor.Tensor'>\n",
      "False\n"
     ]
    }
   ],
   "source": [
    "m.apply(init_weights)"
   ]
  },
  {
   "cell_type": "code",
   "execution_count": 15,
   "id": "3ee67d88",
   "metadata": {},
   "outputs": [
    {
     "name": "stdout",
     "output_type": "stream",
     "text": [
      "<class 'giagrad.tensor.Tensor'> (100, 784)\n",
      "<class 'giagrad.tensor.Tensor'> (100,)\n",
      "<class 'giagrad.tensor.Tensor'> (10, 100)\n",
      "<class 'giagrad.tensor.Tensor'> (10,)\n"
     ]
    }
   ],
   "source": [
    "\n",
    "for p in m.parameters():\n",
    "    print(type(p), p.shape)"
   ]
  },
  {
   "cell_type": "code",
   "execution_count": 6,
   "id": "0008503a",
   "metadata": {},
   "outputs": [
    {
     "data": {
      "text/plain": [
       "True"
      ]
     },
     "execution_count": 6,
     "metadata": {},
     "output_type": "execute_result"
    }
   ],
   "source": [
    "np.all(m.l1.w == 1) and np.all(m.l2.w == 1) "
   ]
  },
  {
   "cell_type": "code",
   "execution_count": 7,
   "id": "be5a5be6",
   "metadata": {},
   "outputs": [
    {
     "data": {
      "text/plain": [
       "array([[1., 1., 1., ..., 1., 1., 1.],\n",
       "       [1., 1., 1., ..., 1., 1., 1.],\n",
       "       [1., 1., 1., ..., 1., 1., 1.],\n",
       "       ...,\n",
       "       [1., 1., 1., ..., 1., 1., 1.],\n",
       "       [1., 1., 1., ..., 1., 1., 1.],\n",
       "       [1., 1., 1., ..., 1., 1., 1.]], dtype=float32)"
      ]
     },
     "execution_count": 7,
     "metadata": {},
     "output_type": "execute_result"
    }
   ],
   "source": [
    "m.l1.w.data"
   ]
  },
  {
   "cell_type": "code",
   "execution_count": 40,
   "id": "071bdc1d",
   "metadata": {},
   "outputs": [
    {
     "data": {
      "text/plain": [
       "tensor: [[[[1. 1. 1.]\n",
       "           [1. 1. 1.]]\n",
       "\n",
       "          [[1. 1. 1.]\n",
       "           [1. 1. 1.]]]\n",
       "\n",
       "\n",
       "         [[[1. 1. 1.]\n",
       "           [1. 1. 1.]]\n",
       "\n",
       "          [[1. 1. 1.]\n",
       "           [1. 1. 1.]]]]"
      ]
     },
     "execution_count": 40,
     "metadata": {},
     "output_type": "execute_result"
    }
   ],
   "source": [
    "a = Tensor.empty(2, 2, 2, 3).ones()\n",
    "a"
   ]
  },
  {
   "cell_type": "code",
   "execution_count": 3,
   "id": "d2949817",
   "metadata": {},
   "outputs": [],
   "source": [
    "rng = np.random.default_rng()"
   ]
  },
  {
   "cell_type": "code",
   "execution_count": 4,
   "id": "4b822288",
   "metadata": {},
   "outputs": [],
   "source": [
    "index = np.array([0, 1, 1])"
   ]
  },
  {
   "cell_type": "code",
   "execution_count": 5,
   "id": "7d53bbfd",
   "metadata": {},
   "outputs": [],
   "source": [
    "import giagrad.nn as nn"
   ]
  },
  {
   "cell_type": "code",
   "execution_count": 6,
   "id": "a0ee130b",
   "metadata": {},
   "outputs": [
    {
     "data": {
      "text/plain": [
       "(2, 5, 5)"
      ]
     },
     "execution_count": 6,
     "metadata": {},
     "output_type": "execute_result"
    }
   ],
   "source": [
    "a.shape"
   ]
  },
  {
   "cell_type": "code",
   "execution_count": 41,
   "id": "cad4c721",
   "metadata": {},
   "outputs": [],
   "source": [
    "droput = nn.DropoutNd(0.5, axis=1)"
   ]
  },
  {
   "cell_type": "code",
   "execution_count": 42,
   "id": "10b9e617",
   "metadata": {},
   "outputs": [
    {
     "data": {
      "text/plain": [
       "tensor: [[[[0. 0. 0.]\n",
       "           [0. 0. 0.]]\n",
       "\n",
       "          [[2. 2. 2.]\n",
       "           [2. 2. 2.]]]\n",
       "\n",
       "\n",
       "         [[[2. 2. 2.]\n",
       "           [0. 0. 0.]]\n",
       "\n",
       "          [[2. 2. 2.]\n",
       "           [0. 0. 0.]]]] grad_fn: DropoutNd(p = 0.5, axis = 1)"
      ]
     },
     "execution_count": 42,
     "metadata": {},
     "output_type": "execute_result"
    }
   ],
   "source": [
    "droput(a)"
   ]
  }
 ],
 "metadata": {
  "kernelspec": {
   "display_name": "Python 3 (ipykernel)",
   "language": "python",
   "name": "python3"
  },
  "language_info": {
   "codemirror_mode": {
    "name": "ipython",
    "version": 3
   },
   "file_extension": ".py",
   "mimetype": "text/x-python",
   "name": "python",
   "nbconvert_exporter": "python",
   "pygments_lexer": "ipython3",
   "version": "3.10.6"
  }
 },
 "nbformat": 4,
 "nbformat_minor": 5
}
