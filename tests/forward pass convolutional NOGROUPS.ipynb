{
 "cells": [
  {
   "cell_type": "code",
   "execution_count": 1,
   "id": "79936de0",
   "metadata": {},
   "outputs": [
    {
     "data": {
      "text/html": [
       "<style>.container { width:100% !important; }</style>"
      ],
      "text/plain": [
       "<IPython.core.display.HTML object>"
      ]
     },
     "metadata": {},
     "output_type": "display_data"
    }
   ],
   "source": [
    "from IPython.display import display, HTML\n",
    "display(HTML(\"<style>.container { width:100% !important; }</style>\"))"
   ]
  },
  {
   "cell_type": "code",
   "execution_count": 2,
   "id": "3c163f93",
   "metadata": {},
   "outputs": [],
   "source": [
    "import torch # type: ignore\n",
    "import sys; sys.path.append('../')\n",
    "from  giagrad.tensor import Tensor\n",
    "import numpy as np\n",
    "from giagrad.display import draw_dot\n",
    "import torch.nn as nn\n",
    "import string\n",
    "import math\n",
    "from numpy.lib.stride_tricks import as_strided"
   ]
  },
  {
   "cell_type": "code",
   "execution_count": 117,
   "id": "c8ed82ba",
   "metadata": {},
   "outputs": [
    {
     "data": {
      "text/plain": [
       "array([[[[1, 2],\n",
       "         [3, 0]],\n",
       "\n",
       "        [[2, 3],\n",
       "         [2, 3]]],\n",
       "\n",
       "\n",
       "       [[[2, 2],\n",
       "         [2, 3]],\n",
       "\n",
       "        [[2, 0],\n",
       "         [1, 0]]],\n",
       "\n",
       "\n",
       "       [[[0, 1],\n",
       "         [2, 1]],\n",
       "\n",
       "        [[1, 3],\n",
       "         [1, 2]]]])"
      ]
     },
     "execution_count": 117,
     "metadata": {},
     "output_type": "execute_result"
    }
   ],
   "source": [
    "k = np.random.randint(0, 4,(3, 2, 2, 2))\n",
    "k"
   ]
  },
  {
   "cell_type": "code",
   "execution_count": 111,
   "id": "a27c3e7e",
   "metadata": {},
   "outputs": [
    {
     "data": {
      "text/plain": [
       "array([[[['a', 'b', 'c'],\n",
       "         ['d', 'e', 'f'],\n",
       "         ['g', 'h', 'i']],\n",
       "\n",
       "        [['j', 'k', 'l'],\n",
       "         ['m', 'n', 'o'],\n",
       "         ['p', 'q', 'r']]]], dtype=object)"
      ]
     },
     "execution_count": 111,
     "metadata": {},
     "output_type": "execute_result"
    }
   ],
   "source": [
    "import string\n",
    "alphabet = string.ascii_letters + '0123456789!@#$%^&*()_+=-'\n",
    "# a = np.arange(0, 2*2*3*3).reshape((2, 2, 3, 3))\n",
    "a = np.array(list(alphabet[:1*2*3*3])).reshape((1, 2, 3, 3)).astype('object')\n",
    "a"
   ]
  },
  {
   "cell_type": "markdown",
   "id": "c4b05fe3",
   "metadata": {},
   "source": [
    "Se necesita convertir con as_strided el array anterior para que tenga dimension:\n",
    "    $$(N, C_{in}, H_{in}, W_{in})$$\n",
    "Donde \n",
    "$$\n",
    "H_{out} = \\left\\lfloor \n",
    "            \\frac{H_{in} + 2 \\times padding[0] - dilation[0] \\times (kernel\\_size[0] -1) - 1}\n",
    "                 {stride[0]} + 1\n",
    "           \\right\\rfloor \\\\\n",
    "W_{out} = \\left\\lfloor \n",
    "            \\frac{W_{in} + 2 \\times padding[0] - dilation[0] \\times (kernel\\_size[1] -1) - 1}\n",
    "                 {stride[1]} + 1 \n",
    "           \\right\\rfloor \\\\\n",
    "$$"
   ]
  },
  {
   "cell_type": "code",
   "execution_count": 112,
   "id": "99a8c5ba",
   "metadata": {},
   "outputs": [
    {
     "name": "stdout",
     "output_type": "stream",
     "text": [
      "Hout:  2\n",
      "Wout:  2\n",
      "out_shape:  (1, 3, 2, 2)\n"
     ]
    }
   ],
   "source": [
    "from math import floor\n",
    "\n",
    "N, Cin, Hin, Win = a.shape\n",
    "k1, k2 = k.shape[-2:]\n",
    "Cout = k.shape[0]\n",
    "padding = (0, 0)\n",
    "dilation = (1, 1)\n",
    "stride = (1, 1)\n",
    "# asumiendo que Cin = Cout\n",
    "Hout = floor((Hin + 2 * padding[0] - dilation[0] * (k1 - 1) - 1) / stride[0]  + 1)\n",
    "Wout = floor((Win + 2 * padding[1] - dilation[1] * (k2 - 1) - 1) / stride[1]  + 1)\n",
    "\n",
    "print('Hout: ', Hout)\n",
    "print('Wout: ', Wout)\n",
    "\n",
    "# define output shape\n",
    "out_shape = (N, Cout, Hout, Wout)\n",
    "print('out_shape: ', out_shape)"
   ]
  },
  {
   "cell_type": "markdown",
   "id": "da32a0fa",
   "metadata": {},
   "source": [
    "strides debe tener una dimension mas que out_shape, ya que cada matrixz $H_{in} \\times W_{out}$ se debe dividir en todas las posibles mulitplicaciones del kernel.    \n",
    "\n",
    "tenemos:\n",
    "\n",
    "    - [   ,   ,   ,   ,   ] * bytes/itemsize\n",
    "    \n",
    "    posicion -1: strides de la convolucional horizontales := stride[1]\n",
    "    posicion -2: Win\n",
    "    posicion -3: strides de la convolucional verticales :=  stride[0]\n",
    "    posicion -4: Hin x Win\n",
    "    posicion -5: Cin x Hin x Win\n",
    "\n",
    "y el shape del strided array tiene que ser:\n",
    "    \n",
    "    -  [   ,   ,   ,   ,   ]\n",
    "    \n",
    "    posicion -1: N\n",
    "    posicion -2: Wout\n",
    "    posicion -3: Hout\n",
    "    posicion -4: k1\n",
    "    posicion -5: k2"
   ]
  },
  {
   "cell_type": "code",
   "execution_count": 113,
   "id": "2a5f1070",
   "metadata": {},
   "outputs": [
    {
     "name": "stdout",
     "output_type": "stream",
     "text": [
      "strides no byte:  [18.  3.  1.  9.  3.  1.]\n",
      "strides_:  [144  24   8  72  24   8]\n",
      "shape_:  (1, 2, 2, 2, 2, 2)\n",
      "k shape:  (3, 1, 2, 2)\n"
     ]
    }
   ],
   "source": [
    "shape_ = (\n",
    "          N,\n",
    "          Hout, \n",
    "          Wout, \n",
    "          Cin,\n",
    "          k1, \n",
    "          k2)\n",
    "strides_ = np.array([\n",
    "                    Hin*Win*Cin,\n",
    "                    Win*stride[0],\n",
    "                    stride[1], \n",
    "                     Hin*Win, \n",
    "                     Win*dilation[0], \n",
    "                     dilation[1]]) * a.itemsize\n",
    "print('strides no byte: ', strides_/a.itemsize)\n",
    "print('strides_: ', strides_)\n",
    "print('shape_: ', shape_)\n",
    "print('k shape: ', k.shape)"
   ]
  },
  {
   "cell_type": "code",
   "execution_count": 114,
   "id": "ef40a845",
   "metadata": {},
   "outputs": [
    {
     "data": {
      "text/plain": [
       "array([[[[[['a', 'b'],\n",
       "           ['d', 'e']],\n",
       "\n",
       "          [['j', 'k'],\n",
       "           ['m', 'n']]],\n",
       "\n",
       "\n",
       "         [[['b', 'c'],\n",
       "           ['e', 'f']],\n",
       "\n",
       "          [['k', 'l'],\n",
       "           ['n', 'o']]]],\n",
       "\n",
       "\n",
       "\n",
       "        [[[['d', 'e'],\n",
       "           ['g', 'h']],\n",
       "\n",
       "          [['m', 'n'],\n",
       "           ['p', 'q']]],\n",
       "\n",
       "\n",
       "         [[['e', 'f'],\n",
       "           ['h', 'i']],\n",
       "\n",
       "          [['n', 'o'],\n",
       "           ['q', 'r']]]]]], dtype=object)"
      ]
     },
     "execution_count": 114,
     "metadata": {},
     "output_type": "execute_result"
    }
   ],
   "source": [
    "strided_array = as_strided(a, shape=shape_, strides=strides_)\n",
    "strided_array"
   ]
  },
  {
   "cell_type": "code",
   "execution_count": 115,
   "id": "aa197fe6",
   "metadata": {},
   "outputs": [
    {
     "ename": "ValueError",
     "evalue": "shape-mismatch for sum",
     "output_type": "error",
     "traceback": [
      "\u001b[0;31m---------------------------------------------------------------------------\u001b[0m",
      "\u001b[0;31mValueError\u001b[0m                                Traceback (most recent call last)",
      "Cell \u001b[0;32mIn [115], line 1\u001b[0m\n\u001b[0;32m----> 1\u001b[0m out \u001b[38;5;241m=\u001b[39m \u001b[43mnp\u001b[49m\u001b[38;5;241;43m.\u001b[39;49m\u001b[43mtensordot\u001b[49m\u001b[43m(\u001b[49m\u001b[43mk\u001b[49m\u001b[43m,\u001b[49m\u001b[43m \u001b[49m\u001b[43mstrided_array\u001b[49m\u001b[43m,\u001b[49m\u001b[43m \u001b[49m\u001b[43maxes\u001b[49m\u001b[38;5;241;43m=\u001b[39;49m\u001b[43m(\u001b[49m\u001b[43m[\u001b[49m\u001b[38;5;241;43m1\u001b[39;49m\u001b[43m,\u001b[49m\u001b[43m \u001b[49m\u001b[38;5;241;43m2\u001b[39;49m\u001b[43m,\u001b[49m\u001b[43m \u001b[49m\u001b[38;5;241;43m3\u001b[39;49m\u001b[43m]\u001b[49m\u001b[43m,\u001b[49m\u001b[43m \u001b[49m\u001b[43m[\u001b[49m\u001b[38;5;241;43m3\u001b[39;49m\u001b[43m,\u001b[49m\u001b[43m \u001b[49m\u001b[38;5;241;43m4\u001b[39;49m\u001b[43m,\u001b[49m\u001b[43m \u001b[49m\u001b[38;5;241;43m5\u001b[39;49m\u001b[43m]\u001b[49m\u001b[43m)\u001b[49m\u001b[43m)\u001b[49m\n\u001b[1;32m      2\u001b[0m \u001b[38;5;28mprint\u001b[39m(out,\u001b[38;5;124m'\u001b[39m\u001b[38;5;130;01m\\n\u001b[39;00m\u001b[38;5;124m'\u001b[39m)\n\u001b[1;32m      3\u001b[0m \u001b[38;5;28mprint\u001b[39m(\u001b[38;5;124m'\u001b[39m\u001b[38;5;124mbueno: \u001b[39m\u001b[38;5;130;01m\\n\u001b[39;00m\u001b[38;5;130;01m\\n\u001b[39;00m\u001b[38;5;124m'\u001b[39m, np\u001b[38;5;241m.\u001b[39mswapaxes(out, \u001b[38;5;241m0\u001b[39m, \u001b[38;5;241m1\u001b[39m))\n",
      "File \u001b[0;32m<__array_function__ internals>:180\u001b[0m, in \u001b[0;36mtensordot\u001b[0;34m(*args, **kwargs)\u001b[0m\n",
      "File \u001b[0;32m~/Entornos/pyIAA-GIA/lib/python3.10/site-packages/numpy/core/numeric.py:1116\u001b[0m, in \u001b[0;36mtensordot\u001b[0;34m(a, b, axes)\u001b[0m\n\u001b[1;32m   1114\u001b[0m             axes_b[k] \u001b[38;5;241m+\u001b[39m\u001b[38;5;241m=\u001b[39m ndb\n\u001b[1;32m   1115\u001b[0m \u001b[38;5;28;01mif\u001b[39;00m \u001b[38;5;129;01mnot\u001b[39;00m equal:\n\u001b[0;32m-> 1116\u001b[0m     \u001b[38;5;28;01mraise\u001b[39;00m \u001b[38;5;167;01mValueError\u001b[39;00m(\u001b[38;5;124m\"\u001b[39m\u001b[38;5;124mshape-mismatch for sum\u001b[39m\u001b[38;5;124m\"\u001b[39m)\n\u001b[1;32m   1118\u001b[0m \u001b[38;5;66;03m# Move the axes to sum over to the end of \"a\"\u001b[39;00m\n\u001b[1;32m   1119\u001b[0m \u001b[38;5;66;03m# and to the front of \"b\"\u001b[39;00m\n\u001b[1;32m   1120\u001b[0m notin \u001b[38;5;241m=\u001b[39m [k \u001b[38;5;28;01mfor\u001b[39;00m k \u001b[38;5;129;01min\u001b[39;00m \u001b[38;5;28mrange\u001b[39m(nda) \u001b[38;5;28;01mif\u001b[39;00m k \u001b[38;5;129;01mnot\u001b[39;00m \u001b[38;5;129;01min\u001b[39;00m axes_a]\n",
      "\u001b[0;31mValueError\u001b[0m: shape-mismatch for sum"
     ]
    }
   ],
   "source": [
    "out = np.tensordot(k, strided_array, axes=([1, 2, 3], [3, 4, 5]))\n",
    "print(out,'\\n')\n",
    "print('bueno: \\n\\n', np.swapaxes(out, 0, 1))\n",
    "print('shape: ', np.swapaxes(out, 0, 1).shape)\n",
    "print('desired shape: ', out_shape)"
   ]
  }
 ],
 "metadata": {
  "kernelspec": {
   "display_name": "Python 3 (ipykernel)",
   "language": "python",
   "name": "python3"
  },
  "language_info": {
   "codemirror_mode": {
    "name": "ipython",
    "version": 3
   },
   "file_extension": ".py",
   "mimetype": "text/x-python",
   "name": "python",
   "nbconvert_exporter": "python",
   "pygments_lexer": "ipython3",
   "version": "3.10.6"
  }
 },
 "nbformat": 4,
 "nbformat_minor": 5
}
