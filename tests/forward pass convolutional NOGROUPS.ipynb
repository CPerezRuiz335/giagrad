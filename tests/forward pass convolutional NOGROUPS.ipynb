{
 "cells": [
  {
   "cell_type": "code",
   "execution_count": 1,
   "id": "79936de0",
   "metadata": {},
   "outputs": [
    {
     "data": {
      "text/html": [
       "<style>.container { width:100% !important; }</style>"
      ],
      "text/plain": [
       "<IPython.core.display.HTML object>"
      ]
     },
     "metadata": {},
     "output_type": "display_data"
    }
   ],
   "source": [
    "from IPython.display import display, HTML\n",
    "display(HTML(\"<style>.container { width:100% !important; }</style>\"))"
   ]
  },
  {
   "cell_type": "code",
   "execution_count": 2,
   "id": "3c163f93",
   "metadata": {},
   "outputs": [],
   "source": [
    "import torch # type: ignore\n",
    "import sys; sys.path.append('../')\n",
    "from  giagrad.tensor import Tensor\n",
    "import numpy as np\n",
    "from giagrad.display import draw_dot\n",
    "import torch.nn as nn\n",
    "import string\n",
    "import math\n",
    "from itertools import chain\n",
    "from numpy.lib.stride_tricks import as_strided"
   ]
  },
  {
   "cell_type": "markdown",
   "id": "c6c9e1a3",
   "metadata": {},
   "source": [
    "# Conv 2D"
   ]
  },
  {
   "cell_type": "markdown",
   "id": "8987b26b",
   "metadata": {},
   "source": [
    "## Helpers"
   ]
  },
  {
   "cell_type": "code",
   "execution_count": 3,
   "id": "a610bb6e",
   "metadata": {},
   "outputs": [],
   "source": [
    "import string\n",
    "from math import floor\n",
    "alphabet = [chr(i) for i in chain(range(33,127), range(161, 670))]\n",
    "# Channels out, Channels in, kernel Height, kernel Width\n",
    "def kernel(Cout, Cin, kH, kW, a=0, b=4):\n",
    "    return np.random.randint(a, b, (Cout, Cin, kH, kW))\n",
    "\n",
    "def dataBatched(N, Cin, Hin, Win):\n",
    "    return np.array(alphabet[:N*Cin*Hin*Win], dtype=object).reshape((N, Cin, Hin, Win))\n",
    "\n",
    "def dataUnBatched(Cin, Hin, Win):\n",
    "    return np.array(alphabet[:Cin*Hin*Win], dtype=object).reshape((Cin, Hin, Win))"
   ]
  },
  {
   "cell_type": "markdown",
   "id": "fb40d28c",
   "metadata": {},
   "source": [
    "## Forward"
   ]
  },
  {
   "cell_type": "markdown",
   "id": "c4b05fe3",
   "metadata": {},
   "source": [
    "Para la convolucion se necesita convertir con as_strided el array anterior para que tenga dimension:\n",
    "    $$(N, C_{in}, H_{in}, W_{in})$$\n",
    "Donde \n",
    "$$\n",
    "H_{out} = \\left\\lfloor \n",
    "            \\frac{H_{in} + 2 \\times padding[0] - dilation[0] \\times (kernel\\_size[0] -1) - 1}\n",
    "                 {stride[0]} + 1\n",
    "           \\right\\rfloor \\\\\n",
    "W_{out} = \\left\\lfloor \n",
    "            \\frac{W_{in} + 2 \\times padding[0] - dilation[0] \\times (kernel\\_size[1] -1) - 1}\n",
    "                 {stride[1]} + 1 \n",
    "           \\right\\rfloor \\\\\n",
    "$$"
   ]
  },
  {
   "cell_type": "code",
   "execution_count": 5,
   "id": "99a8c5ba",
   "metadata": {},
   "outputs": [
    {
     "name": "stdout",
     "output_type": "stream",
     "text": [
      "Hout:  5\n",
      "Wout:  5\n",
      "out_shape:  (3, 5, 5, 5)\n"
     ]
    }
   ],
   "source": [
    "N, Cin, Hin, Win = 3, 4, 7, 7\n",
    "kH, kW = 3, 3\n",
    "Cout = 5\n",
    "padding = (0, 0)\n",
    "dilation = (1, 1)\n",
    "stride = (1, 1)\n",
    "\n",
    "Hout = floor((Hin + 2 * padding[0] - dilation[0] * (kH - 1) - 1) / stride[0]  + 1)\n",
    "Wout = floor((Win + 2 * padding[1] - dilation[1] * (kW - 1) - 1) / stride[1]  + 1)\n",
    "\n",
    "print('Hout: ', Hout)\n",
    "print('Wout: ', Wout)\n",
    "\n",
    "# define output shape\n",
    "out_shape = (N, Cout, Hout, Wout)\n",
    "print('out_shape: ', out_shape)"
   ]
  },
  {
   "cell_type": "code",
   "execution_count": 6,
   "id": "a27c3e7e",
   "metadata": {},
   "outputs": [],
   "source": [
    "# DATA\n",
    "data = dataBatched(N, Cin, Hin, Win)\n",
    "# random KERNEL\n",
    "k = kernel(Cout, Cin, kH, kW)"
   ]
  },
  {
   "cell_type": "markdown",
   "id": "da32a0fa",
   "metadata": {},
   "source": [
    "strides debe tener una dimension mas que out_shape, ya que cada matrix $H_{in} \\times W_{out}$ se debe dividir en todas las posibles mulitplicaciones del kernel.    \n",
    "\n",
    "tenemos:\n",
    "\n",
    "    - [ -6 , -5 , -4 , -3 , -2 , -1 ] * itemsize in bytes\n",
    "    \n",
    "    posicion -1: dilation[1], horizontal dilation\n",
    "    posicion -2: Win * dilation[0], vertical dilation\n",
    "    posicion -3: Hin*Win, jump to next Channel\n",
    "    posicion -4: stride[1], horizontal stride\n",
    "    posicion -5: Win*stride[0], vertical stride\n",
    "    posicion -6: Hin*Win*Cin, next observation in Batched data\n",
    "\n",
    "y el shape del strided array tiene que ser:\n",
    "    \n",
    "    -  [ -6 , -5 , -4 , -3 , -2 , -1 ]\n",
    "    \n",
    "    posicion -1: k2\n",
    "    posicion -2: k1\n",
    "    posicion -3: Cin\n",
    "    posicion -4: Wout\n",
    "    posicion -5: Hout\n",
    "    posicion -6: N"
   ]
  },
  {
   "cell_type": "code",
   "execution_count": 10,
   "id": "2a5f1070",
   "metadata": {},
   "outputs": [
    {
     "name": "stdout",
     "output_type": "stream",
     "text": [
      "strides no byte:  [196.   7.   1.  49.   7.   1.]\n",
      "strides in bytes:  [1568   56    8  392   56    8]\n",
      "strided output shape:  (3, 5, 5, 4, 3, 3)\n",
      "kernel shape:  (5, 4, 3, 3)\n",
      "data shape:  (3, 4, 7, 7)\n"
     ]
    }
   ],
   "source": [
    "stridedShape = (\n",
    "    N,\n",
    "    Hout, \n",
    "    Wout, \n",
    "    Cin,\n",
    "    kH, \n",
    "    kW\n",
    ")\n",
    "\n",
    "strides = np.array(\n",
    "    [Hin*Win*Cin,\n",
    "     Win*stride[0],\n",
    "     stride[1],\n",
    "     Hin*Win,\n",
    "     Win*dilation[0],\n",
    "     dilation[1]]) * data.itemsize\n",
    "\n",
    "print('strides no byte: ', strides/data.itemsize)\n",
    "print('strides in bytes: ', strides)\n",
    "print('strided output shape: ', stridedShape)\n",
    "print('kernel shape: ', k.shape)\n",
    "print('data shape: ', data.shape)"
   ]
  },
  {
   "cell_type": "code",
   "execution_count": 12,
   "id": "ef40a845",
   "metadata": {},
   "outputs": [],
   "source": [
    "# expand data to apply tensordot\n",
    "strided_array = as_strided(data, shape=stridedShape, strides=strides)"
   ]
  },
  {
   "cell_type": "code",
   "execution_count": 14,
   "id": "aa197fe6",
   "metadata": {},
   "outputs": [
    {
     "name": "stdout",
     "output_type": "stream",
     "text": [
      "convolved shape:  (3, 5, 5, 5)\n",
      "desired shape:  (3, 5, 5, 5)\n"
     ]
    }
   ],
   "source": [
    "convolved = np.swapaxes(np.tensordot(k, strided_array, axes=([1, 2, 3], [3, 4, 5])), 0, 1)\n",
    "print('convolved shape: ', convolved.shape)\n",
    "print('desired shape: ', out_shape)"
   ]
  },
  {
   "cell_type": "markdown",
   "id": "ad083276",
   "metadata": {},
   "source": [
    "## Test with MyGrad"
   ]
  },
  {
   "cell_type": "code",
   "execution_count": null,
   "id": "57024104",
   "metadata": {},
   "outputs": [],
   "source": []
  },
  {
   "cell_type": "code",
   "execution_count": null,
   "id": "5c469fb0",
   "metadata": {},
   "outputs": [],
   "source": []
  },
  {
   "cell_type": "code",
   "execution_count": null,
   "id": "14d59c8b",
   "metadata": {},
   "outputs": [],
   "source": []
  }
 ],
 "metadata": {
  "kernelspec": {
   "display_name": "Python 3 (ipykernel)",
   "language": "python",
   "name": "python3"
  },
  "language_info": {
   "codemirror_mode": {
    "name": "ipython",
    "version": 3
   },
   "file_extension": ".py",
   "mimetype": "text/x-python",
   "name": "python",
   "nbconvert_exporter": "python",
   "pygments_lexer": "ipython3",
   "version": "3.10.6"
  }
 },
 "nbformat": 4,
 "nbformat_minor": 5
}
