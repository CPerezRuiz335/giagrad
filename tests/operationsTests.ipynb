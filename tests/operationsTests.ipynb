{
 "cells": [
  {
   "cell_type": "code",
   "execution_count": 1,
   "id": "b62753ca",
   "metadata": {},
   "outputs": [
    {
     "data": {
      "text/html": [
       "<style>.container { width:100% !important; }</style>"
      ],
      "text/plain": [
       "<IPython.core.display.HTML object>"
      ]
     },
     "metadata": {},
     "output_type": "display_data"
    }
   ],
   "source": [
    "from IPython.display import display, HTML\n",
    "display(HTML(\"<style>.container { width:100% !important; }</style>\"))"
   ]
  },
  {
   "cell_type": "code",
   "execution_count": 4,
   "id": "7caddfa6",
   "metadata": {},
   "outputs": [],
   "source": [
    "%matplotlib inline\n",
    "import numpy as np\n",
    "from tqdm import trange\n",
    "np.set_printoptions(suppress=True)"
   ]
  },
  {
   "cell_type": "code",
   "execution_count": 5,
   "id": "5ff21f25",
   "metadata": {},
   "outputs": [],
   "source": [
    "import torch\n",
    "import math\n",
    "import numpy as np"
   ]
  },
  {
   "cell_type": "markdown",
   "id": "4f8c44dd",
   "metadata": {},
   "source": [
    "# Binary operators\n",
    "## Dot product\n",
    "\n",
    "Parece que todo es \n",
    "\n",
    "```python\n",
    "a_grad = c_grad @ b.T \n",
    "b_grad = a.T @ c_grad\n",
    "```"
   ]
  },
  {
   "cell_type": "code",
   "execution_count": 4,
   "id": "c9dd732e",
   "metadata": {},
   "outputs": [],
   "source": [
    "import numpy as np\n",
    "\n",
    "def backprop_torch(a, b, const=1):\n",
    "    a = torch.tensor(a, requires_grad=True)\n",
    "    b = torch.tensor(b, requires_grad=True)\n",
    "    c = a @ b\n",
    "    c.retain_grad()\n",
    "    (c.sum() * const).backward()\n",
    "    \n",
    "    print('a_grad_torch:\\n', a.grad.detach().numpy(), end='\\n'*2)\n",
    "    print('b_grad_torch:\\n', b.grad.detach().numpy(), end='\\n'*2)\n",
    "    print('c_grad_torch:\\n', c.grad.detach().numpy(), end='\\n'*2)\n",
    "\n",
    "def backprop(a, b, const=1):\n",
    "    c = a @ b\n",
    "    c_grad = np.ones_like(c)*const\n",
    "    \n",
    "    a_grad = c_grad @ b.T \n",
    "    b_grad = a.T @ c_grad\n",
    "    \n",
    "    print('a_grad:\\n', a_grad, end='\\n'*2)\n",
    "    print('b_grad:\\n', b_grad, end='\\n'*2)\n",
    "    print('c_grad:\\n', c_grad, end='\\n'*2)"
   ]
  },
  {
   "cell_type": "markdown",
   "id": "500f5743",
   "metadata": {},
   "source": [
    "## Vectorized"
   ]
  },
  {
   "cell_type": "code",
   "execution_count": 9,
   "id": "1b5454da",
   "metadata": {},
   "outputs": [],
   "source": [
    "at = torch.tensor([[1,1,1], [1,1,1.]], requires_grad=True)\n",
    "bt = torch.tensor([[0,0,0.]], requires_grad=True)"
   ]
  },
  {
   "cell_type": "code",
   "execution_count": 12,
   "id": "66be876b",
   "metadata": {},
   "outputs": [],
   "source": [
    "ct = at + bt\n",
    "dt = ct.sum()"
   ]
  },
  {
   "cell_type": "code",
   "execution_count": 13,
   "id": "134441e7",
   "metadata": {},
   "outputs": [],
   "source": [
    "ct.retain_grad()\n",
    "dt.backward()"
   ]
  },
  {
   "cell_type": "code",
   "execution_count": 15,
   "id": "fc9f0897",
   "metadata": {},
   "outputs": [
    {
     "data": {
      "text/plain": [
       "tensor([[2., 2., 2.]])"
      ]
     },
     "execution_count": 15,
     "metadata": {},
     "output_type": "execute_result"
    }
   ],
   "source": [
    "bt.grad"
   ]
  },
  {
   "cell_type": "code",
   "execution_count": 67,
   "id": "83ead086",
   "metadata": {},
   "outputs": [],
   "source": [
    "an = np.array([[1,1,1], [1,1,1.]])\n",
    "bn = np.array([[0,0,0]])"
   ]
  },
  {
   "cell_type": "code",
   "execution_count": 68,
   "id": "1449fde6",
   "metadata": {},
   "outputs": [
    {
     "data": {
      "text/plain": [
       "(1, 3)"
      ]
     },
     "execution_count": 68,
     "metadata": {},
     "output_type": "execute_result"
    }
   ],
   "source": [
    "bn.shape"
   ]
  },
  {
   "cell_type": "code",
   "execution_count": 69,
   "id": "1d195928",
   "metadata": {},
   "outputs": [
    {
     "data": {
      "text/plain": [
       "array([[1., 1., 1.],\n",
       "       [1., 1., 1.]])"
      ]
     },
     "execution_count": 69,
     "metadata": {},
     "output_type": "execute_result"
    }
   ],
   "source": [
    "an + bn"
   ]
  },
  {
   "cell_type": "code",
   "execution_count": 70,
   "id": "3d83e746",
   "metadata": {},
   "outputs": [
    {
     "data": {
      "text/plain": [
       "array([2., 2., 2.])"
      ]
     },
     "execution_count": 70,
     "metadata": {},
     "output_type": "execute_result"
    }
   ],
   "source": [
    "np.sum(an+bn, axis=0)"
   ]
  },
  {
   "cell_type": "code",
   "execution_count": 53,
   "id": "b2281ab7",
   "metadata": {},
   "outputs": [],
   "source": [
    "cn = np.array([[1]])"
   ]
  },
  {
   "cell_type": "code",
   "execution_count": 54,
   "id": "d9bf3098",
   "metadata": {},
   "outputs": [],
   "source": [
    "dn = an+cn"
   ]
  },
  {
   "cell_type": "code",
   "execution_count": 55,
   "id": "16452e06",
   "metadata": {},
   "outputs": [
    {
     "data": {
      "text/plain": [
       "array([[2., 2., 2.],\n",
       "       [2., 2., 2.]])"
      ]
     },
     "execution_count": 55,
     "metadata": {},
     "output_type": "execute_result"
    }
   ],
   "source": [
    "dn"
   ]
  },
  {
   "cell_type": "code",
   "execution_count": 61,
   "id": "1fd93087",
   "metadata": {},
   "outputs": [
    {
     "data": {
      "text/plain": [
       "12.0"
      ]
     },
     "execution_count": 61,
     "metadata": {},
     "output_type": "execute_result"
    }
   ],
   "source": [
    "s = np.sum(dn, axis=1)\n",
    "np.sum(s, axis=0)"
   ]
  },
  {
   "cell_type": "code",
   "execution_count": 50,
   "id": "da8ae005",
   "metadata": {},
   "outputs": [
    {
     "data": {
      "text/plain": [
       "(1, 1)"
      ]
     },
     "execution_count": 50,
     "metadata": {},
     "output_type": "execute_result"
    }
   ],
   "source": [
    "cn.shape"
   ]
  },
  {
   "cell_type": "code",
   "execution_count": 51,
   "id": "4c693b9e",
   "metadata": {},
   "outputs": [
    {
     "data": {
      "text/plain": [
       "(2, 3)"
      ]
     },
     "execution_count": 51,
     "metadata": {},
     "output_type": "execute_result"
    }
   ],
   "source": [
    "dn.shape"
   ]
  }
 ],
 "metadata": {
  "kernelspec": {
   "display_name": "Python 3 (ipykernel)",
   "language": "python",
   "name": "python3"
  },
  "language_info": {
   "codemirror_mode": {
    "name": "ipython",
    "version": 3
   },
   "file_extension": ".py",
   "mimetype": "text/x-python",
   "name": "python",
   "nbconvert_exporter": "python",
   "pygments_lexer": "ipython3",
   "version": "3.10.6"
  }
 },
 "nbformat": 4,
 "nbformat_minor": 5
}
