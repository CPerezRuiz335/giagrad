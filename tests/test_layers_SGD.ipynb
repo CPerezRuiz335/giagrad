{
 "cells": [
  {
   "cell_type": "code",
   "execution_count": 1,
   "id": "b62753ca",
   "metadata": {},
   "outputs": [
    {
     "data": {
      "text/html": [
       "<style>.container { width:100% !important; }</style>"
      ],
      "text/plain": [
       "<IPython.core.display.HTML object>"
      ]
     },
     "metadata": {},
     "output_type": "display_data"
    }
   ],
   "source": [
    "from IPython.display import display, HTML\n",
    "display(HTML(\"<style>.container { width:100% !important; }</style>\"))\n",
    "\n",
    "import torch\n",
    "\n",
    "%matplotlib inline\n",
    "import numpy as np\n",
    "import sys\n",
    " \n",
    "# setting path\n",
    "sys.path.append('../.')\n",
    "from giagrad.tensor import Tensor\n",
    "from giagrad.mlops import Softmax, LogSoftmax\n",
    "from giagrad.nn.layers import Linear\n",
    "from giagrad.nn.loss import CrossEntropyLoss\n",
    "from giagrad.optim import SGD\n",
    "import torch.optim as toptim"
   ]
  },
  {
   "cell_type": "code",
   "execution_count": 2,
   "id": "39a88605",
   "metadata": {},
   "outputs": [],
   "source": [
    "X = torch.randn(2, 10)"
   ]
  },
  {
   "cell_type": "markdown",
   "id": "469406c9",
   "metadata": {},
   "source": [
    "## Pytorch"
   ]
  },
  {
   "cell_type": "code",
   "execution_count": 3,
   "id": "44e07691",
   "metadata": {},
   "outputs": [],
   "source": [
    "l1t = torch.nn.Linear(10, 10)\n",
    "l2t = torch.nn.Linear(10, 10)\n",
    "l3t = torch.nn.Linear(10,  1)"
   ]
  },
  {
   "cell_type": "code",
   "execution_count": 6,
   "id": "7efc07f2",
   "metadata": {},
   "outputs": [
    {
     "data": {
      "text/plain": [
       "tensor(0.0106, grad_fn=<MeanBackward0>)"
      ]
     },
     "execution_count": 6,
     "metadata": {},
     "output_type": "execute_result"
    }
   ],
   "source": [
    "x = l1t(X)\n",
    "x = l2t(x)\n",
    "yt = l3t(x).mean()\n",
    "yt"
   ]
  },
  {
   "cell_type": "code",
   "execution_count": 7,
   "id": "ffa682c7",
   "metadata": {},
   "outputs": [],
   "source": [
    "yt.backward()"
   ]
  },
  {
   "cell_type": "code",
   "execution_count": 8,
   "id": "4024ca66",
   "metadata": {},
   "outputs": [
    {
     "data": {
      "text/plain": [
       "tensor([[ 0.2884,  0.3311,  0.0896, -0.1128,  0.1544,  0.2177,  0.3075, -0.2359,\n",
       "          0.0673, -0.2024]])"
      ]
     },
     "execution_count": 8,
     "metadata": {},
     "output_type": "execute_result"
    }
   ],
   "source": [
    "# GRADS\n",
    "l3t.weight.grad"
   ]
  },
  {
   "cell_type": "code",
   "execution_count": 9,
   "id": "02418b3b",
   "metadata": {},
   "outputs": [
    {
     "data": {
      "text/plain": [
       "tensor([[-5.6430e-02,  1.4565e-02,  5.7088e-02,  3.3552e-03, -1.6401e-01,\n",
       "         -2.5608e-02,  7.4786e-02,  4.7204e-02, -9.0295e-02, -6.4606e-02],\n",
       "        [ 1.2455e-03, -3.2149e-04, -1.2601e-03, -7.4057e-05,  3.6202e-03,\n",
       "          5.6524e-04, -1.6507e-03, -1.0419e-03,  1.9930e-03,  1.4260e-03],\n",
       "        [ 1.8835e-02, -4.8615e-03, -1.9054e-02, -1.1199e-03,  5.4743e-02,\n",
       "          8.5472e-03, -2.4961e-02, -1.5755e-02,  3.0138e-02,  2.1564e-02],\n",
       "        [-2.8384e-02,  7.3263e-03,  2.8715e-02,  1.6876e-03, -8.2497e-02,\n",
       "         -1.2881e-02,  3.7617e-02,  2.3743e-02, -4.5417e-02, -3.2496e-02],\n",
       "        [-4.4793e-03,  1.1562e-03,  4.5315e-03,  2.6633e-04, -1.3019e-02,\n",
       "         -2.0327e-03,  5.9364e-03,  3.7470e-03, -7.1674e-03, -5.1283e-03],\n",
       "        [-6.1189e-03,  1.5794e-03,  6.1902e-03,  3.6381e-04, -1.7784e-02,\n",
       "         -2.7768e-03,  8.1093e-03,  5.1185e-03, -9.7909e-03, -7.0055e-03],\n",
       "        [ 2.2423e-02, -5.7877e-03, -2.2684e-02, -1.3332e-03,  6.5172e-02,\n",
       "          1.0176e-02, -2.9717e-02, -1.8757e-02,  3.5879e-02,  2.5672e-02],\n",
       "        [ 4.9886e-02, -1.2876e-02, -5.0467e-02, -2.9661e-03,  1.4499e-01,\n",
       "          2.2638e-02, -6.6114e-02, -4.1730e-02,  7.9824e-02,  5.7114e-02],\n",
       "        [-4.1973e-02,  1.0834e-02,  4.2462e-02,  2.4956e-03, -1.2199e-01,\n",
       "         -1.9048e-02,  5.5627e-02,  3.5111e-02, -6.7162e-02, -4.8055e-02],\n",
       "        [-1.8964e-02,  4.8949e-03,  1.9185e-02,  1.1276e-03, -5.5118e-02,\n",
       "         -8.6059e-03,  2.5133e-02,  1.5864e-02, -3.0345e-02, -2.1712e-02]])"
      ]
     },
     "execution_count": 9,
     "metadata": {},
     "output_type": "execute_result"
    }
   ],
   "source": [
    "l2t.weight.grad"
   ]
  },
  {
   "cell_type": "code",
   "execution_count": 10,
   "id": "cba16c72",
   "metadata": {},
   "outputs": [
    {
     "data": {
      "text/plain": [
       "tensor([[-0.0854,  0.0159, -0.0457, -0.0504,  0.0710, -0.0576,  0.0061,  0.0410,\n",
       "          0.0514, -0.1024],\n",
       "        [-0.0954,  0.0178, -0.0511, -0.0563,  0.0793, -0.0643,  0.0068,  0.0458,\n",
       "          0.0574, -0.1144],\n",
       "        [ 0.1390, -0.0259,  0.0744,  0.0821, -0.1157,  0.0938, -0.0099, -0.0668,\n",
       "         -0.0837,  0.1668],\n",
       "        [ 0.0871, -0.0162,  0.0466,  0.0514, -0.0725,  0.0588, -0.0062, -0.0419,\n",
       "         -0.0524,  0.1045],\n",
       "        [-0.0910,  0.0170, -0.0487, -0.0537,  0.0757, -0.0613,  0.0065,  0.0437,\n",
       "          0.0547, -0.1091],\n",
       "        [ 0.0302, -0.0056,  0.0162,  0.0178, -0.0251,  0.0203, -0.0021, -0.0145,\n",
       "         -0.0182,  0.0362],\n",
       "        [ 0.0590, -0.0110,  0.0316,  0.0349, -0.0491,  0.0398, -0.0042, -0.0284,\n",
       "         -0.0355,  0.0708],\n",
       "        [-0.0304,  0.0057, -0.0163, -0.0179,  0.0253, -0.0205,  0.0022,  0.0146,\n",
       "          0.0183, -0.0364],\n",
       "        [-0.1094,  0.0204, -0.0586, -0.0646,  0.0910, -0.0738,  0.0078,  0.0526,\n",
       "          0.0658, -0.1312],\n",
       "        [ 0.0156, -0.0029,  0.0084,  0.0092, -0.0130,  0.0105, -0.0011, -0.0075,\n",
       "         -0.0094,  0.0188]])"
      ]
     },
     "execution_count": 10,
     "metadata": {},
     "output_type": "execute_result"
    }
   ],
   "source": [
    "l1t.weight.grad"
   ]
  },
  {
   "cell_type": "markdown",
   "id": "8cd35f60",
   "metadata": {},
   "source": [
    "## Giagrad"
   ]
  },
  {
   "cell_type": "code",
   "execution_count": 11,
   "id": "89f914d7",
   "metadata": {},
   "outputs": [],
   "source": [
    "X = X.detach().numpy()"
   ]
  },
  {
   "cell_type": "code",
   "execution_count": 12,
   "id": "02636ca8",
   "metadata": {},
   "outputs": [],
   "source": [
    "l1g = Linear(10, 10)\n",
    "l1g.w.data = l1t.weight.detach().numpy()\n",
    "l1g.b.data = np.expand_dims(l1t.bias.detach().numpy(), axis=0)\n",
    "\n",
    "l2g = Linear(10, 10)\n",
    "l2g.w.data = l2t.weight.detach().numpy()\n",
    "l2g.b.data = np.expand_dims(l2t.bias.detach().numpy(), axis=0)\n",
    "\n",
    "l3g = Linear(10, 1)\n",
    "l3g.w.data = l3t.weight.detach().numpy()\n",
    "l3g.b.data = np.expand_dims(l3t.bias.detach().numpy(), axis=0)"
   ]
  },
  {
   "cell_type": "code",
   "execution_count": 13,
   "id": "c2a54a26",
   "metadata": {},
   "outputs": [
    {
     "data": {
      "text/plain": [
       "0.010628916"
      ]
     },
     "execution_count": 13,
     "metadata": {},
     "output_type": "execute_result"
    }
   ],
   "source": [
    "x = l1g(X)\n",
    "x = l2g(x)\n",
    "yg = l3g(x).mean()\n",
    "yg"
   ]
  },
  {
   "cell_type": "code",
   "execution_count": 14,
   "id": "fe3352b9",
   "metadata": {},
   "outputs": [
    {
     "ename": "ValueError",
     "evalue": "non-broadcastable output operand with shape (1,10) doesn't match the broadcast shape (2,10)",
     "output_type": "error",
     "traceback": [
      "\u001b[0;31m---------------------------------------------------------------------------\u001b[0m",
      "\u001b[0;31mValueError\u001b[0m                                Traceback (most recent call last)",
      "Cell \u001b[0;32mIn [14], line 1\u001b[0m\n\u001b[0;32m----> 1\u001b[0m \u001b[43myg\u001b[49m\u001b[38;5;241;43m.\u001b[39;49m\u001b[43mbackward\u001b[49m\u001b[43m(\u001b[49m\u001b[43m)\u001b[49m\n",
      "File \u001b[0;32m~/Documentos/UPC/PROYECTOS/giagrad/tests/.././giagrad/tensor.py:103\u001b[0m, in \u001b[0;36mTensor.backward\u001b[0;34m(self, debug, grad_output)\u001b[0m\n\u001b[1;32m    100\u001b[0m     \u001b[38;5;28mself\u001b[39m\u001b[38;5;241m.\u001b[39mgrad \u001b[38;5;241m=\u001b[39m np\u001b[38;5;241m.\u001b[39mones(\u001b[38;5;28mself\u001b[39m\u001b[38;5;241m.\u001b[39mshape) \u001b[38;5;66;03m# dL/dL = 1\u001b[39;00m\n\u001b[1;32m    102\u001b[0m \u001b[38;5;28;01mfor\u001b[39;00m tensor \u001b[38;5;129;01min\u001b[39;00m \u001b[38;5;28mreversed\u001b[39m(topo):\n\u001b[0;32m--> 103\u001b[0m     \u001b[43mtensor\u001b[49m\u001b[38;5;241;43m.\u001b[39;49m\u001b[43m_ctx\u001b[49m\u001b[38;5;241;43m.\u001b[39;49m\u001b[43mbackward\u001b[49m\u001b[43m(\u001b[49m\u001b[43mtensor\u001b[49m\u001b[38;5;241;43m.\u001b[39;49m\u001b[43mgrad\u001b[49m\u001b[43m)\u001b[49m\n\u001b[1;32m    104\u001b[0m     \u001b[38;5;28;01mif\u001b[39;00m \u001b[38;5;129;01mnot\u001b[39;00m debug: \u001b[38;5;28;01mdel\u001b[39;00m tensor\u001b[38;5;241m.\u001b[39m_ctx\n",
      "File \u001b[0;32m~/Documentos/UPC/PROYECTOS/giagrad/tests/.././giagrad/mathops.py:28\u001b[0m, in \u001b[0;36mAdd.backward\u001b[0;34m(self, partial)\u001b[0m\n\u001b[1;32m     25\u001b[0m     p1\u001b[38;5;241m.\u001b[39mgrad \u001b[38;5;241m+\u001b[39m\u001b[38;5;241m=\u001b[39m partial\u001b[38;5;241m.\u001b[39msum() \u001b[38;5;28;01mif\u001b[39;00m isscalar(p1\u001b[38;5;241m.\u001b[39mdata) \u001b[38;5;28;01melse\u001b[39;00m partial  \n\u001b[1;32m     27\u001b[0m \u001b[38;5;28;01mif\u001b[39;00m p2\u001b[38;5;241m.\u001b[39mrequires_grad:\n\u001b[0;32m---> 28\u001b[0m     p2\u001b[38;5;241m.\u001b[39mgrad \u001b[38;5;241m+\u001b[39m\u001b[38;5;241m=\u001b[39m partial\u001b[38;5;241m.\u001b[39msum() \u001b[38;5;28;01mif\u001b[39;00m isscalar(p2\u001b[38;5;241m.\u001b[39mdata) \u001b[38;5;28;01melse\u001b[39;00m partial\n",
      "\u001b[0;31mValueError\u001b[0m: non-broadcastable output operand with shape (1,10) doesn't match the broadcast shape (2,10)"
     ]
    }
   ],
   "source": [
    "yg.backward()"
   ]
  },
  {
   "cell_type": "code",
   "execution_count": 17,
   "id": "ff7a18af",
   "metadata": {},
   "outputs": [
    {
     "data": {
      "text/plain": [
       "array([[ 0.2883718 ,  0.33112568,  0.08960211, -0.11284292,  0.15439382,\n",
       "         0.21765035,  0.307536  , -0.23586552,  0.06727789, -0.20235609]],\n",
       "      dtype=float32)"
      ]
     },
     "execution_count": 17,
     "metadata": {},
     "output_type": "execute_result"
    }
   ],
   "source": [
    "# GRADS\n",
    "l3g.w.grad"
   ]
  },
  {
   "cell_type": "code",
   "execution_count": null,
   "id": "fbf5cebb",
   "metadata": {},
   "outputs": [],
   "source": [
    "l2g.w.grad"
   ]
  },
  {
   "cell_type": "code",
   "execution_count": null,
   "id": "ab75fbc2",
   "metadata": {},
   "outputs": [],
   "source": [
    "l1g.w.grad"
   ]
  },
  {
   "cell_type": "code",
   "execution_count": null,
   "id": "594cd233",
   "metadata": {},
   "outputs": [],
   "source": [
    "optimizer = SGD(sum([l.parameters() for l in [l1g, l2g, l3g]], []), lr=0.1, momentum=0.9)"
   ]
  },
  {
   "cell_type": "markdown",
   "id": "1d79a78a",
   "metadata": {},
   "source": [
    "## Optimizer"
   ]
  },
  {
   "cell_type": "code",
   "execution_count": null,
   "id": "4102fd16",
   "metadata": {},
   "outputs": [],
   "source": [
    "l3g.w"
   ]
  },
  {
   "cell_type": "code",
   "execution_count": null,
   "id": "cf8be48d",
   "metadata": {},
   "outputs": [],
   "source": [
    "l3t.weight"
   ]
  },
  {
   "cell_type": "code",
   "execution_count": null,
   "id": "cf9c1d0b",
   "metadata": {},
   "outputs": [],
   "source": [
    "optimizer.step()"
   ]
  },
  {
   "cell_type": "code",
   "execution_count": null,
   "id": "00f39afb",
   "metadata": {},
   "outputs": [],
   "source": [
    "params = sum([[l.weight, l.bias] for l in [l1t, l2t, l3t]], [])\n",
    "optimizer = torch.optim.SGD(params, lr=0.1, momentum=0.9)\n",
    "optimizer.step()"
   ]
  },
  {
   "cell_type": "code",
   "execution_count": null,
   "id": "112fd558",
   "metadata": {},
   "outputs": [],
   "source": [
    "l3g.w"
   ]
  },
  {
   "cell_type": "code",
   "execution_count": null,
   "id": "2442a02b",
   "metadata": {},
   "outputs": [],
   "source": [
    "l3t.weight"
   ]
  }
 ],
 "metadata": {
  "kernelspec": {
   "display_name": "Python 3 (ipykernel)",
   "language": "python",
   "name": "python3"
  },
  "language_info": {
   "codemirror_mode": {
    "name": "ipython",
    "version": 3
   },
   "file_extension": ".py",
   "mimetype": "text/x-python",
   "name": "python",
   "nbconvert_exporter": "python",
   "pygments_lexer": "ipython3",
   "version": "3.10.6"
  }
 },
 "nbformat": 4,
 "nbformat_minor": 5
}
